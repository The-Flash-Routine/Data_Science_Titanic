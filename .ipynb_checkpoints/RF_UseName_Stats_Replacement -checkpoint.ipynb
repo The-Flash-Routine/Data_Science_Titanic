{
 "cells": [
  {
   "cell_type": "code",
   "execution_count": 324,
   "metadata": {},
   "outputs": [],
   "source": [
    "#for pandas\n",
    "import pandas as pd\n",
    "from IPython.display import display"
   ]
  },
  {
   "cell_type": "code",
   "execution_count": 325,
   "metadata": {},
   "outputs": [],
   "source": [
    "#for numpy\n",
    "import numpy as np"
   ]
  },
  {
   "cell_type": "code",
   "execution_count": 326,
   "metadata": {},
   "outputs": [],
   "source": [
    "#for visualization purpose\n",
    "import matplotlib.pyplot as plt\n",
    "import seaborn as sns"
   ]
  },
  {
   "cell_type": "code",
   "execution_count": 327,
   "metadata": {},
   "outputs": [],
   "source": [
    "import missingno as msno"
   ]
  },
  {
   "cell_type": "code",
   "execution_count": 328,
   "metadata": {},
   "outputs": [],
   "source": [
    "import re"
   ]
  },
  {
   "cell_type": "code",
   "execution_count": 329,
   "metadata": {},
   "outputs": [],
   "source": [
    "#for random forest from scikit learn\n",
    "from sklearn.ensemble import RandomForestClassifier\n",
    "from sklearn.model_selection import RandomizedSearchCV,GridSearchCV\n",
    "from sklearn.preprocessing import LabelEncoder"
   ]
  },
  {
   "cell_type": "code",
   "execution_count": 330,
   "metadata": {},
   "outputs": [],
   "source": [
    "def impute_other(data,survstats,deadstats,yos,yoc,yoq,fare_avg,istest=False):\n",
    "    if istest==True:\n",
    "        minus=1\n",
    "    else:\n",
    "        minus=0\n",
    "    \n",
    "    #now dealing with sex column\n",
    "    #as it has no null values so we just replace male by 0 and female by 1\n",
    "    data.iloc[(data[\"Sex\"]==\"male\").ravel(),4-minus]=0\n",
    "    data.iloc[(data[\"Sex\"]==\"female\").ravel(),4-minus]=1\n",
    "    \n",
    "    #now dealing with Embarked column\n",
    "    #now we deal with null values and then we just replace by 0,1,-1\n",
    "    #checking for null values\n",
    "    if istest==False:\n",
    "      captain=['S','C','Q']\n",
    "      check=data[\"Embarked\"].isnull().sum()\n",
    "      if check!=0:\n",
    "        miss=pd.isna(data[\"Embarked\"])\n",
    "        for i in range(0,len(miss)):\n",
    "          if ((miss[i]==True)&(data.iloc[i,1]==1)):\n",
    "             data.iloc[i,11]=captain[np.argmax(survstats)]\n",
    "          elif ((miss[i]==True)&(data.iloc[i,1]==0)):\n",
    "             data.iloc[i,11]=captain[np.argmax(deadstats)]\n",
    "      \n",
    "    data.iloc[(data[\"Embarked\"]==\"C\").ravel(),11-minus]=float(yoc)\n",
    "    data.iloc[(data[\"Embarked\"]==\"Q\").ravel(),11-minus]=float(yoq)\n",
    "    data.iloc[(data[\"Embarked\"]==\"S\").ravel(),11-minus]=float(yos)\n",
    "    \n",
    "    #dealing with missing fare in test set\n",
    "    check=data[\"Fare\"].isnull().sum()\n",
    "    if check!=0:\n",
    "        miss=data[\"Fare\"].index[data[\"Fare\"].apply(np.isnan)]\n",
    "        for i in miss:\n",
    "            data.iloc[i,9-minus]=fare_avg\n",
    "    \n",
    "    #converting columns to float\n",
    "    if istest==False:\n",
    "      data[\"Survived\"]=data[\"Survived\"].astype(float)\n",
    "    \n",
    "    data[\"Pclass\"]=data[\"Pclass\"].astype(float)\n",
    "    data[\"Sex\"]=data[\"Sex\"].astype(float)\n",
    "    data[\"Age\"]=data[\"Age\"].astype(float)\n",
    "    data[\"SibSp\"]=data[\"SibSp\"].astype(float)\n",
    "    data[\"Parch\"]=data[\"Parch\"].astype(float)\n",
    "    data[\"Fare\"]=data[\"Fare\"].astype(float)\n",
    "    data[\"Embarked\"]=data[\"Embarked\"].astype(float)\n",
    "\n",
    "    \n",
    "    return data"
   ]
  },
  {
   "cell_type": "code",
   "execution_count": 331,
   "metadata": {},
   "outputs": [],
   "source": [
    "def impute_own(data):\n",
    "    \n",
    "    #now dealing with sex column\n",
    "    #as it has no null values so we just replace male by 0 and female by 1\n",
    "    data.iloc[(data[\"Sex\"]==\"male\").ravel(),4]=0\n",
    "    data.iloc[(data[\"Sex\"]==\"female\").ravel(),4]=1\n",
    "    \n",
    "    #now dealing with Embarked column\n",
    "    #now we deal with null values and then we just replace by 0,1,-1\n",
    "    #checking for null values\n",
    "    surv=data.iloc[((data[\"Survived\"]==1)&(data[\"Embarked\"].notnull())).ravel(),11]\n",
    "    heys=surv.value_counts()\n",
    "    dead=data.iloc[((data[\"Survived\"]==0)&(data[\"Embarked\"].notnull())).ravel(),11]\n",
    "    heyd=dead.value_counts()\n",
    "    ss=heys[\"S\"]\n",
    "    cs=heys[\"C\"]\n",
    "    qs=heys[\"Q\"]\n",
    "    sd=heyd[\"S\"]\n",
    "    cd=heyd[\"C\"]\n",
    "    qd=heyd[\"Q\"]\n",
    "    survstats=[ss,cs,qs]\n",
    "    deadstats=[sd,cd,qd]\n",
    "    captain=['S','C','Q']\n",
    "    yos=ss/(ss+sd)\n",
    "    yoc=cs/(cs+cd)\n",
    "    yoq=qs/(qs+qd)\n",
    "    check=data[\"Embarked\"].isnull().sum()\n",
    "    if check!=0:\n",
    "      miss=pd.isna(data[\"Embarked\"])\n",
    "      for i in range(0,len(miss)):\n",
    "        if ((miss[i]==True)&(data.iloc[i,1]==1)):\n",
    "           data.iloc[i,11]=captain[np.argmax(survstats)]\n",
    "        elif ((miss[i]==True)&(data.iloc[i,1]==0)):\n",
    "           data.iloc[i,11]=captain[np.argmax(deadstats)]\n",
    "      \n",
    "    data.iloc[(data[\"Embarked\"]==\"C\").ravel(),11]=float(yoc)\n",
    "    data.iloc[(data[\"Embarked\"]==\"Q\").ravel(),11]=float(yoq)\n",
    "    data.iloc[(data[\"Embarked\"]==\"S\").ravel(),11]=float(yos)\n",
    "    \n",
    "    #dealing with missing fare in test set\n",
    "    fare_avg=(1/data.shape[0])*(data[\"Fare\"].sum())\n",
    "    \n",
    "    #converting columns to float\n",
    "    data[\"Survived\"]=data[\"Survived\"].astype(float)\n",
    "    data[\"Pclass\"]=data[\"Pclass\"].astype(float)\n",
    "    data[\"Sex\"]=data[\"Sex\"].astype(float)\n",
    "    data[\"Age\"]=data[\"Age\"].astype(float)\n",
    "    data[\"SibSp\"]=data[\"SibSp\"].astype(float)\n",
    "    data[\"Parch\"]=data[\"Parch\"].astype(float)\n",
    "    data[\"Fare\"]=data[\"Fare\"].astype(float)\n",
    "    data[\"Embarked\"]=data[\"Embarked\"].astype(float)\n",
    "\n",
    "    \n",
    "    return data,survstats,deadstats,yos,yoc,yoq,fare_avg"
   ]
  },
  {
   "cell_type": "code",
   "execution_count": 332,
   "metadata": {},
   "outputs": [],
   "source": [
    "def output_test(rf,x,filename):\n",
    "    y=np.array(rf.predict(x)).reshape(-1,1)\n",
    "    hey=np.arange(892,1310,1).reshape(-1,1)\n",
    "    filename=filename+\".csv\"\n",
    "    hey=np.hstack((hey,y))\n",
    "    np.savetxt(filename,hey,header=\"PassengerId,Survived\",delimiter=',')"
   ]
  },
  {
   "cell_type": "code",
   "execution_count": 333,
   "metadata": {},
   "outputs": [],
   "source": [
    "dfl=\"C:/Users/Ritik/Desktop/Projects_Flash/Titanic_/train.csv\""
   ]
  },
  {
   "cell_type": "code",
   "execution_count": 334,
   "metadata": {},
   "outputs": [],
   "source": [
    "datatrain=pd.read_csv(dfl,header=0)"
   ]
  },
  {
   "cell_type": "code",
   "execution_count": 335,
   "metadata": {},
   "outputs": [],
   "source": [
    "dfl=\"C:/Users/Ritik/Desktop/Projects_Flash/Titanic_/test.csv\""
   ]
  },
  {
   "cell_type": "code",
   "execution_count": 336,
   "metadata": {},
   "outputs": [],
   "source": [
    "datatest=pd.read_csv(dfl,header=0)"
   ]
  },
  {
   "cell_type": "markdown",
   "metadata": {},
   "source": [
    "Adding new column of name title....  i.e. \"Master\" or \"Mr.\" or \"Miss\"or \"Mrs\""
   ]
  },
  {
   "cell_type": "code",
   "execution_count": 337,
   "metadata": {},
   "outputs": [],
   "source": [
    "spydy=datatrain.iloc[:,3]\n",
    "ven=[]\n",
    "for i in range(0,spydy.shape[0]):\n",
    "    ele=re.search(r\", ([\\w]+).\",spydy.iloc[i]).group(1)\n",
    "    ven.append(ele)\n",
    "datatrain.insert(12,\"Extracted Title\",ven)"
   ]
  },
  {
   "cell_type": "code",
   "execution_count": 338,
   "metadata": {},
   "outputs": [],
   "source": [
    "spydy=datatest.iloc[:,2]\n",
    "ven=[]\n",
    "for i in range(0,spydy.shape[0]):\n",
    "    ele=re.search(r\", ([\\w]+).\",spydy.iloc[i]).group(1)\n",
    "    ven.append(ele)\n",
    "datatest.insert(11,\"Extracted Title\",ven)"
   ]
  },
  {
   "cell_type": "code",
   "execution_count": 339,
   "metadata": {},
   "outputs": [
    {
     "name": "stdout",
     "output_type": "stream",
     "text": [
      "['Age', 'Cabin', 'Embarked']\n"
     ]
    },
    {
     "data": {
      "text/plain": [
       "<matplotlib.axes._subplots.AxesSubplot at 0x23856aa9160>"
      ]
     },
     "execution_count": 339,
     "metadata": {},
     "output_type": "execute_result"
    },
    {
     "data": {
      "image/png": "[encoded data removed]",
      "text/plain": [
       "<matplotlib.figure.Figure at 0x23856a83048>"
      ]
     },
     "metadata": {},
     "output_type": "display_data"
    }
   ],
   "source": [
    "col_with_miss=datatrain.columns[datatrain.isnull().any()].tolist()\n",
    "print(col_with_miss)\n",
    "msno.matrix(datatrain[col_with_miss])"
   ]
  },
  {
   "cell_type": "code",
   "execution_count": 340,
   "metadata": {},
   "outputs": [
    {
     "name": "stdout",
     "output_type": "stream",
     "text": [
      "['Age', 'Fare', 'Cabin']\n"
     ]
    },
    {
     "data": {
      "text/plain": [
       "<matplotlib.axes._subplots.AxesSubplot at 0x23856b31320>"
      ]
     },
     "execution_count": 340,
     "metadata": {},
     "output_type": "execute_result"
    },
    {
     "data": {
      "image/png": "[encoded data removed]",
      "text/plain": [
       "<matplotlib.figure.Figure at 0x23856a7fe48>"
      ]
     },
     "metadata": {},
     "output_type": "display_data"
    }
   ],
   "source": [
    "col_with_miss=datatest.columns[datatest.isnull().any()].tolist()\n",
    "print(col_with_miss)\n",
    "msno.matrix(datatest[col_with_miss])"
   ]
  },
  {
   "cell_type": "code",
   "execution_count": 341,
   "metadata": {},
   "outputs": [
    {
     "data": {
      "text/plain": [
       "<matplotlib.axes._subplots.AxesSubplot at 0x23856b08240>"
      ]
     },
     "execution_count": 341,
     "metadata": {},
     "output_type": "execute_result"
    },
    {
     "data": {
      "image/png": "[encoded data removed]",
      "text/plain": [
       "<matplotlib.figure.Figure at 0x23856b08668>"
      ]
     },
     "metadata": {},
     "output_type": "display_data"
    }
   ],
   "source": [
    "colnames=datatrain.columns.values\n",
    "misscount=[datatrain[x].isnull().sum() for x in colnames]\n",
    "sns.set()\n",
    "plt.figure(figsize=(15,5))\n",
    "sns.barplot(colnames,misscount)"
   ]
  },
  {
   "cell_type": "code",
   "execution_count": 342,
   "metadata": {},
   "outputs": [
    {
     "data": {
      "text/plain": [
       "PassengerId          0\n",
       "Survived             0\n",
       "Pclass               0\n",
       "Name                 0\n",
       "Sex                  0\n",
       "Age                177\n",
       "SibSp                0\n",
       "Parch                0\n",
       "Ticket               0\n",
       "Fare                 0\n",
       "Cabin              687\n",
       "Embarked             2\n",
       "Extracted Title      0\n",
       "dtype: int64"
      ]
     },
     "execution_count": 342,
     "metadata": {},
     "output_type": "execute_result"
    }
   ],
   "source": [
    "datatrain.isnull().sum(axis=0)"
   ]
  },
  {
   "cell_type": "code",
   "execution_count": 343,
   "metadata": {},
   "outputs": [
    {
     "data": {
      "text/plain": [
       "<Container object of 12 artists>"
      ]
     },
     "execution_count": 343,
     "metadata": {},
     "output_type": "execute_result"
    },
    {
     "data": {
      "image/png": "[encoded data removed]",
      "text/plain": [
       "<matplotlib.figure.Figure at 0x23856ae0390>"
      ]
     },
     "metadata": {},
     "output_type": "display_data"
    }
   ],
   "source": [
    "plt.figure(figsize=(15,5))\n",
    "plt.barh(datatest.columns.values,datatest.isnull().sum())"
   ]
  },
  {
   "cell_type": "code",
   "execution_count": 344,
   "metadata": {},
   "outputs": [
    {
     "data": {
      "text/plain": [
       "PassengerId          0\n",
       "Pclass               0\n",
       "Name                 0\n",
       "Sex                  0\n",
       "Age                 86\n",
       "SibSp                0\n",
       "Parch                0\n",
       "Ticket               0\n",
       "Fare                 1\n",
       "Cabin              327\n",
       "Embarked             0\n",
       "Extracted Title      0\n",
       "dtype: int64"
      ]
     },
     "execution_count": 344,
     "metadata": {},
     "output_type": "execute_result"
    }
   ],
   "source": [
    "datatest.isnull().sum(axis=0)"
   ]
  },
  {
   "cell_type": "code",
   "execution_count": 345,
   "metadata": {},
   "outputs": [
    {
     "name": "stdout",
     "output_type": "stream",
     "text": [
      "0   PassengerId\n",
      "1   Survived\n",
      "2   Pclass\n",
      "3   Name\n",
      "4   Sex\n",
      "5   Age\n",
      "6   SibSp\n",
      "7   Parch\n",
      "8   Ticket\n",
      "9   Fare\n",
      "10   Cabin\n",
      "11   Embarked\n",
      "12   Extracted Title\n"
     ]
    }
   ],
   "source": [
    "colnames=datatrain.columns.values\n",
    "for i in range(0,len(colnames)):\n",
    "    print(\"%d   %s\"%(i,colnames[i]))"
   ]
  },
  {
   "cell_type": "code",
   "execution_count": 346,
   "metadata": {},
   "outputs": [
    {
     "name": "stdout",
     "output_type": "stream",
     "text": [
      "0   PassengerId\n",
      "1   Pclass\n",
      "2   Name\n",
      "3   Sex\n",
      "4   Age\n",
      "5   SibSp\n",
      "6   Parch\n",
      "7   Ticket\n",
      "8   Fare\n",
      "9   Cabin\n",
      "10   Embarked\n",
      "11   Extracted Title\n"
     ]
    }
   ],
   "source": [
    "colnames=datatest.columns.values\n",
    "for i in range(0,len(colnames)):\n",
    "    print(\"%d   %s\"%(i,colnames[i]))"
   ]
  },
  {
   "cell_type": "code",
   "execution_count": 347,
   "metadata": {},
   "outputs": [
    {
     "data": {
      "text/plain": [
       "False"
      ]
     },
     "execution_count": 347,
     "metadata": {},
     "output_type": "execute_result"
    }
   ],
   "source": [
    "datatest[\"Extracted Title\"].isnull().any()"
   ]
  },
  {
   "cell_type": "markdown",
   "metadata": {},
   "source": [
    "So,\n",
    "\n",
    "- Age column has 177 null values\n",
    "- Cabin has 687 null values\n",
    "- Embarked has 2 null values\n",
    "- Convert Embarked column to some numeric type\n",
    "- Convert Sex column to some numeric type\n",
    "- Convert every nueric column in use to float type"
   ]
  },
  {
   "cell_type": "code",
   "execution_count": 348,
   "metadata": {},
   "outputs": [
    {
     "data": {
      "text/plain": [
       "<matplotlib.axes._subplots.AxesSubplot at 0x238599358d0>"
      ]
     },
     "execution_count": 348,
     "metadata": {},
     "output_type": "execute_result"
    },
    {
     "data": {
      "image/png": "[encoded data removed]",
      "text/plain": [
       "<matplotlib.figure.Figure at 0x23859abd470>"
      ]
     },
     "metadata": {},
     "output_type": "display_data"
    }
   ],
   "source": [
    "sns.countplot(datatrain.iloc[:,12])"
   ]
  },
  {
   "cell_type": "code",
   "execution_count": 349,
   "metadata": {},
   "outputs": [
    {
     "data": {
      "text/plain": [
       "Text(0.5,1,'Dead count')"
      ]
     },
     "execution_count": 349,
     "metadata": {},
     "output_type": "execute_result"
    },
    {
     "data": {
      "image/png": "[encoded data removed]",
      "text/plain": [
       "<matplotlib.figure.Figure at 0x23856a01278>"
      ]
     },
     "metadata": {},
     "output_type": "display_data"
    }
   ],
   "source": [
    "surv=(datatrain[\"Survived\"]==1).ravel()\n",
    "dead=(datatrain[\"Survived\"]==0).ravel()\n",
    "plt.figure(figsize=(25,10))\n",
    "plt.subplot(1,2,1)\n",
    "sns.countplot(datatrain.iloc[surv,12])\n",
    "plt.title(\"Survived count\")\n",
    "plt.subplot(1,2,2)\n",
    "sns.countplot(datatrain.iloc[dead,12])\n",
    "plt.title(\"Dead count\")"
   ]
  },
  {
   "cell_type": "code",
   "execution_count": 350,
   "metadata": {},
   "outputs": [
    {
     "data": {
      "text/html": [
       "<div>\n",
       "<style scoped>\n",
       "    .dataframe tbody tr th:only-of-type {\n",
       "        vertical-align: middle;\n",
       "    }\n",
       "\n",
       "    .dataframe tbody tr th {\n",
       "        vertical-align: top;\n",
       "    }\n",
       "\n",
       "    .dataframe thead th {\n",
       "        text-align: right;\n",
       "    }\n",
       "</style>\n",
       "<table border=\"1\" class=\"dataframe\">\n",
       "  <thead>\n",
       "    <tr style=\"text-align: right;\">\n",
       "      <th></th>\n",
       "      <th>Full</th>\n",
       "      <th>Surv</th>\n",
       "      <th>dead</th>\n",
       "      <th>This</th>\n",
       "      <th>Title</th>\n",
       "    </tr>\n",
       "  </thead>\n",
       "  <tbody>\n",
       "    <tr>\n",
       "      <th>Mr</th>\n",
       "      <td>517</td>\n",
       "      <td>81.0</td>\n",
       "      <td>436.0</td>\n",
       "      <td>0.156673</td>\n",
       "      <td>Mr</td>\n",
       "    </tr>\n",
       "    <tr>\n",
       "      <th>Miss</th>\n",
       "      <td>182</td>\n",
       "      <td>127.0</td>\n",
       "      <td>55.0</td>\n",
       "      <td>0.697802</td>\n",
       "      <td>Miss</td>\n",
       "    </tr>\n",
       "    <tr>\n",
       "      <th>Mrs</th>\n",
       "      <td>125</td>\n",
       "      <td>99.0</td>\n",
       "      <td>26.0</td>\n",
       "      <td>0.792000</td>\n",
       "      <td>Mrs</td>\n",
       "    </tr>\n",
       "    <tr>\n",
       "      <th>Master</th>\n",
       "      <td>40</td>\n",
       "      <td>23.0</td>\n",
       "      <td>17.0</td>\n",
       "      <td>0.575000</td>\n",
       "      <td>Master</td>\n",
       "    </tr>\n",
       "    <tr>\n",
       "      <th>Dr</th>\n",
       "      <td>7</td>\n",
       "      <td>3.0</td>\n",
       "      <td>4.0</td>\n",
       "      <td>0.428571</td>\n",
       "      <td>Dr</td>\n",
       "    </tr>\n",
       "    <tr>\n",
       "      <th>Rev</th>\n",
       "      <td>6</td>\n",
       "      <td>0.0</td>\n",
       "      <td>6.0</td>\n",
       "      <td>0.000000</td>\n",
       "      <td>Rev</td>\n",
       "    </tr>\n",
       "    <tr>\n",
       "      <th>Major</th>\n",
       "      <td>2</td>\n",
       "      <td>1.0</td>\n",
       "      <td>1.0</td>\n",
       "      <td>0.500000</td>\n",
       "      <td>Major</td>\n",
       "    </tr>\n",
       "    <tr>\n",
       "      <th>Col</th>\n",
       "      <td>2</td>\n",
       "      <td>1.0</td>\n",
       "      <td>1.0</td>\n",
       "      <td>0.500000</td>\n",
       "      <td>Col</td>\n",
       "    </tr>\n",
       "    <tr>\n",
       "      <th>Mlle</th>\n",
       "      <td>2</td>\n",
       "      <td>2.0</td>\n",
       "      <td>0.0</td>\n",
       "      <td>1.000000</td>\n",
       "      <td>Mlle</td>\n",
       "    </tr>\n",
       "    <tr>\n",
       "      <th>Mme</th>\n",
       "      <td>1</td>\n",
       "      <td>1.0</td>\n",
       "      <td>0.0</td>\n",
       "      <td>1.000000</td>\n",
       "      <td>Mme</td>\n",
       "    </tr>\n",
       "    <tr>\n",
       "      <th>Lady</th>\n",
       "      <td>1</td>\n",
       "      <td>1.0</td>\n",
       "      <td>0.0</td>\n",
       "      <td>1.000000</td>\n",
       "      <td>Lady</td>\n",
       "    </tr>\n",
       "    <tr>\n",
       "      <th>Ms</th>\n",
       "      <td>1</td>\n",
       "      <td>1.0</td>\n",
       "      <td>0.0</td>\n",
       "      <td>1.000000</td>\n",
       "      <td>Ms</td>\n",
       "    </tr>\n",
       "    <tr>\n",
       "      <th>Capt</th>\n",
       "      <td>1</td>\n",
       "      <td>0.0</td>\n",
       "      <td>1.0</td>\n",
       "      <td>0.000000</td>\n",
       "      <td>Capt</td>\n",
       "    </tr>\n",
       "    <tr>\n",
       "      <th>Jonkheer</th>\n",
       "      <td>1</td>\n",
       "      <td>0.0</td>\n",
       "      <td>1.0</td>\n",
       "      <td>0.000000</td>\n",
       "      <td>Jonkheer</td>\n",
       "    </tr>\n",
       "    <tr>\n",
       "      <th>the</th>\n",
       "      <td>1</td>\n",
       "      <td>1.0</td>\n",
       "      <td>0.0</td>\n",
       "      <td>1.000000</td>\n",
       "      <td>the</td>\n",
       "    </tr>\n",
       "    <tr>\n",
       "      <th>Don</th>\n",
       "      <td>1</td>\n",
       "      <td>0.0</td>\n",
       "      <td>1.0</td>\n",
       "      <td>0.000000</td>\n",
       "      <td>Don</td>\n",
       "    </tr>\n",
       "    <tr>\n",
       "      <th>Sir</th>\n",
       "      <td>1</td>\n",
       "      <td>1.0</td>\n",
       "      <td>0.0</td>\n",
       "      <td>1.000000</td>\n",
       "      <td>Sir</td>\n",
       "    </tr>\n",
       "  </tbody>\n",
       "</table>\n",
       "</div>"
      ],
      "text/plain": [
       "          Full   Surv   dead      This     Title\n",
       "Mr         517   81.0  436.0  0.156673        Mr\n",
       "Miss       182  127.0   55.0  0.697802      Miss\n",
       "Mrs        125   99.0   26.0  0.792000       Mrs\n",
       "Master      40   23.0   17.0  0.575000    Master\n",
       "Dr           7    3.0    4.0  0.428571        Dr\n",
       "Rev          6    0.0    6.0  0.000000       Rev\n",
       "Major        2    1.0    1.0  0.500000     Major\n",
       "Col          2    1.0    1.0  0.500000       Col\n",
       "Mlle         2    2.0    0.0  1.000000      Mlle\n",
       "Mme          1    1.0    0.0  1.000000       Mme\n",
       "Lady         1    1.0    0.0  1.000000      Lady\n",
       "Ms           1    1.0    0.0  1.000000        Ms\n",
       "Capt         1    0.0    1.0  0.000000      Capt\n",
       "Jonkheer     1    0.0    1.0  0.000000  Jonkheer\n",
       "the          1    1.0    0.0  1.000000       the\n",
       "Don          1    0.0    1.0  0.000000       Don\n",
       "Sir          1    1.0    0.0  1.000000       Sir"
      ]
     },
     "metadata": {},
     "output_type": "display_data"
    }
   ],
   "source": [
    "spy=datatrain.iloc[:,12].value_counts()\n",
    "spysurv=datatrain.iloc[(datatrain[\"Survived\"]==1).ravel(),12].value_counts()\n",
    "spydead=datatrain.iloc[(datatrain[\"Survived\"]==0).ravel(),12].value_counts()\n",
    "row_namesspy=spy.index.values\n",
    "len1=len(spy)-len(spysurv)\n",
    "len2=len(spy)-len(spydead)\n",
    "spysurv=spysurv.append(pd.Series(np.zeros(len1)))\n",
    "spysurv=spysurv.reindex(row_namesspy)\n",
    "spydead=spydead.append(pd.Series(np.zeros(len2)))\n",
    "spydead=spydead.reindex(row_namesspy)\n",
    "new_=pd.DataFrame(None)\n",
    "new_.insert(0,\"dead\",spydead)\n",
    "new_.insert(0,\"Surv\",spysurv)\n",
    "new_.insert(0,\"Full\",spy)\n",
    "new_=new_.fillna(0)\n",
    "replay=new_[\"Surv\"]/(new_[\"Surv\"]+new_[\"dead\"])\n",
    "new_.insert(3,\"This\",replay)\n",
    "new_.insert(4,\"Title\",row_namesspy)\n",
    "display(new_)\n"
   ]
  },
  {
   "cell_type": "code",
   "execution_count": 351,
   "metadata": {},
   "outputs": [
    {
     "name": "stdout",
     "output_type": "stream",
     "text": [
      "0   PassengerId\n",
      "1   Survived\n",
      "2   Pclass\n",
      "3   Name\n",
      "4   Sex\n",
      "5   Age\n",
      "6   SibSp\n",
      "7   Parch\n",
      "8   Ticket\n",
      "9   Fare\n",
      "10   Cabin\n",
      "11   Embarked\n",
      "12   Extracted Title\n",
      "13   Name_derived\n"
     ]
    }
   ],
   "source": [
    "add_newdata=[]\n",
    "for i in range(0,datatrain.shape[0]):\n",
    "    for j in range(0,new_.shape[0]):\n",
    "      if datatrain.iloc[i,12]==new_.iloc[j,4]:\n",
    "        add_newdata.append(new_.iloc[j,3])\n",
    "        break\n",
    "datatrain.insert(13,\"Name_derived\",pd.Series(add_newdata))\n",
    "colnames=datatrain.columns.values\n",
    "for i in range(0,len(colnames)):\n",
    "    print(\"%d   %s\"%(i,colnames[i]))"
   ]
  },
  {
   "cell_type": "code",
   "execution_count": 352,
   "metadata": {},
   "outputs": [
    {
     "name": "stdout",
     "output_type": "stream",
     "text": [
      "0   PassengerId\n",
      "1   Pclass\n",
      "2   Name\n",
      "3   Sex\n",
      "4   Age\n",
      "5   SibSp\n",
      "6   Parch\n",
      "7   Ticket\n",
      "8   Fare\n",
      "9   Cabin\n",
      "10   Embarked\n",
      "11   Extracted Title\n",
      "12   Name_derived\n"
     ]
    }
   ],
   "source": [
    "add_newdata=[]\n",
    "\n",
    "for i in range(0,datatest.shape[0]):\n",
    "    if datatest.iloc[i,11]==\"Dona\":\n",
    "        add_newdata.append(1)\n",
    "    else:\n",
    "      for j in range(0,new_.shape[0]):\n",
    "        if datatest.iloc[i,11]==new_.iloc[j,4]:\n",
    "          add_newdata.append(new_.iloc[j,3])\n",
    "          break\n",
    "datatest.insert(12,\"Name_derived\",pd.Series(add_newdata))\n",
    "colnames=datatest.columns.values\n",
    "for i in range(0,len(colnames)):\n",
    "    print(\"%d   %s\"%(i,colnames[i]))"
   ]
  },
  {
   "cell_type": "markdown",
   "metadata": {},
   "source": [
    "Now dealing with missing age"
   ]
  },
  {
   "cell_type": "code",
   "execution_count": 353,
   "metadata": {},
   "outputs": [],
   "source": [
    "surv=datatrain[\"Age\"].notnull()\n",
    "\n",
    "survMr=(surv&(datatrain[\"Extracted Title\"]==\"Mr\"))\n",
    "survMrs=(surv&(datatrain[\"Extracted Title\"]==\"Mrs\"))\n",
    "survMiss=(surv&(datatrain[\"Extracted Title\"]==\"Miss\"))\n",
    "survMaster=(surv&(datatrain[\"Extracted Title\"]==\"Master\"))\n",
    "\n",
    "hey=((datatrain[\"Extracted Title\"]!=\"Mr\")&\n",
    "     (datatrain[\"Extracted Title\"]!=\"Mrs\")&\n",
    "     (datatrain[\"Extracted Title\"]!=\"Miss\")&\n",
    "     (datatrain[\"Extracted Title\"]!=\"Master\"))\n",
    "survOther=(surv&hey)\n",
    "\n",
    "mean_Mr=datatrain.iloc[survMr.ravel(),5].mean()\n",
    "mean_Mrs=datatrain.iloc[survMrs.ravel(),5].mean()\n",
    "mean_Miss=datatrain.iloc[survMiss.ravel(),5].mean()\n",
    "mean_Master=datatrain.iloc[survMaster.ravel(),5].mean()\n",
    "mean_other=datatrain.iloc[survOther.ravel(),5].mean()"
   ]
  },
  {
   "cell_type": "code",
   "execution_count": 354,
   "metadata": {},
   "outputs": [],
   "source": [
    "null_index=datatrain[\"Age\"].index[datatrain[\"Age\"].apply(np.isnan)]\n",
    "\n",
    "for ind in null_index:\n",
    "    if datatrain.iloc[ind,12]==\"Mr\":\n",
    "        datatrain.iloc[ind,5]=mean_Mr\n",
    "    elif datatrain.iloc[ind,12]==\"Mrs\":\n",
    "        datatrain.iloc[ind,5]=mean_Mrs\n",
    "    elif datatrain.iloc[ind,12]==\"Miss\":\n",
    "        datatrain.iloc[ind,5]=mean_Miss\n",
    "    elif datatrain.iloc[ind,12]==\"Master\":\n",
    "        datatrain.iloc[ind,5]=mean_Master\n",
    "    else:\n",
    "        datatrain.iloc[ind,5]=mean_other\n",
    "    "
   ]
  },
  {
   "cell_type": "code",
   "execution_count": 355,
   "metadata": {},
   "outputs": [],
   "source": [
    "null_index=datatest[\"Age\"].index[datatest[\"Age\"].apply(np.isnan)]\n",
    "\n",
    "for ind in null_index:\n",
    "    if datatest.iloc[ind,11]==\"Mr\":\n",
    "        datatest.iloc[ind,4]=mean_Mr\n",
    "    elif datatest.iloc[ind,11]==\"Mrs\":\n",
    "        datatest.iloc[ind,4]=mean_Mrs\n",
    "    elif datatest.iloc[ind,11]==\"Miss\":\n",
    "        datatest.iloc[ind,4]=mean_Miss\n",
    "    elif datatest.iloc[ind,11]==\"Master\":\n",
    "        datatest.iloc[ind,4]=mean_Master\n",
    "    else:\n",
    "        datatest.iloc[ind,4]=mean_other"
   ]
  },
  {
   "cell_type": "code",
   "execution_count": 356,
   "metadata": {},
   "outputs": [],
   "source": [
    "listy=[2,4,5,6,7,9,11,13]\n",
    "listu=np.array(listy)-1"
   ]
  },
  {
   "cell_type": "markdown",
   "metadata": {},
   "source": [
    "Here we will use Random Forest Model"
   ]
  },
  {
   "cell_type": "code",
   "execution_count": 357,
   "metadata": {},
   "outputs": [],
   "source": [
    "datatrain_new,survstats,deadstats,yos,yoc,yoq,fare_avg=impute_own(datatrain)"
   ]
  },
  {
   "cell_type": "code",
   "execution_count": 358,
   "metadata": {},
   "outputs": [],
   "source": [
    "datatest_new=impute_other(datatest,survstats,deadstats,yos,yoc,yoq,fare_avg,True)"
   ]
  },
  {
   "cell_type": "code",
   "execution_count": 359,
   "metadata": {},
   "outputs": [
    {
     "data": {
      "text/plain": [
       "PassengerId          int64\n",
       "Survived           float64\n",
       "Pclass             float64\n",
       "Name                object\n",
       "Sex                float64\n",
       "Age                float64\n",
       "SibSp              float64\n",
       "Parch              float64\n",
       "Ticket              object\n",
       "Fare               float64\n",
       "Cabin               object\n",
       "Embarked           float64\n",
       "Extracted Title     object\n",
       "Name_derived       float64\n",
       "dtype: object"
      ]
     },
     "execution_count": 359,
     "metadata": {},
     "output_type": "execute_result"
    }
   ],
   "source": [
    "datatrain_new.dtypes"
   ]
  },
  {
   "cell_type": "code",
   "execution_count": 360,
   "metadata": {},
   "outputs": [
    {
     "data": {
      "text/plain": [
       "PassengerId          int64\n",
       "Pclass             float64\n",
       "Name                object\n",
       "Sex                float64\n",
       "Age                float64\n",
       "SibSp              float64\n",
       "Parch              float64\n",
       "Ticket              object\n",
       "Fare               float64\n",
       "Cabin               object\n",
       "Embarked           float64\n",
       "Extracted Title     object\n",
       "Name_derived       float64\n",
       "dtype: object"
      ]
     },
     "execution_count": 360,
     "metadata": {},
     "output_type": "execute_result"
    }
   ],
   "source": [
    "datatest_new.dtypes"
   ]
  },
  {
   "cell_type": "code",
   "execution_count": 361,
   "metadata": {},
   "outputs": [],
   "source": [
    "xtrain=np.array(datatrain_new.iloc[:,listy])\n",
    "ytrain=np.array(datatrain_new.iloc[:,1]).reshape(-1,1)\n",
    "xtest=np.array(datatest_new.iloc[:,listu])"
   ]
  },
  {
   "cell_type": "markdown",
   "metadata": {},
   "source": [
    "Now implementing Random Forest model\n",
    "\n",
    "First we will use RandomizedSearchCV"
   ]
  },
  {
   "cell_type": "code",
   "execution_count": 73,
   "metadata": {},
   "outputs": [
    {
     "data": {
      "text/plain": [
       "<bound method BaseEstimator.get_params of RandomForestClassifier(bootstrap=True, class_weight=None, criterion='gini',\n",
       "            max_depth=None, max_features='auto', max_leaf_nodes=None,\n",
       "            min_impurity_decrease=0.0, min_impurity_split=None,\n",
       "            min_samples_leaf=1, min_samples_split=2,\n",
       "            min_weight_fraction_leaf=0.0, n_estimators=10, n_jobs=1,\n",
       "            oob_score=False, random_state=None, verbose=0,\n",
       "            warm_start=False)>"
      ]
     },
     "execution_count": 73,
     "metadata": {},
     "output_type": "execute_result"
    }
   ],
   "source": [
    "rf=RandomForestClassifier()\n",
    "rf.get_params"
   ]
  },
  {
   "cell_type": "code",
   "execution_count": 74,
   "metadata": {},
   "outputs": [],
   "source": [
    "params_try={\"n_estimators\":[int(i) for i in np.linspace(10,200,30)],  \n",
    "            \"max_depth\":[int(i) for i in np.linspace(10, 110,30)], \n",
    "            \"min_samples_split\":[2,5,10,15,20,25,30], \n",
    "            \"min_samples_leaf\":[int(i) for i in np.linspace(1,50,30)], \n",
    "            \"max_features\":['auto','sqrt'],  \n",
    "            \"bootstrap\":[True,False],   \n",
    "            }"
   ]
  },
  {
   "cell_type": "code",
   "execution_count": 75,
   "metadata": {},
   "outputs": [
    {
     "name": "stdout",
     "output_type": "stream",
     "text": [
      "Fitting 5 folds for each of 700 candidates, totalling 3500 fits\n"
     ]
    },
    {
     "name": "stderr",
     "output_type": "stream",
     "text": [
      "[Parallel(n_jobs=-1)]: Done  33 tasks      | elapsed:    4.9s\n",
      "[Parallel(n_jobs=-1)]: Done 154 tasks      | elapsed:   14.3s\n",
      "[Parallel(n_jobs=-1)]: Done 357 tasks      | elapsed:   33.3s\n",
      "[Parallel(n_jobs=-1)]: Done 654 tasks      | elapsed:   59.7s\n",
      "[Parallel(n_jobs=-1)]: Done 1019 tasks      | elapsed:  1.6min\n",
      "[Parallel(n_jobs=-1)]: Done 1464 tasks      | elapsed:  2.3min\n",
      "[Parallel(n_jobs=-1)]: Done 1991 tasks      | elapsed:  3.8min\n",
      "[Parallel(n_jobs=-1)]: Done 2598 tasks      | elapsed:  6.8min\n",
      "[Parallel(n_jobs=-1)]: Done 3287 tasks      | elapsed:  9.8min\n",
      "[Parallel(n_jobs=-1)]: Done 3500 out of 3500 | elapsed: 10.4min finished\n"
     ]
    }
   ],
   "source": [
    "random_search=RandomizedSearchCV(rf,param_distributions=params_try,n_iter=700,cv=5,verbose=2,random_state=91,n_jobs=-1)\n",
    "random_search=random_search.fit(xtrain,ytrain.ravel())"
   ]
  },
  {
   "cell_type": "code",
   "execution_count": 76,
   "metadata": {},
   "outputs": [
    {
     "name": "stdout",
     "output_type": "stream",
     "text": [
      "{'n_estimators': 75, 'min_samples_split': 15, 'min_samples_leaf': 2, 'max_features': 'sqrt', 'max_depth': 96, 'bootstrap': True}\n"
     ]
    }
   ],
   "source": [
    "best_random_params=random_search.best_params_\n",
    "print(best_random_params)"
   ]
  },
  {
   "cell_type": "code",
   "execution_count": 77,
   "metadata": {},
   "outputs": [],
   "source": [
    "#features selected by random estimation\n",
    "ran_n_estimators=best_random_params[\"n_estimators\"]\n",
    "ran_min_samples_split=best_random_params[\"min_samples_split\"]\n",
    "ran_min_samples_leaf=best_random_params[\"min_samples_leaf\"]\n",
    "ran_max_features=best_random_params[\"max_features\"]\n",
    "ran_max_depth=best_random_params[\"max_depth\"]\n",
    "ran_bootstrap=best_random_params[\"bootstrap\"]"
   ]
  },
  {
   "cell_type": "code",
   "execution_count": 78,
   "metadata": {},
   "outputs": [
    {
     "name": "stdout",
     "output_type": "stream",
     "text": [
      "RandomForestClassifier(bootstrap=True, class_weight=None, criterion='gini',\n",
      "            max_depth=None, max_features='auto', max_leaf_nodes=None,\n",
      "            min_impurity_decrease=0.0, min_impurity_split=None,\n",
      "            min_samples_leaf=1, min_samples_split=2,\n",
      "            min_weight_fraction_leaf=0.0, n_estimators=10, n_jobs=1,\n",
      "            oob_score=False, random_state=None, verbose=0,\n",
      "            warm_start=False)\n"
     ]
    }
   ],
   "source": [
    "rf=RandomForestClassifier()\n",
    "print(rf)"
   ]
  },
  {
   "cell_type": "code",
   "execution_count": 79,
   "metadata": {},
   "outputs": [],
   "source": [
    "params_try={\"n_estimators\":[int(i) for i in np.linspace(ran_n_estimators-10,ran_n_estimators+20,30)],  \n",
    "            \"max_depth\":[int(i) for i in np.linspace(ran_max_depth-10,ran_max_depth+10,20)], \n",
    "            \"min_samples_split\":[int(i) for i in np.linspace(ran_min_samples_split,ran_min_samples_split+10,5)], \n",
    "            \"min_samples_leaf\":[int(i) for i in np.linspace(ran_min_samples_leaf,ran_min_samples_leaf+20,10)], \n",
    "            \"max_features\":[ran_max_features],\n",
    "            \"bootstrap\":[ran_bootstrap]   \n",
    "            }"
   ]
  },
  {
   "cell_type": "code",
   "execution_count": 80,
   "metadata": {
    "scrolled": false
   },
   "outputs": [
    {
     "name": "stdout",
     "output_type": "stream",
     "text": [
      "Fitting 3 folds for each of 30000 candidates, totalling 90000 fits\n"
     ]
    },
    {
     "name": "stderr",
     "output_type": "stream",
     "text": [
      "[Parallel(n_jobs=-1)]: Done  33 tasks      | elapsed:   14.1s\n",
      "[Parallel(n_jobs=-1)]: Done 154 tasks      | elapsed:   50.7s\n",
      "[Parallel(n_jobs=-1)]: Done 357 tasks      | elapsed:  1.8min\n",
      "[Parallel(n_jobs=-1)]: Done 640 tasks      | elapsed:  2.8min\n",
      "[Parallel(n_jobs=-1)]: Done 1005 tasks      | elapsed:  4.2min\n",
      "[Parallel(n_jobs=-1)]: Done 1450 tasks      | elapsed:  5.8min\n",
      "[Parallel(n_jobs=-1)]: Done 1977 tasks      | elapsed:  7.5min\n",
      "[Parallel(n_jobs=-1)]: Done 2584 tasks      | elapsed:  9.0min\n",
      "[Parallel(n_jobs=-1)]: Done 3273 tasks      | elapsed: 10.7min\n",
      "[Parallel(n_jobs=-1)]: Done 4042 tasks      | elapsed: 12.7min\n",
      "[Parallel(n_jobs=-1)]: Done 4893 tasks      | elapsed: 14.6min\n",
      "[Parallel(n_jobs=-1)]: Done 5824 tasks      | elapsed: 17.0min\n",
      "[Parallel(n_jobs=-1)]: Done 6837 tasks      | elapsed: 19.6min\n",
      "[Parallel(n_jobs=-1)]: Done 7930 tasks      | elapsed: 22.2min\n",
      "[Parallel(n_jobs=-1)]: Done 9105 tasks      | elapsed: 24.9min\n",
      "[Parallel(n_jobs=-1)]: Done 10360 tasks      | elapsed: 28.0min\n",
      "[Parallel(n_jobs=-1)]: Done 11697 tasks      | elapsed: 31.3min\n",
      "[Parallel(n_jobs=-1)]: Done 13114 tasks      | elapsed: 34.9min\n",
      "[Parallel(n_jobs=-1)]: Done 14613 tasks      | elapsed: 39.4min\n",
      "[Parallel(n_jobs=-1)]: Done 16192 tasks      | elapsed: 44.3min\n",
      "[Parallel(n_jobs=-1)]: Done 17853 tasks      | elapsed: 49.3min\n",
      "[Parallel(n_jobs=-1)]: Done 19594 tasks      | elapsed: 53.7min\n",
      "[Parallel(n_jobs=-1)]: Done 21417 tasks      | elapsed: 59.5min\n",
      "[Parallel(n_jobs=-1)]: Done 23320 tasks      | elapsed: 64.7min\n",
      "[Parallel(n_jobs=-1)]: Done 25305 tasks      | elapsed: 71.0min\n",
      "[Parallel(n_jobs=-1)]: Done 27370 tasks      | elapsed: 77.4min\n",
      "[Parallel(n_jobs=-1)]: Done 29517 tasks      | elapsed: 83.9min\n",
      "[Parallel(n_jobs=-1)]: Done 31744 tasks      | elapsed: 89.1min\n",
      "[Parallel(n_jobs=-1)]: Done 34053 tasks      | elapsed: 97.1min\n",
      "[Parallel(n_jobs=-1)]: Done 36442 tasks      | elapsed: 104.8min\n",
      "[Parallel(n_jobs=-1)]: Done 38913 tasks      | elapsed: 112.9min\n",
      "[Parallel(n_jobs=-1)]: Done 41464 tasks      | elapsed: 115.8min\n",
      "[Parallel(n_jobs=-1)]: Done 44097 tasks      | elapsed: 118.7min\n",
      "[Parallel(n_jobs=-1)]: Done 46810 tasks      | elapsed: 121.8min\n",
      "[Parallel(n_jobs=-1)]: Done 49605 tasks      | elapsed: 125.4min\n",
      "[Parallel(n_jobs=-1)]: Done 52480 tasks      | elapsed: 129.4min\n",
      "[Parallel(n_jobs=-1)]: Done 55437 tasks      | elapsed: 133.3min\n",
      "[Parallel(n_jobs=-1)]: Done 58474 tasks      | elapsed: 137.4min\n",
      "[Parallel(n_jobs=-1)]: Done 61593 tasks      | elapsed: 141.9min\n",
      "[Parallel(n_jobs=-1)]: Done 64792 tasks      | elapsed: 146.5min\n",
      "[Parallel(n_jobs=-1)]: Done 68073 tasks      | elapsed: 151.1min\n",
      "[Parallel(n_jobs=-1)]: Done 71434 tasks      | elapsed: 155.8min\n",
      "[Parallel(n_jobs=-1)]: Done 74877 tasks      | elapsed: 160.8min\n",
      "[Parallel(n_jobs=-1)]: Done 78400 tasks      | elapsed: 171.0min\n",
      "[Parallel(n_jobs=-1)]: Done 82005 tasks      | elapsed: 183.4min\n",
      "[Parallel(n_jobs=-1)]: Done 85690 tasks      | elapsed: 194.6min\n",
      "[Parallel(n_jobs=-1)]: Done 89457 tasks      | elapsed: 203.3min\n",
      "[Parallel(n_jobs=-1)]: Done 90000 out of 90000 | elapsed: 204.5min finished\n"
     ]
    },
    {
     "data": {
      "text/plain": [
       "GridSearchCV(cv=3, error_score='raise',\n",
       "       estimator=RandomForestClassifier(bootstrap=True, class_weight=None, criterion='gini',\n",
       "            max_depth=None, max_features='auto', max_leaf_nodes=None,\n",
       "            min_impurity_decrease=0.0, min_impurity_split=None,\n",
       "            min_samples_leaf=1, min_samples_split=2,\n",
       "            min_weight_fraction_leaf=0.0, n_estimators=10, n_jobs=1,\n",
       "            oob_score=False, random_state=None, verbose=0,\n",
       "            warm_start=False),\n",
       "       fit_params=None, iid=True, n_jobs=-1,\n",
       "       param_grid={'n_estimators': [65, 66, 67, 68, 69, 70, 71, 72, 73, 74, 75, 76, 77, 78, 79, 80, 81, 82, 83, 84, 85, 86, 87, 88, 89, 90, 91, 92, 93, 95], 'max_depth': [86, 87, 88, 89, 90, 91, 92, 93, 94, 95, 96, 97, 98, 99, 100, 101, 102, 103, 104, 106], 'min_samples_split': [15, 17, 20, 22, 25], 'min_samples_leaf': [2, 4, 6, 8, 10, 13, 15, 17, 19, 22], 'max_features': ['sqrt'], 'bootstrap': [True]},\n",
       "       pre_dispatch='2*n_jobs', refit=True, return_train_score='warn',\n",
       "       scoring=None, verbose=2)"
      ]
     },
     "execution_count": 80,
     "metadata": {},
     "output_type": "execute_result"
    }
   ],
   "source": [
    "grid_search=GridSearchCV(rf,param_grid=params_try,cv=3,n_jobs=-1,verbose = 2)\n",
    "grid_search.fit(xtrain,ytrain.ravel())"
   ]
  },
  {
   "cell_type": "code",
   "execution_count": 81,
   "metadata": {},
   "outputs": [
    {
     "name": "stdout",
     "output_type": "stream",
     "text": [
      "{'bootstrap': True, 'max_depth': 92, 'max_features': 'sqrt', 'min_samples_leaf': 2, 'min_samples_split': 15, 'n_estimators': 90}\n"
     ]
    }
   ],
   "source": [
    "grid_best_params=grid_search.best_params_\n",
    "print(grid_best_params)\n",
    "best_rf_grid=grid_search.best_estimator_"
   ]
  },
  {
   "cell_type": "code",
   "execution_count": 362,
   "metadata": {},
   "outputs": [],
   "source": [
    "output_test(best_rf_grid,xtest,\"RF_newcol_stats_submission_three\")"
   ]
  },
  {
   "cell_type": "code",
   "execution_count": null,
   "metadata": {},
   "outputs": [],
   "source": []
  }
 ],
 "metadata": {
  "kernelspec": {
   "display_name": "Python 3",
   "language": "python",
   "name": "python3"
  },
  "language_info": {
   "codemirror_mode": {
    "name": "ipython",
    "version": 3
   },
   "file_extension": ".py",
   "mimetype": "text/x-python",
   "name": "python",
   "nbconvert_exporter": "python",
   "pygments_lexer": "ipython3",
   "version": "3.6.4"
  }
 },
 "nbformat": 4,
 "nbformat_minor": 2
}
