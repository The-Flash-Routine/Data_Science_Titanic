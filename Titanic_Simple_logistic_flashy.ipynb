{
 "cells": [
  {
   "cell_type": "code",
   "execution_count": 1,
   "metadata": {},
   "outputs": [],
   "source": [
    "#for pandas\n",
    "import pandas as pd"
   ]
  },
  {
   "cell_type": "code",
   "execution_count": 2,
   "metadata": {},
   "outputs": [],
   "source": [
    "#for numpy\n",
    "import numpy as np"
   ]
  },
  {
   "cell_type": "code",
   "execution_count": 3,
   "metadata": {},
   "outputs": [],
   "source": [
    "#for plotting purpose\n",
    "import matplotlib.pyplot as plt"
   ]
  },
  {
   "cell_type": "code",
   "execution_count": 4,
   "metadata": {},
   "outputs": [],
   "source": [
    "#fr better visualizing purpose\n",
    "import seaborn as sns"
   ]
  },
  {
   "cell_type": "code",
   "execution_count": 5,
   "metadata": {},
   "outputs": [],
   "source": [
    "#for transforming degree one or simple features to polynomial features\n",
    "from sklearn.preprocessing import PolynomialFeatures "
   ]
  },
  {
   "cell_type": "code",
   "execution_count": 6,
   "metadata": {},
   "outputs": [],
   "source": [
    "#computing sigmoid function\n",
    "def gz(theta,x):\n",
    "    hey=x.dot(theta)\n",
    "    hey=1+np.exp((-1)*hey)\n",
    "    hey=1/hey\n",
    "    return hey"
   ]
  },
  {
   "cell_type": "code",
   "execution_count": 7,
   "metadata": {},
   "outputs": [],
   "source": [
    "#computing error-cost or log cost for logistic regression\n",
    "def compute_cost(theta,x,y,lambo=0):\n",
    "    m=x.shape[0]\n",
    "    hey=gz(theta,x)\n",
    "    cost=(1/m)*np.sum(((-y)*(np.log(hey)))-((1-y)*(np.log(1-hey))))\n",
    "    cost=cost+(lambo/(2*m))*np.sum(theta[1:]**2)\n",
    "    return cost"
   ]
  },
  {
   "cell_type": "code",
   "execution_count": 8,
   "metadata": {},
   "outputs": [],
   "source": [
    "#computes gradient at particular point\n",
    "def compute_grad(theta,x,y,lambo=0):\n",
    "    hey=gz(theta,x)\n",
    "    m=x.shape[0]\n",
    "    grad=(1/m)*(np.transpose(x).dot(hey-y))\n",
    "    grad[1:]=grad[1:]+(lambo/m)*(theta[1:])\n",
    "    return grad"
   ]
  },
  {
   "cell_type": "code",
   "execution_count": 9,
   "metadata": {},
   "outputs": [],
   "source": [
    "#scale self features and return mean and variance\n",
    "def feature_scale_own(x):\n",
    "    m=x.shape[0]\n",
    "    mu=(1/m)*np.sum(x,axis=0)\n",
    "    sig=np.std(x,axis=0,ddof=1)\n",
    "    mu[0]=0\n",
    "    sig[0]=1\n",
    "    x=(x-mu)/sig\n",
    "    return x,mu,sig"
   ]
  },
  {
   "cell_type": "code",
   "execution_count": 10,
   "metadata": {},
   "outputs": [],
   "source": [
    "#scale itself using mean and variance of some other set\n",
    "def feature_scale_other(x,mu,sig):\n",
    "    x=(x-mu)/sig\n",
    "    return x"
   ]
  },
  {
   "cell_type": "code",
   "execution_count": 11,
   "metadata": {},
   "outputs": [],
   "source": [
    "#master function to replicate modifications made in training set to validation and training set\n",
    "def all_in_one_conv(data,yom,yof,yoc,yoq,yos,yo1,yo2,farerem=False,testclass=False):\n",
    "    if testclass==False:\n",
    "      minus=0\n",
    "    elif testclass==True:\n",
    "      minus=1\n",
    "    #\"Sex\" column treartment\n",
    "    data.iloc[(data[\"Sex\"]==\"male\").ravel(),(4-minus)]=float(yom)\n",
    "    data.iloc[(data[\"Sex\"]==\"female\").ravel(),(4-minus)]=float(yof)    \n",
    "    #\"Age\" column treatment\n",
    "    nullind=data[\"Age\"].index[data[\"Age\"].apply(np.isnan)]\n",
    "    if testclass==False:\n",
    "      for i in nullind:\n",
    "          if data.iloc[i,1]==1:\n",
    "              data.iloc[i,5]=float(yo1)\n",
    "          else:\n",
    "              data.iloc[i,5]=float(yo2)\n",
    "    elif testclass==True:\n",
    "        for i in nullind:\n",
    "            data.iloc[i,(5-minus)]=float((yo1+yo2)/2)\n",
    "            \n",
    "    #\"Embarked\" column treatment\n",
    "    data.iloc[(data[\"Embarked\"]==\"C\").ravel(),(11-minus)]=float(yoc)\n",
    "    data.iloc[(data[\"Embarked\"]==\"Q\").ravel(),(11-minus)]=float(yoq)\n",
    "    data.iloc[(data[\"Embarked\"]==\"S\").ravel(),(11-minus)]=float(yos)\n",
    "    \n",
    "    #if fare values are missing then we remove them\n",
    "    if farerem==True:\n",
    "        ind=data[\"Fare\"].index[data[\"Fare\"].apply(np.isnan)]\n",
    "        data=data.drop(ind)\n",
    "        data=data.reset_index(drop=True)\n",
    "    return data\n"
   ]
  },
  {
   "cell_type": "code",
   "execution_count": 12,
   "metadata": {},
   "outputs": [],
   "source": [
    "#output test set predictions\n",
    "def test_output(theta,x,threshold):\n",
    "    hey=gz(theta,x)\n",
    "    hey=(hey>threshold).ravel()\n",
    "    hey=hey.astype(int)\n",
    "    return hey"
   ]
  },
  {
   "cell_type": "code",
   "execution_count": 13,
   "metadata": {},
   "outputs": [],
   "source": [
    "#compute accuracy of classification based on right or wrong prediction numbers\n",
    "def compute_acc(theta,x,y,ep):\n",
    "    hey=gz(theta,x)\n",
    "    m=x.shape[0]\n",
    "    hey=(hey>ep).reshape(-1,1)\n",
    "    hey=hey.astype(float)\n",
    "    c=(hey==y)\n",
    "    d=(np.sum(c))/m\n",
    "    return d\n"
   ]
  },
  {
   "cell_type": "code",
   "execution_count": 14,
   "metadata": {},
   "outputs": [],
   "source": [
    "#location of training set csv file\n",
    "dataloc=\"C:/Users/Ritik/Desktop/Projects_Flash/Titanic_/train.csv\""
   ]
  },
  {
   "cell_type": "code",
   "execution_count": 15,
   "metadata": {},
   "outputs": [],
   "source": [
    "#loading training set into program\n",
    "data=pd.read_csv(dataloc,header=0)"
   ]
  },
  {
   "cell_type": "code",
   "execution_count": 16,
   "metadata": {},
   "outputs": [
    {
     "data": {
      "text/html": [
       "<div>\n",
       "<style scoped>\n",
       "    .dataframe tbody tr th:only-of-type {\n",
       "        vertical-align: middle;\n",
       "    }\n",
       "\n",
       "    .dataframe tbody tr th {\n",
       "        vertical-align: top;\n",
       "    }\n",
       "\n",
       "    .dataframe thead th {\n",
       "        text-align: right;\n",
       "    }\n",
       "</style>\n",
       "<table border=\"1\" class=\"dataframe\">\n",
       "  <thead>\n",
       "    <tr style=\"text-align: right;\">\n",
       "      <th></th>\n",
       "      <th>PassengerId</th>\n",
       "      <th>Survived</th>\n",
       "      <th>Pclass</th>\n",
       "      <th>Name</th>\n",
       "      <th>Sex</th>\n",
       "      <th>Age</th>\n",
       "      <th>SibSp</th>\n",
       "      <th>Parch</th>\n",
       "      <th>Ticket</th>\n",
       "      <th>Fare</th>\n",
       "      <th>Cabin</th>\n",
       "      <th>Embarked</th>\n",
       "    </tr>\n",
       "  </thead>\n",
       "  <tbody>\n",
       "    <tr>\n",
       "      <th>0</th>\n",
       "      <td>1</td>\n",
       "      <td>0</td>\n",
       "      <td>3</td>\n",
       "      <td>Braund, Mr. Owen Harris</td>\n",
       "      <td>male</td>\n",
       "      <td>22.0</td>\n",
       "      <td>1</td>\n",
       "      <td>0</td>\n",
       "      <td>A/5 21171</td>\n",
       "      <td>7.2500</td>\n",
       "      <td>NaN</td>\n",
       "      <td>S</td>\n",
       "    </tr>\n",
       "    <tr>\n",
       "      <th>1</th>\n",
       "      <td>2</td>\n",
       "      <td>1</td>\n",
       "      <td>1</td>\n",
       "      <td>Cumings, Mrs. John Bradley (Florence Briggs Th...</td>\n",
       "      <td>female</td>\n",
       "      <td>38.0</td>\n",
       "      <td>1</td>\n",
       "      <td>0</td>\n",
       "      <td>PC 17599</td>\n",
       "      <td>71.2833</td>\n",
       "      <td>C85</td>\n",
       "      <td>C</td>\n",
       "    </tr>\n",
       "    <tr>\n",
       "      <th>2</th>\n",
       "      <td>3</td>\n",
       "      <td>1</td>\n",
       "      <td>3</td>\n",
       "      <td>Heikkinen, Miss. Laina</td>\n",
       "      <td>female</td>\n",
       "      <td>26.0</td>\n",
       "      <td>0</td>\n",
       "      <td>0</td>\n",
       "      <td>STON/O2. 3101282</td>\n",
       "      <td>7.9250</td>\n",
       "      <td>NaN</td>\n",
       "      <td>S</td>\n",
       "    </tr>\n",
       "    <tr>\n",
       "      <th>3</th>\n",
       "      <td>4</td>\n",
       "      <td>1</td>\n",
       "      <td>1</td>\n",
       "      <td>Futrelle, Mrs. Jacques Heath (Lily May Peel)</td>\n",
       "      <td>female</td>\n",
       "      <td>35.0</td>\n",
       "      <td>1</td>\n",
       "      <td>0</td>\n",
       "      <td>113803</td>\n",
       "      <td>53.1000</td>\n",
       "      <td>C123</td>\n",
       "      <td>S</td>\n",
       "    </tr>\n",
       "    <tr>\n",
       "      <th>4</th>\n",
       "      <td>5</td>\n",
       "      <td>0</td>\n",
       "      <td>3</td>\n",
       "      <td>Allen, Mr. William Henry</td>\n",
       "      <td>male</td>\n",
       "      <td>35.0</td>\n",
       "      <td>0</td>\n",
       "      <td>0</td>\n",
       "      <td>373450</td>\n",
       "      <td>8.0500</td>\n",
       "      <td>NaN</td>\n",
       "      <td>S</td>\n",
       "    </tr>\n",
       "  </tbody>\n",
       "</table>\n",
       "</div>"
      ],
      "text/plain": [
       "   PassengerId  Survived  Pclass  \\\n",
       "0            1         0       3   \n",
       "1            2         1       1   \n",
       "2            3         1       3   \n",
       "3            4         1       1   \n",
       "4            5         0       3   \n",
       "\n",
       "                                                Name     Sex   Age  SibSp  \\\n",
       "0                            Braund, Mr. Owen Harris    male  22.0      1   \n",
       "1  Cumings, Mrs. John Bradley (Florence Briggs Th...  female  38.0      1   \n",
       "2                             Heikkinen, Miss. Laina  female  26.0      0   \n",
       "3       Futrelle, Mrs. Jacques Heath (Lily May Peel)  female  35.0      1   \n",
       "4                           Allen, Mr. William Henry    male  35.0      0   \n",
       "\n",
       "   Parch            Ticket     Fare Cabin Embarked  \n",
       "0      0         A/5 21171   7.2500   NaN        S  \n",
       "1      0          PC 17599  71.2833   C85        C  \n",
       "2      0  STON/O2. 3101282   7.9250   NaN        S  \n",
       "3      0            113803  53.1000  C123        S  \n",
       "4      0            373450   8.0500   NaN        S  "
      ]
     },
     "execution_count": 16,
     "metadata": {},
     "output_type": "execute_result"
    }
   ],
   "source": [
    "data.head()"
   ]
  },
  {
   "cell_type": "code",
   "execution_count": 17,
   "metadata": {},
   "outputs": [
    {
     "data": {
      "text/html": [
       "<div>\n",
       "<style scoped>\n",
       "    .dataframe tbody tr th:only-of-type {\n",
       "        vertical-align: middle;\n",
       "    }\n",
       "\n",
       "    .dataframe tbody tr th {\n",
       "        vertical-align: top;\n",
       "    }\n",
       "\n",
       "    .dataframe thead th {\n",
       "        text-align: right;\n",
       "    }\n",
       "</style>\n",
       "<table border=\"1\" class=\"dataframe\">\n",
       "  <thead>\n",
       "    <tr style=\"text-align: right;\">\n",
       "      <th></th>\n",
       "      <th>PassengerId</th>\n",
       "      <th>Survived</th>\n",
       "      <th>Pclass</th>\n",
       "      <th>Age</th>\n",
       "      <th>SibSp</th>\n",
       "      <th>Parch</th>\n",
       "      <th>Fare</th>\n",
       "    </tr>\n",
       "  </thead>\n",
       "  <tbody>\n",
       "    <tr>\n",
       "      <th>count</th>\n",
       "      <td>891.000000</td>\n",
       "      <td>891.000000</td>\n",
       "      <td>891.000000</td>\n",
       "      <td>714.000000</td>\n",
       "      <td>891.000000</td>\n",
       "      <td>891.000000</td>\n",
       "      <td>891.000000</td>\n",
       "    </tr>\n",
       "    <tr>\n",
       "      <th>mean</th>\n",
       "      <td>446.000000</td>\n",
       "      <td>0.383838</td>\n",
       "      <td>2.308642</td>\n",
       "      <td>29.699118</td>\n",
       "      <td>0.523008</td>\n",
       "      <td>0.381594</td>\n",
       "      <td>32.204208</td>\n",
       "    </tr>\n",
       "    <tr>\n",
       "      <th>std</th>\n",
       "      <td>257.353842</td>\n",
       "      <td>0.486592</td>\n",
       "      <td>0.836071</td>\n",
       "      <td>14.526497</td>\n",
       "      <td>1.102743</td>\n",
       "      <td>0.806057</td>\n",
       "      <td>49.693429</td>\n",
       "    </tr>\n",
       "    <tr>\n",
       "      <th>min</th>\n",
       "      <td>1.000000</td>\n",
       "      <td>0.000000</td>\n",
       "      <td>1.000000</td>\n",
       "      <td>0.420000</td>\n",
       "      <td>0.000000</td>\n",
       "      <td>0.000000</td>\n",
       "      <td>0.000000</td>\n",
       "    </tr>\n",
       "    <tr>\n",
       "      <th>25%</th>\n",
       "      <td>223.500000</td>\n",
       "      <td>0.000000</td>\n",
       "      <td>2.000000</td>\n",
       "      <td>20.125000</td>\n",
       "      <td>0.000000</td>\n",
       "      <td>0.000000</td>\n",
       "      <td>7.910400</td>\n",
       "    </tr>\n",
       "    <tr>\n",
       "      <th>50%</th>\n",
       "      <td>446.000000</td>\n",
       "      <td>0.000000</td>\n",
       "      <td>3.000000</td>\n",
       "      <td>28.000000</td>\n",
       "      <td>0.000000</td>\n",
       "      <td>0.000000</td>\n",
       "      <td>14.454200</td>\n",
       "    </tr>\n",
       "    <tr>\n",
       "      <th>75%</th>\n",
       "      <td>668.500000</td>\n",
       "      <td>1.000000</td>\n",
       "      <td>3.000000</td>\n",
       "      <td>38.000000</td>\n",
       "      <td>1.000000</td>\n",
       "      <td>0.000000</td>\n",
       "      <td>31.000000</td>\n",
       "    </tr>\n",
       "    <tr>\n",
       "      <th>max</th>\n",
       "      <td>891.000000</td>\n",
       "      <td>1.000000</td>\n",
       "      <td>3.000000</td>\n",
       "      <td>80.000000</td>\n",
       "      <td>8.000000</td>\n",
       "      <td>6.000000</td>\n",
       "      <td>512.329200</td>\n",
       "    </tr>\n",
       "  </tbody>\n",
       "</table>\n",
       "</div>"
      ],
      "text/plain": [
       "       PassengerId    Survived      Pclass         Age       SibSp  \\\n",
       "count   891.000000  891.000000  891.000000  714.000000  891.000000   \n",
       "mean    446.000000    0.383838    2.308642   29.699118    0.523008   \n",
       "std     257.353842    0.486592    0.836071   14.526497    1.102743   \n",
       "min       1.000000    0.000000    1.000000    0.420000    0.000000   \n",
       "25%     223.500000    0.000000    2.000000   20.125000    0.000000   \n",
       "50%     446.000000    0.000000    3.000000   28.000000    0.000000   \n",
       "75%     668.500000    1.000000    3.000000   38.000000    1.000000   \n",
       "max     891.000000    1.000000    3.000000   80.000000    8.000000   \n",
       "\n",
       "            Parch        Fare  \n",
       "count  891.000000  891.000000  \n",
       "mean     0.381594   32.204208  \n",
       "std      0.806057   49.693429  \n",
       "min      0.000000    0.000000  \n",
       "25%      0.000000    7.910400  \n",
       "50%      0.000000   14.454200  \n",
       "75%      0.000000   31.000000  \n",
       "max      6.000000  512.329200  "
      ]
     },
     "execution_count": 17,
     "metadata": {},
     "output_type": "execute_result"
    }
   ],
   "source": [
    "data.describe()"
   ]
  },
  {
   "cell_type": "code",
   "execution_count": 18,
   "metadata": {},
   "outputs": [
    {
     "data": {
      "text/plain": [
       "PassengerId      int64\n",
       "Survived         int64\n",
       "Pclass           int64\n",
       "Name            object\n",
       "Sex             object\n",
       "Age            float64\n",
       "SibSp            int64\n",
       "Parch            int64\n",
       "Ticket          object\n",
       "Fare           float64\n",
       "Cabin           object\n",
       "Embarked        object\n",
       "dtype: object"
      ]
     },
     "execution_count": 18,
     "metadata": {},
     "output_type": "execute_result"
    }
   ],
   "source": [
    "data.dtypes"
   ]
  },
  {
   "cell_type": "code",
   "execution_count": 19,
   "metadata": {},
   "outputs": [],
   "source": [
    "#now we can take random 30% of total set and put it in validation set as test set we are provided with by problem setter himself\n",
    "#approx 30% of 891 is 270 "
   ]
  },
  {
   "cell_type": "code",
   "execution_count": 20,
   "metadata": {},
   "outputs": [],
   "source": [
    "random_index=np.arange(0,891,1)\n",
    "np.random.shuffle(random_index)"
   ]
  },
  {
   "cell_type": "code",
   "execution_count": 21,
   "metadata": {},
   "outputs": [],
   "source": [
    "#shuffling data\n",
    "data=data.iloc[(random_index.ravel()),:]"
   ]
  },
  {
   "cell_type": "code",
   "execution_count": 22,
   "metadata": {},
   "outputs": [
    {
     "name": "stdout",
     "output_type": "stream",
     "text": [
      "(270, 12)\n",
      "(621, 12)\n"
     ]
    }
   ],
   "source": [
    "#dividing\n",
    "dataval=data.iloc[0:270,:]\n",
    "datatrain=data.iloc[270:891,:]\n",
    "dataval=dataval.reset_index(drop=True)\n",
    "datatrain=datatrain.reset_index(drop=True)\n",
    "print(dataval.shape)\n",
    "print(datatrain.shape)"
   ]
  },
  {
   "cell_type": "code",
   "execution_count": 23,
   "metadata": {},
   "outputs": [
    {
     "data": {
      "text/html": [
       "<div>\n",
       "<style scoped>\n",
       "    .dataframe tbody tr th:only-of-type {\n",
       "        vertical-align: middle;\n",
       "    }\n",
       "\n",
       "    .dataframe tbody tr th {\n",
       "        vertical-align: top;\n",
       "    }\n",
       "\n",
       "    .dataframe thead th {\n",
       "        text-align: right;\n",
       "    }\n",
       "</style>\n",
       "<table border=\"1\" class=\"dataframe\">\n",
       "  <thead>\n",
       "    <tr style=\"text-align: right;\">\n",
       "      <th></th>\n",
       "      <th>PassengerId</th>\n",
       "      <th>Survived</th>\n",
       "      <th>Pclass</th>\n",
       "      <th>Name</th>\n",
       "      <th>Sex</th>\n",
       "      <th>Age</th>\n",
       "      <th>SibSp</th>\n",
       "      <th>Parch</th>\n",
       "      <th>Ticket</th>\n",
       "      <th>Fare</th>\n",
       "      <th>Cabin</th>\n",
       "      <th>Embarked</th>\n",
       "    </tr>\n",
       "  </thead>\n",
       "  <tbody>\n",
       "    <tr>\n",
       "      <th>0</th>\n",
       "      <td>323</td>\n",
       "      <td>1</td>\n",
       "      <td>2</td>\n",
       "      <td>Slayter, Miss. Hilda Mary</td>\n",
       "      <td>female</td>\n",
       "      <td>30.0</td>\n",
       "      <td>0</td>\n",
       "      <td>0</td>\n",
       "      <td>234818</td>\n",
       "      <td>12.3500</td>\n",
       "      <td>NaN</td>\n",
       "      <td>Q</td>\n",
       "    </tr>\n",
       "    <tr>\n",
       "      <th>1</th>\n",
       "      <td>161</td>\n",
       "      <td>0</td>\n",
       "      <td>3</td>\n",
       "      <td>Cribb, Mr. John Hatfield</td>\n",
       "      <td>male</td>\n",
       "      <td>44.0</td>\n",
       "      <td>0</td>\n",
       "      <td>1</td>\n",
       "      <td>371362</td>\n",
       "      <td>16.1000</td>\n",
       "      <td>NaN</td>\n",
       "      <td>S</td>\n",
       "    </tr>\n",
       "    <tr>\n",
       "      <th>2</th>\n",
       "      <td>548</td>\n",
       "      <td>1</td>\n",
       "      <td>2</td>\n",
       "      <td>Padro y Manent, Mr. Julian</td>\n",
       "      <td>male</td>\n",
       "      <td>NaN</td>\n",
       "      <td>0</td>\n",
       "      <td>0</td>\n",
       "      <td>SC/PARIS 2146</td>\n",
       "      <td>13.8625</td>\n",
       "      <td>NaN</td>\n",
       "      <td>C</td>\n",
       "    </tr>\n",
       "    <tr>\n",
       "      <th>3</th>\n",
       "      <td>840</td>\n",
       "      <td>1</td>\n",
       "      <td>1</td>\n",
       "      <td>Marechal, Mr. Pierre</td>\n",
       "      <td>male</td>\n",
       "      <td>NaN</td>\n",
       "      <td>0</td>\n",
       "      <td>0</td>\n",
       "      <td>11774</td>\n",
       "      <td>29.7000</td>\n",
       "      <td>C47</td>\n",
       "      <td>C</td>\n",
       "    </tr>\n",
       "    <tr>\n",
       "      <th>4</th>\n",
       "      <td>550</td>\n",
       "      <td>1</td>\n",
       "      <td>2</td>\n",
       "      <td>Davies, Master. John Morgan Jr</td>\n",
       "      <td>male</td>\n",
       "      <td>8.0</td>\n",
       "      <td>1</td>\n",
       "      <td>1</td>\n",
       "      <td>C.A. 33112</td>\n",
       "      <td>36.7500</td>\n",
       "      <td>NaN</td>\n",
       "      <td>S</td>\n",
       "    </tr>\n",
       "  </tbody>\n",
       "</table>\n",
       "</div>"
      ],
      "text/plain": [
       "   PassengerId  Survived  Pclass                            Name     Sex  \\\n",
       "0          323         1       2       Slayter, Miss. Hilda Mary  female   \n",
       "1          161         0       3        Cribb, Mr. John Hatfield    male   \n",
       "2          548         1       2      Padro y Manent, Mr. Julian    male   \n",
       "3          840         1       1            Marechal, Mr. Pierre    male   \n",
       "4          550         1       2  Davies, Master. John Morgan Jr    male   \n",
       "\n",
       "    Age  SibSp  Parch         Ticket     Fare Cabin Embarked  \n",
       "0  30.0      0      0         234818  12.3500   NaN        Q  \n",
       "1  44.0      0      1         371362  16.1000   NaN        S  \n",
       "2   NaN      0      0  SC/PARIS 2146  13.8625   NaN        C  \n",
       "3   NaN      0      0          11774  29.7000   C47        C  \n",
       "4   8.0      1      1     C.A. 33112  36.7500   NaN        S  "
      ]
     },
     "execution_count": 23,
     "metadata": {},
     "output_type": "execute_result"
    }
   ],
   "source": [
    "datatrain.head()"
   ]
  },
  {
   "cell_type": "code",
   "execution_count": 24,
   "metadata": {},
   "outputs": [
    {
     "data": {
      "text/html": [
       "<div>\n",
       "<style scoped>\n",
       "    .dataframe tbody tr th:only-of-type {\n",
       "        vertical-align: middle;\n",
       "    }\n",
       "\n",
       "    .dataframe tbody tr th {\n",
       "        vertical-align: top;\n",
       "    }\n",
       "\n",
       "    .dataframe thead th {\n",
       "        text-align: right;\n",
       "    }\n",
       "</style>\n",
       "<table border=\"1\" class=\"dataframe\">\n",
       "  <thead>\n",
       "    <tr style=\"text-align: right;\">\n",
       "      <th></th>\n",
       "      <th>PassengerId</th>\n",
       "      <th>Survived</th>\n",
       "      <th>Pclass</th>\n",
       "      <th>Age</th>\n",
       "      <th>SibSp</th>\n",
       "      <th>Parch</th>\n",
       "      <th>Fare</th>\n",
       "    </tr>\n",
       "  </thead>\n",
       "  <tbody>\n",
       "    <tr>\n",
       "      <th>count</th>\n",
       "      <td>621.000000</td>\n",
       "      <td>621.000000</td>\n",
       "      <td>621.000000</td>\n",
       "      <td>495.000000</td>\n",
       "      <td>621.000000</td>\n",
       "      <td>621.000000</td>\n",
       "      <td>621.000000</td>\n",
       "    </tr>\n",
       "    <tr>\n",
       "      <th>mean</th>\n",
       "      <td>446.962963</td>\n",
       "      <td>0.371981</td>\n",
       "      <td>2.331723</td>\n",
       "      <td>29.276606</td>\n",
       "      <td>0.536232</td>\n",
       "      <td>0.376812</td>\n",
       "      <td>31.375724</td>\n",
       "    </tr>\n",
       "    <tr>\n",
       "      <th>std</th>\n",
       "      <td>260.057234</td>\n",
       "      <td>0.483723</td>\n",
       "      <td>0.832471</td>\n",
       "      <td>14.341233</td>\n",
       "      <td>1.111839</td>\n",
       "      <td>0.796996</td>\n",
       "      <td>46.302171</td>\n",
       "    </tr>\n",
       "    <tr>\n",
       "      <th>min</th>\n",
       "      <td>1.000000</td>\n",
       "      <td>0.000000</td>\n",
       "      <td>1.000000</td>\n",
       "      <td>0.420000</td>\n",
       "      <td>0.000000</td>\n",
       "      <td>0.000000</td>\n",
       "      <td>0.000000</td>\n",
       "    </tr>\n",
       "    <tr>\n",
       "      <th>25%</th>\n",
       "      <td>214.000000</td>\n",
       "      <td>0.000000</td>\n",
       "      <td>2.000000</td>\n",
       "      <td>20.000000</td>\n",
       "      <td>0.000000</td>\n",
       "      <td>0.000000</td>\n",
       "      <td>7.895800</td>\n",
       "    </tr>\n",
       "    <tr>\n",
       "      <th>50%</th>\n",
       "      <td>452.000000</td>\n",
       "      <td>0.000000</td>\n",
       "      <td>3.000000</td>\n",
       "      <td>28.000000</td>\n",
       "      <td>0.000000</td>\n",
       "      <td>0.000000</td>\n",
       "      <td>13.858300</td>\n",
       "    </tr>\n",
       "    <tr>\n",
       "      <th>75%</th>\n",
       "      <td>675.000000</td>\n",
       "      <td>1.000000</td>\n",
       "      <td>3.000000</td>\n",
       "      <td>38.000000</td>\n",
       "      <td>1.000000</td>\n",
       "      <td>0.000000</td>\n",
       "      <td>30.695800</td>\n",
       "    </tr>\n",
       "    <tr>\n",
       "      <th>max</th>\n",
       "      <td>889.000000</td>\n",
       "      <td>1.000000</td>\n",
       "      <td>3.000000</td>\n",
       "      <td>71.000000</td>\n",
       "      <td>8.000000</td>\n",
       "      <td>5.000000</td>\n",
       "      <td>512.329200</td>\n",
       "    </tr>\n",
       "  </tbody>\n",
       "</table>\n",
       "</div>"
      ],
      "text/plain": [
       "       PassengerId    Survived      Pclass         Age       SibSp  \\\n",
       "count   621.000000  621.000000  621.000000  495.000000  621.000000   \n",
       "mean    446.962963    0.371981    2.331723   29.276606    0.536232   \n",
       "std     260.057234    0.483723    0.832471   14.341233    1.111839   \n",
       "min       1.000000    0.000000    1.000000    0.420000    0.000000   \n",
       "25%     214.000000    0.000000    2.000000   20.000000    0.000000   \n",
       "50%     452.000000    0.000000    3.000000   28.000000    0.000000   \n",
       "75%     675.000000    1.000000    3.000000   38.000000    1.000000   \n",
       "max     889.000000    1.000000    3.000000   71.000000    8.000000   \n",
       "\n",
       "            Parch        Fare  \n",
       "count  621.000000  621.000000  \n",
       "mean     0.376812   31.375724  \n",
       "std      0.796996   46.302171  \n",
       "min      0.000000    0.000000  \n",
       "25%      0.000000    7.895800  \n",
       "50%      0.000000   13.858300  \n",
       "75%      0.000000   30.695800  \n",
       "max      5.000000  512.329200  "
      ]
     },
     "execution_count": 24,
     "metadata": {},
     "output_type": "execute_result"
    }
   ],
   "source": [
    "datatrain.describe()"
   ]
  },
  {
   "cell_type": "code",
   "execution_count": 25,
   "metadata": {},
   "outputs": [
    {
     "data": {
      "text/html": [
       "<div>\n",
       "<style scoped>\n",
       "    .dataframe tbody tr th:only-of-type {\n",
       "        vertical-align: middle;\n",
       "    }\n",
       "\n",
       "    .dataframe tbody tr th {\n",
       "        vertical-align: top;\n",
       "    }\n",
       "\n",
       "    .dataframe thead th {\n",
       "        text-align: right;\n",
       "    }\n",
       "</style>\n",
       "<table border=\"1\" class=\"dataframe\">\n",
       "  <thead>\n",
       "    <tr style=\"text-align: right;\">\n",
       "      <th></th>\n",
       "      <th>PassengerId</th>\n",
       "      <th>Survived</th>\n",
       "      <th>Pclass</th>\n",
       "      <th>Name</th>\n",
       "      <th>Sex</th>\n",
       "      <th>Age</th>\n",
       "      <th>SibSp</th>\n",
       "      <th>Parch</th>\n",
       "      <th>Ticket</th>\n",
       "      <th>Fare</th>\n",
       "      <th>Cabin</th>\n",
       "      <th>Embarked</th>\n",
       "    </tr>\n",
       "  </thead>\n",
       "  <tbody>\n",
       "    <tr>\n",
       "      <th>0</th>\n",
       "      <td>705</td>\n",
       "      <td>0</td>\n",
       "      <td>3</td>\n",
       "      <td>Hansen, Mr. Henrik Juul</td>\n",
       "      <td>male</td>\n",
       "      <td>26.0</td>\n",
       "      <td>1</td>\n",
       "      <td>0</td>\n",
       "      <td>350025</td>\n",
       "      <td>7.8542</td>\n",
       "      <td>NaN</td>\n",
       "      <td>S</td>\n",
       "    </tr>\n",
       "    <tr>\n",
       "      <th>1</th>\n",
       "      <td>193</td>\n",
       "      <td>1</td>\n",
       "      <td>3</td>\n",
       "      <td>Andersen-Jensen, Miss. Carla Christine Nielsine</td>\n",
       "      <td>female</td>\n",
       "      <td>19.0</td>\n",
       "      <td>1</td>\n",
       "      <td>0</td>\n",
       "      <td>350046</td>\n",
       "      <td>7.8542</td>\n",
       "      <td>NaN</td>\n",
       "      <td>S</td>\n",
       "    </tr>\n",
       "    <tr>\n",
       "      <th>2</th>\n",
       "      <td>509</td>\n",
       "      <td>0</td>\n",
       "      <td>3</td>\n",
       "      <td>Olsen, Mr. Henry Margido</td>\n",
       "      <td>male</td>\n",
       "      <td>28.0</td>\n",
       "      <td>0</td>\n",
       "      <td>0</td>\n",
       "      <td>C 4001</td>\n",
       "      <td>22.5250</td>\n",
       "      <td>NaN</td>\n",
       "      <td>S</td>\n",
       "    </tr>\n",
       "    <tr>\n",
       "      <th>3</th>\n",
       "      <td>325</td>\n",
       "      <td>0</td>\n",
       "      <td>3</td>\n",
       "      <td>Sage, Mr. George John Jr</td>\n",
       "      <td>male</td>\n",
       "      <td>NaN</td>\n",
       "      <td>8</td>\n",
       "      <td>2</td>\n",
       "      <td>CA. 2343</td>\n",
       "      <td>69.5500</td>\n",
       "      <td>NaN</td>\n",
       "      <td>S</td>\n",
       "    </tr>\n",
       "    <tr>\n",
       "      <th>4</th>\n",
       "      <td>490</td>\n",
       "      <td>1</td>\n",
       "      <td>3</td>\n",
       "      <td>Coutts, Master. Eden Leslie \"Neville\"</td>\n",
       "      <td>male</td>\n",
       "      <td>9.0</td>\n",
       "      <td>1</td>\n",
       "      <td>1</td>\n",
       "      <td>C.A. 37671</td>\n",
       "      <td>15.9000</td>\n",
       "      <td>NaN</td>\n",
       "      <td>S</td>\n",
       "    </tr>\n",
       "  </tbody>\n",
       "</table>\n",
       "</div>"
      ],
      "text/plain": [
       "   PassengerId  Survived  Pclass  \\\n",
       "0          705         0       3   \n",
       "1          193         1       3   \n",
       "2          509         0       3   \n",
       "3          325         0       3   \n",
       "4          490         1       3   \n",
       "\n",
       "                                              Name     Sex   Age  SibSp  \\\n",
       "0                          Hansen, Mr. Henrik Juul    male  26.0      1   \n",
       "1  Andersen-Jensen, Miss. Carla Christine Nielsine  female  19.0      1   \n",
       "2                         Olsen, Mr. Henry Margido    male  28.0      0   \n",
       "3                         Sage, Mr. George John Jr    male   NaN      8   \n",
       "4            Coutts, Master. Eden Leslie \"Neville\"    male   9.0      1   \n",
       "\n",
       "   Parch      Ticket     Fare Cabin Embarked  \n",
       "0      0      350025   7.8542   NaN        S  \n",
       "1      0      350046   7.8542   NaN        S  \n",
       "2      0      C 4001  22.5250   NaN        S  \n",
       "3      2    CA. 2343  69.5500   NaN        S  \n",
       "4      1  C.A. 37671  15.9000   NaN        S  "
      ]
     },
     "execution_count": 25,
     "metadata": {},
     "output_type": "execute_result"
    }
   ],
   "source": [
    "dataval.head()"
   ]
  },
  {
   "cell_type": "code",
   "execution_count": 26,
   "metadata": {},
   "outputs": [],
   "source": [
    "#now doing refining or correcting process"
   ]
  },
  {
   "cell_type": "code",
   "execution_count": 27,
   "metadata": {},
   "outputs": [],
   "source": [
    "#clearly many of the values are missing from the Age column"
   ]
  },
  {
   "cell_type": "code",
   "execution_count": 28,
   "metadata": {},
   "outputs": [
    {
     "data": {
      "image/png": "[encoded data removed]",
      "text/plain": [
       "<matplotlib.figure.Figure at 0x1872cc33ef0>"
      ]
     },
     "metadata": {},
     "output_type": "display_data"
    }
   ],
   "source": [
    "on=((datatrain[\"Survived\"]==1)&(datatrain[\"Age\"].notnull())).ravel()\n",
    "off=((datatrain[\"Survived\"]==0)&(datatrain[\"Age\"].notnull())).ravel()\n",
    "hey=np.array(datatrain.iloc[on,5])\n",
    "heyo=np.array(datatrain.iloc[off,5])\n",
    "plt.figure(figsize=(10,5))\n",
    "plt.subplot(1,2,1)\n",
    "ax1=sns.distplot(hey,bins=25)\n",
    "plt.xticks(np.arange(0,100,10))\n",
    "plt.legend([\"Survived=1\"])\n",
    "plt.subplot(1,2,2)\n",
    "ax2=sns.distplot(heyo,bins=25)\n",
    "plt.xticks(np.arange(0,100,10))\n",
    "plt.legend([\"Survived=0\"])\n",
    "plt.tight_layout()"
   ]
  },
  {
   "cell_type": "code",
   "execution_count": 29,
   "metadata": {},
   "outputs": [
    {
     "name": "stdout",
     "output_type": "stream",
     "text": [
      "26.07848123540728 24.239574480301602\n"
     ]
    }
   ],
   "source": [
    "x1,y1=ax1.lines[0].get_data()\n",
    "x2,y2=ax2.lines[0].get_data()\n",
    "yo1=x1[np.argmax(y1)]\n",
    "yo2=x2[np.argmax(y2)]\n",
    "print(yo1,yo2)"
   ]
  },
  {
   "cell_type": "code",
   "execution_count": 30,
   "metadata": {},
   "outputs": [],
   "source": [
    "#WHAT I DID\n",
    "#SAY FOR EXAMPLE\n",
    "#so in survive maximum number of people survived who had age 30 approx\n",
    "#and people who didnt survive in them the most common age was around 28\n",
    "\n",
    "#so we will replace missing blocks in age column with 33 if survive ==1\n",
    "# and 28 if survive==0"
   ]
  },
  {
   "cell_type": "code",
   "execution_count": 31,
   "metadata": {},
   "outputs": [
    {
     "name": "stdout",
     "output_type": "stream",
     "text": [
      "Int64Index([  2,   3,   8,  19,  25,  26,  32,  40,  43,  49,\n",
      "            ...\n",
      "            562, 563, 571, 578, 583, 584, 585, 596, 605, 610],\n",
      "           dtype='int64', length=126)\n"
     ]
    }
   ],
   "source": [
    "#first identify indexes with null values\n",
    "nullind=datatrain[\"Age\"].index[datatrain[\"Age\"].apply(np.isnan)]\n",
    "print(nullind)"
   ]
  },
  {
   "cell_type": "code",
   "execution_count": 32,
   "metadata": {},
   "outputs": [],
   "source": [
    "for i in nullind:\n",
    "    if datatrain.iloc[i,1]==1:\n",
    "      datatrain.iloc[i,5]=float(yo1)\n",
    "    else:\n",
    "      datatrain.iloc[i,5]=float(yo2)"
   ]
  },
  {
   "cell_type": "code",
   "execution_count": 33,
   "metadata": {},
   "outputs": [
    {
     "data": {
      "text/html": [
       "<div>\n",
       "<style scoped>\n",
       "    .dataframe tbody tr th:only-of-type {\n",
       "        vertical-align: middle;\n",
       "    }\n",
       "\n",
       "    .dataframe tbody tr th {\n",
       "        vertical-align: top;\n",
       "    }\n",
       "\n",
       "    .dataframe thead th {\n",
       "        text-align: right;\n",
       "    }\n",
       "</style>\n",
       "<table border=\"1\" class=\"dataframe\">\n",
       "  <thead>\n",
       "    <tr style=\"text-align: right;\">\n",
       "      <th></th>\n",
       "      <th>PassengerId</th>\n",
       "      <th>Survived</th>\n",
       "      <th>Pclass</th>\n",
       "      <th>Age</th>\n",
       "      <th>SibSp</th>\n",
       "      <th>Parch</th>\n",
       "      <th>Fare</th>\n",
       "    </tr>\n",
       "  </thead>\n",
       "  <tbody>\n",
       "    <tr>\n",
       "      <th>count</th>\n",
       "      <td>621.000000</td>\n",
       "      <td>621.000000</td>\n",
       "      <td>621.000000</td>\n",
       "      <td>621.000000</td>\n",
       "      <td>621.000000</td>\n",
       "      <td>621.000000</td>\n",
       "      <td>621.000000</td>\n",
       "    </tr>\n",
       "    <tr>\n",
       "      <th>mean</th>\n",
       "      <td>446.962963</td>\n",
       "      <td>0.371981</td>\n",
       "      <td>2.331723</td>\n",
       "      <td>28.254600</td>\n",
       "      <td>0.536232</td>\n",
       "      <td>0.376812</td>\n",
       "      <td>31.375724</td>\n",
       "    </tr>\n",
       "    <tr>\n",
       "      <th>std</th>\n",
       "      <td>260.057234</td>\n",
       "      <td>0.483723</td>\n",
       "      <td>0.832471</td>\n",
       "      <td>12.960838</td>\n",
       "      <td>1.111839</td>\n",
       "      <td>0.796996</td>\n",
       "      <td>46.302171</td>\n",
       "    </tr>\n",
       "    <tr>\n",
       "      <th>min</th>\n",
       "      <td>1.000000</td>\n",
       "      <td>0.000000</td>\n",
       "      <td>1.000000</td>\n",
       "      <td>0.420000</td>\n",
       "      <td>0.000000</td>\n",
       "      <td>0.000000</td>\n",
       "      <td>0.000000</td>\n",
       "    </tr>\n",
       "    <tr>\n",
       "      <th>25%</th>\n",
       "      <td>214.000000</td>\n",
       "      <td>0.000000</td>\n",
       "      <td>2.000000</td>\n",
       "      <td>22.000000</td>\n",
       "      <td>0.000000</td>\n",
       "      <td>0.000000</td>\n",
       "      <td>7.895800</td>\n",
       "    </tr>\n",
       "    <tr>\n",
       "      <th>50%</th>\n",
       "      <td>452.000000</td>\n",
       "      <td>0.000000</td>\n",
       "      <td>3.000000</td>\n",
       "      <td>24.239574</td>\n",
       "      <td>0.000000</td>\n",
       "      <td>0.000000</td>\n",
       "      <td>13.858300</td>\n",
       "    </tr>\n",
       "    <tr>\n",
       "      <th>75%</th>\n",
       "      <td>675.000000</td>\n",
       "      <td>1.000000</td>\n",
       "      <td>3.000000</td>\n",
       "      <td>35.000000</td>\n",
       "      <td>1.000000</td>\n",
       "      <td>0.000000</td>\n",
       "      <td>30.695800</td>\n",
       "    </tr>\n",
       "    <tr>\n",
       "      <th>max</th>\n",
       "      <td>889.000000</td>\n",
       "      <td>1.000000</td>\n",
       "      <td>3.000000</td>\n",
       "      <td>71.000000</td>\n",
       "      <td>8.000000</td>\n",
       "      <td>5.000000</td>\n",
       "      <td>512.329200</td>\n",
       "    </tr>\n",
       "  </tbody>\n",
       "</table>\n",
       "</div>"
      ],
      "text/plain": [
       "       PassengerId    Survived      Pclass         Age       SibSp  \\\n",
       "count   621.000000  621.000000  621.000000  621.000000  621.000000   \n",
       "mean    446.962963    0.371981    2.331723   28.254600    0.536232   \n",
       "std     260.057234    0.483723    0.832471   12.960838    1.111839   \n",
       "min       1.000000    0.000000    1.000000    0.420000    0.000000   \n",
       "25%     214.000000    0.000000    2.000000   22.000000    0.000000   \n",
       "50%     452.000000    0.000000    3.000000   24.239574    0.000000   \n",
       "75%     675.000000    1.000000    3.000000   35.000000    1.000000   \n",
       "max     889.000000    1.000000    3.000000   71.000000    8.000000   \n",
       "\n",
       "            Parch        Fare  \n",
       "count  621.000000  621.000000  \n",
       "mean     0.376812   31.375724  \n",
       "std      0.796996   46.302171  \n",
       "min      0.000000    0.000000  \n",
       "25%      0.000000    7.895800  \n",
       "50%      0.000000   13.858300  \n",
       "75%      0.000000   30.695800  \n",
       "max      5.000000  512.329200  "
      ]
     },
     "execution_count": 33,
     "metadata": {},
     "output_type": "execute_result"
    }
   ],
   "source": [
    "datatrain.describe()"
   ]
  },
  {
   "cell_type": "code",
   "execution_count": 34,
   "metadata": {},
   "outputs": [],
   "source": [
    "#now we have dealt with age column\n",
    "#now its time to look gender(\"Sex\") column"
   ]
  },
  {
   "cell_type": "code",
   "execution_count": 35,
   "metadata": {},
   "outputs": [
    {
     "data": {
      "text/plain": [
       "False"
      ]
     },
     "execution_count": 35,
     "metadata": {},
     "output_type": "execute_result"
    }
   ],
   "source": [
    "#first checking for null values in \"sex\" column\n",
    "datatrain[\"Sex\"].isnull().any()"
   ]
  },
  {
   "cell_type": "code",
   "execution_count": 36,
   "metadata": {},
   "outputs": [],
   "source": [
    "#so no null values in this column"
   ]
  },
  {
   "cell_type": "code",
   "execution_count": 37,
   "metadata": {},
   "outputs": [
    {
     "data": {
      "text/plain": [
       "<matplotlib.axes._subplots.AxesSubplot at 0x1872d03d2e8>"
      ]
     },
     "execution_count": 37,
     "metadata": {},
     "output_type": "execute_result"
    },
    {
     "data": {
      "image/png": "[encoded data removed]",
      "text/plain": [
       "<matplotlib.figure.Figure at 0x1872cc2af60>"
      ]
     },
     "metadata": {},
     "output_type": "display_data"
    }
   ],
   "source": [
    "sns.countplot(datatrain[\"Sex\"])"
   ]
  },
  {
   "cell_type": "code",
   "execution_count": 38,
   "metadata": {},
   "outputs": [
    {
     "data": {
      "text/plain": [
       "<matplotlib.legend.Legend at 0x1872d146eb8>"
      ]
     },
     "execution_count": 38,
     "metadata": {},
     "output_type": "execute_result"
    },
    {
     "data": {
      "image/png": "[encoded data removed]",
      "text/plain": [
       "<matplotlib.figure.Figure at 0x1872d015240>"
      ]
     },
     "metadata": {},
     "output_type": "display_data"
    }
   ],
   "source": [
    "sns.set()\n",
    "plt.figure(figsize=(15,5))\n",
    "plt.subplot(1,2,1)\n",
    "sns.countplot(datatrain.iloc[(datatrain[\"Survived\"]==1).ravel(),4])\n",
    "plt.yticks(np.arange(0,250,20))\n",
    "plt.legend([\"Survived\"])\n",
    "plt.subplot(1,2,2)\n",
    "sns.countplot(datatrain.iloc[(datatrain[\"Survived\"]==0).ravel(),4])\n",
    "plt.yticks(np.arange(0,470,20))\n",
    "plt.legend([\"Not Survived\"])"
   ]
  },
  {
   "cell_type": "code",
   "execution_count": 39,
   "metadata": {},
   "outputs": [
    {
     "name": "stdout",
     "output_type": "stream",
     "text": [
      "0.18295739348370926 0.7117117117117117\n"
     ]
    }
   ],
   "source": [
    "surv=datatrain.iloc[(datatrain[\"Survived\"]==1).ravel(),4]\n",
    "dead=datatrain.iloc[(datatrain[\"Survived\"]==0).ravel(),4]\n",
    "heys=surv.value_counts()\n",
    "heyd=dead.value_counts()\n",
    "males=heys[\"male\"]\n",
    "females=heys[\"female\"]\n",
    "maled=heyd[\"male\"]\n",
    "femaled=heyd[\"female\"]\n",
    "yom=males/(males+maled)\n",
    "yof=females/(females+femaled)\n",
    "print(yom,yof)"
   ]
  },
  {
   "cell_type": "markdown",
   "metadata": {},
   "source": [
    "WHAT I DID\n",
    "SAY FOR EXAMPLE\n",
    "\n",
    "All in approx\n",
    "- total female survived=230\n",
    "- total male survived=110\n",
    "- total female dead=80\n",
    "- total male dead=470\n",
    "\n",
    "male fraction survival=110/(110+470)=0.190 ~ 20%\n",
    "\n",
    "female fraction survival=230/(230+80)=0.742 ~ 75%\n",
    "\n",
    "so females have more chance of surviving almost 4 times that as of males\n",
    "\n",
    "so lets replace females with 0.75 and males with 0.2"
   ]
  },
  {
   "cell_type": "code",
   "execution_count": 40,
   "metadata": {},
   "outputs": [],
   "source": [
    "datatrain.iloc[(datatrain[\"Sex\"]==\"male\").ravel(),4]=float(yom)\n",
    "datatrain.iloc[(datatrain[\"Sex\"]==\"female\").ravel(),4]=float(yof)"
   ]
  },
  {
   "cell_type": "code",
   "execution_count": 41,
   "metadata": {},
   "outputs": [
    {
     "data": {
      "text/plain": [
       "PassengerId      int64\n",
       "Survived         int64\n",
       "Pclass           int64\n",
       "Name            object\n",
       "Sex             object\n",
       "Age            float64\n",
       "SibSp            int64\n",
       "Parch            int64\n",
       "Ticket          object\n",
       "Fare           float64\n",
       "Cabin           object\n",
       "Embarked        object\n",
       "dtype: object"
      ]
     },
     "execution_count": 41,
     "metadata": {},
     "output_type": "execute_result"
    }
   ],
   "source": [
    "datatrain.dtypes"
   ]
  },
  {
   "cell_type": "code",
   "execution_count": 42,
   "metadata": {},
   "outputs": [
    {
     "data": {
      "text/plain": [
       "count     621.000000\n",
       "unique      2.000000\n",
       "top         0.182957\n",
       "freq      399.000000\n",
       "Name: Sex, dtype: float64"
      ]
     },
     "execution_count": 42,
     "metadata": {},
     "output_type": "execute_result"
    }
   ],
   "source": [
    "datatrain[\"Sex\"].describe()"
   ]
  },
  {
   "cell_type": "code",
   "execution_count": 43,
   "metadata": {},
   "outputs": [],
   "source": [
    "#now knowing more about embarked i.e. the last column"
   ]
  },
  {
   "cell_type": "code",
   "execution_count": 44,
   "metadata": {},
   "outputs": [
    {
     "name": "stdout",
     "output_type": "stream",
     "text": [
      "2\n",
      "[483, 501]\n"
     ]
    }
   ],
   "source": [
    "#checking for null values\n",
    "check=datatrain[\"Embarked\"].isnull().sum()\n",
    "print(check)\n",
    "if check!=0:\n",
    "    miss=pd.isna(datatrain[\"Embarked\"])\n",
    "    hiss=[]\n",
    "    for i in range(0,len(miss)):\n",
    "        if miss[i]==True:\n",
    "            hiss.append(i)\n",
    "    print(hiss)\n",
    "    datatrain.drop(hiss,inplace=True)\n",
    "    datatrain=datatrain.reset_index(drop=True)"
   ]
  },
  {
   "cell_type": "code",
   "execution_count": 45,
   "metadata": {},
   "outputs": [
    {
     "data": {
      "text/plain": [
       "count     619\n",
       "unique      3\n",
       "top         S\n",
       "freq      449\n",
       "Name: Embarked, dtype: object"
      ]
     },
     "execution_count": 45,
     "metadata": {},
     "output_type": "execute_result"
    }
   ],
   "source": [
    "datatrain[\"Embarked\"].describe()"
   ]
  },
  {
   "cell_type": "code",
   "execution_count": 46,
   "metadata": {},
   "outputs": [
    {
     "data": {
      "text/html": [
       "<div>\n",
       "<style scoped>\n",
       "    .dataframe tbody tr th:only-of-type {\n",
       "        vertical-align: middle;\n",
       "    }\n",
       "\n",
       "    .dataframe tbody tr th {\n",
       "        vertical-align: top;\n",
       "    }\n",
       "\n",
       "    .dataframe thead th {\n",
       "        text-align: right;\n",
       "    }\n",
       "</style>\n",
       "<table border=\"1\" class=\"dataframe\">\n",
       "  <thead>\n",
       "    <tr style=\"text-align: right;\">\n",
       "      <th></th>\n",
       "      <th>PassengerId</th>\n",
       "      <th>Survived</th>\n",
       "      <th>Pclass</th>\n",
       "      <th>Age</th>\n",
       "      <th>SibSp</th>\n",
       "      <th>Parch</th>\n",
       "      <th>Fare</th>\n",
       "    </tr>\n",
       "  </thead>\n",
       "  <tbody>\n",
       "    <tr>\n",
       "      <th>count</th>\n",
       "      <td>619.000000</td>\n",
       "      <td>619.000000</td>\n",
       "      <td>619.000000</td>\n",
       "      <td>619.000000</td>\n",
       "      <td>619.000000</td>\n",
       "      <td>619.000000</td>\n",
       "      <td>619.000000</td>\n",
       "    </tr>\n",
       "    <tr>\n",
       "      <th>mean</th>\n",
       "      <td>446.966074</td>\n",
       "      <td>0.369952</td>\n",
       "      <td>2.336026</td>\n",
       "      <td>28.184340</td>\n",
       "      <td>0.537964</td>\n",
       "      <td>0.378029</td>\n",
       "      <td>31.218618</td>\n",
       "    </tr>\n",
       "    <tr>\n",
       "      <th>std</th>\n",
       "      <td>259.560059</td>\n",
       "      <td>0.483182</td>\n",
       "      <td>0.830357</td>\n",
       "      <td>12.904483</td>\n",
       "      <td>1.113217</td>\n",
       "      <td>0.797996</td>\n",
       "      <td>46.294200</td>\n",
       "    </tr>\n",
       "    <tr>\n",
       "      <th>min</th>\n",
       "      <td>1.000000</td>\n",
       "      <td>0.000000</td>\n",
       "      <td>1.000000</td>\n",
       "      <td>0.420000</td>\n",
       "      <td>0.000000</td>\n",
       "      <td>0.000000</td>\n",
       "      <td>0.000000</td>\n",
       "    </tr>\n",
       "    <tr>\n",
       "      <th>25%</th>\n",
       "      <td>215.000000</td>\n",
       "      <td>0.000000</td>\n",
       "      <td>2.000000</td>\n",
       "      <td>22.000000</td>\n",
       "      <td>0.000000</td>\n",
       "      <td>0.000000</td>\n",
       "      <td>7.895800</td>\n",
       "    </tr>\n",
       "    <tr>\n",
       "      <th>50%</th>\n",
       "      <td>452.000000</td>\n",
       "      <td>0.000000</td>\n",
       "      <td>3.000000</td>\n",
       "      <td>24.239574</td>\n",
       "      <td>0.000000</td>\n",
       "      <td>0.000000</td>\n",
       "      <td>13.791700</td>\n",
       "    </tr>\n",
       "    <tr>\n",
       "      <th>75%</th>\n",
       "      <td>673.000000</td>\n",
       "      <td>1.000000</td>\n",
       "      <td>3.000000</td>\n",
       "      <td>35.000000</td>\n",
       "      <td>1.000000</td>\n",
       "      <td>0.000000</td>\n",
       "      <td>30.500000</td>\n",
       "    </tr>\n",
       "    <tr>\n",
       "      <th>max</th>\n",
       "      <td>889.000000</td>\n",
       "      <td>1.000000</td>\n",
       "      <td>3.000000</td>\n",
       "      <td>71.000000</td>\n",
       "      <td>8.000000</td>\n",
       "      <td>5.000000</td>\n",
       "      <td>512.329200</td>\n",
       "    </tr>\n",
       "  </tbody>\n",
       "</table>\n",
       "</div>"
      ],
      "text/plain": [
       "       PassengerId    Survived      Pclass         Age       SibSp  \\\n",
       "count   619.000000  619.000000  619.000000  619.000000  619.000000   \n",
       "mean    446.966074    0.369952    2.336026   28.184340    0.537964   \n",
       "std     259.560059    0.483182    0.830357   12.904483    1.113217   \n",
       "min       1.000000    0.000000    1.000000    0.420000    0.000000   \n",
       "25%     215.000000    0.000000    2.000000   22.000000    0.000000   \n",
       "50%     452.000000    0.000000    3.000000   24.239574    0.000000   \n",
       "75%     673.000000    1.000000    3.000000   35.000000    1.000000   \n",
       "max     889.000000    1.000000    3.000000   71.000000    8.000000   \n",
       "\n",
       "            Parch        Fare  \n",
       "count  619.000000  619.000000  \n",
       "mean     0.378029   31.218618  \n",
       "std      0.797996   46.294200  \n",
       "min      0.000000    0.000000  \n",
       "25%      0.000000    7.895800  \n",
       "50%      0.000000   13.791700  \n",
       "75%      0.000000   30.500000  \n",
       "max      5.000000  512.329200  "
      ]
     },
     "execution_count": 46,
     "metadata": {},
     "output_type": "execute_result"
    }
   ],
   "source": [
    "datatrain.describe()"
   ]
  },
  {
   "cell_type": "code",
   "execution_count": 47,
   "metadata": {},
   "outputs": [
    {
     "data": {
      "text/plain": [
       "<matplotlib.axes._subplots.AxesSubplot at 0x1872d1ba160>"
      ]
     },
     "execution_count": 47,
     "metadata": {},
     "output_type": "execute_result"
    },
    {
     "data": {
      "image/png": "[encoded data removed]",
      "text/plain": [
       "<matplotlib.figure.Figure at 0x1872d068e10>"
      ]
     },
     "metadata": {},
     "output_type": "display_data"
    }
   ],
   "source": [
    "sns.countplot(datatrain[\"Embarked\"])"
   ]
  },
  {
   "cell_type": "code",
   "execution_count": 48,
   "metadata": {},
   "outputs": [
    {
     "data": {
      "text/plain": [
       "<matplotlib.legend.Legend at 0x1872d270550>"
      ]
     },
     "execution_count": 48,
     "metadata": {},
     "output_type": "execute_result"
    },
    {
     "data": {
      "image/png": "[encoded data removed]",
      "text/plain": [
       "<matplotlib.figure.Figure at 0x1872d4df5c0>"
      ]
     },
     "metadata": {},
     "output_type": "display_data"
    }
   ],
   "source": [
    "plt.figure(figsize=(15,5))\n",
    "plt.subplot(1,2,1)\n",
    "sns.countplot(datatrain.iloc[(datatrain[\"Survived\"]==1).ravel(),11])\n",
    "plt.yticks(np.arange(0,230,10))\n",
    "plt.legend([\"Survived\"])\n",
    "plt.subplot(1,2,2)\n",
    "sns.countplot(datatrain.iloc[(datatrain[\"Survived\"]==0).ravel(),11])\n",
    "plt.yticks(np.arange(0,450,20))\n",
    "plt.legend([\"Not Survived\"])"
   ]
  },
  {
   "cell_type": "code",
   "execution_count": 49,
   "metadata": {},
   "outputs": [
    {
     "name": "stdout",
     "output_type": "stream",
     "text": [
      "0.32293986636971045 0.5254237288135594 0.4230769230769231\n"
     ]
    }
   ],
   "source": [
    "surv=datatrain.iloc[(datatrain[\"Survived\"]==1).ravel(),11]\n",
    "heys=surv.value_counts()\n",
    "dead=datatrain.iloc[(datatrain[\"Survived\"]==0).ravel(),11]\n",
    "heyd=dead.value_counts()\n",
    "ss=heys[\"S\"]\n",
    "cs=heys[\"C\"]\n",
    "qs=heys[\"Q\"]\n",
    "sd=heyd[\"S\"]\n",
    "cd=heyd[\"C\"]\n",
    "qd=heyd[\"Q\"]\n",
    "yos=ss/(ss+sd)\n",
    "yoc=cs/(cs+cd)\n",
    "yoq=qs/(qs+qd)\n",
    "print(yos,yoc,yoq)"
   ]
  },
  {
   "cell_type": "markdown",
   "metadata": {},
   "source": [
    "WHAT I M DOING\n",
    "(EXAMPLE)\n",
    "\n",
    "All in approx\n",
    "\n",
    "- total Cherbourg ppl survived=92\n",
    "- total Queenstown ppl survived=30\n",
    "- total Southampton ppl survived=218\n",
    "- total Cherbourg ppl dead=75\n",
    "- total Queenstown ppl dead=45\n",
    "- total Southampton ppl dead=425\n",
    "\n",
    "fraction of Cherbourg ppl survived = 92/(75+92) = 0.561\n",
    "\n",
    "fraction of Queenstown ppl survived = 30/(45+30) = 0.400\n",
    "\n",
    "fraction of Southampton ppl survived = 218/(425+218) = 0.339 \n",
    "\n",
    "So lets replace C with 0.561\n",
    "                Q with 0.400\n",
    "                S with 0.339"
   ]
  },
  {
   "cell_type": "code",
   "execution_count": 50,
   "metadata": {},
   "outputs": [],
   "source": [
    "datatrain.iloc[(datatrain[\"Embarked\"]==\"C\").ravel(),11]=float(yoc)\n",
    "datatrain.iloc[(datatrain[\"Embarked\"]==\"Q\").ravel(),11]=float(yoq)\n",
    "datatrain.iloc[(datatrain[\"Embarked\"]==\"S\").ravel(),11]=float(yos)"
   ]
  },
  {
   "cell_type": "markdown",
   "metadata": {},
   "source": [
    "### now changing columns which have type OBJECT to float or int"
   ]
  },
  {
   "cell_type": "code",
   "execution_count": 51,
   "metadata": {},
   "outputs": [
    {
     "data": {
      "text/plain": [
       "PassengerId      int64\n",
       "Survived         int64\n",
       "Pclass           int64\n",
       "Name            object\n",
       "Sex             object\n",
       "Age            float64\n",
       "SibSp            int64\n",
       "Parch            int64\n",
       "Ticket          object\n",
       "Fare           float64\n",
       "Cabin           object\n",
       "Embarked        object\n",
       "dtype: object"
      ]
     },
     "execution_count": 51,
     "metadata": {},
     "output_type": "execute_result"
    }
   ],
   "source": [
    "datatrain.dtypes"
   ]
  },
  {
   "cell_type": "code",
   "execution_count": 52,
   "metadata": {},
   "outputs": [],
   "source": [
    "#we want to change sex and embarked to float and other integertypes also to float"
   ]
  },
  {
   "cell_type": "code",
   "execution_count": 53,
   "metadata": {},
   "outputs": [
    {
     "data": {
      "text/plain": [
       "PassengerId      int64\n",
       "Survived       float64\n",
       "Pclass         float64\n",
       "Name            object\n",
       "Sex            float64\n",
       "Age            float64\n",
       "SibSp          float64\n",
       "Parch          float64\n",
       "Ticket          object\n",
       "Fare           float64\n",
       "Cabin           object\n",
       "Embarked       float64\n",
       "dtype: object"
      ]
     },
     "execution_count": 53,
     "metadata": {},
     "output_type": "execute_result"
    }
   ],
   "source": [
    "datatrain[\"Sex\"]=pd.to_numeric(datatrain[\"Sex\"])\n",
    "datatrain[\"Embarked\"]=pd.to_numeric(datatrain[\"Embarked\"])\n",
    "datatrain[\"Survived\"]=(pd.to_numeric(datatrain[\"Survived\"])).astype(float)\n",
    "datatrain[\"Pclass\"]=(pd.to_numeric(datatrain[\"Pclass\"])).astype(float)\n",
    "datatrain[\"SibSp\"]=(pd.to_numeric(datatrain[\"SibSp\"])).astype(float)\n",
    "datatrain[\"Parch\"]=(pd.to_numeric(datatrain[\"Parch\"])).astype(float)\n",
    "datatrain.dtypes"
   ]
  },
  {
   "cell_type": "code",
   "execution_count": 54,
   "metadata": {},
   "outputs": [],
   "source": [
    "# now lets exract input and output from datatrain"
   ]
  },
  {
   "cell_type": "code",
   "execution_count": 55,
   "metadata": {},
   "outputs": [],
   "source": [
    "listy=[2,4,5,6,7,9,11]\n",
    "xtrain=np.array(datatrain.iloc[:,listy])\n",
    "ytrain=np.array(datatrain.iloc[:,1]).reshape(-1,1)"
   ]
  },
  {
   "cell_type": "code",
   "execution_count": 56,
   "metadata": {},
   "outputs": [
    {
     "name": "stdout",
     "output_type": "stream",
     "text": [
      "(619, 7)\n",
      "(619, 1)\n"
     ]
    }
   ],
   "source": [
    "print(xtrain.shape)\n",
    "print(ytrain.shape)"
   ]
  },
  {
   "cell_type": "markdown",
   "metadata": {},
   "source": [
    "### Now we will prepare training, validation and testing set in proper numpy array format with treatment done to \"nan\" values "
   ]
  },
  {
   "cell_type": "code",
   "execution_count": 57,
   "metadata": {},
   "outputs": [
    {
     "name": "stdout",
     "output_type": "stream",
     "text": [
      "(619, 8)\n"
     ]
    }
   ],
   "source": [
    "#adding column of ones to xtrain\n",
    "xtrain=np.hstack((np.ones(xtrain.shape[0]).reshape(-1,1),xtrain))\n",
    "print(xtrain.shape)"
   ]
  },
  {
   "cell_type": "code",
   "execution_count": 58,
   "metadata": {},
   "outputs": [],
   "source": [
    "#dealing with dataval"
   ]
  },
  {
   "cell_type": "code",
   "execution_count": 59,
   "metadata": {},
   "outputs": [
    {
     "data": {
      "text/html": [
       "<div>\n",
       "<style scoped>\n",
       "    .dataframe tbody tr th:only-of-type {\n",
       "        vertical-align: middle;\n",
       "    }\n",
       "\n",
       "    .dataframe tbody tr th {\n",
       "        vertical-align: top;\n",
       "    }\n",
       "\n",
       "    .dataframe thead th {\n",
       "        text-align: right;\n",
       "    }\n",
       "</style>\n",
       "<table border=\"1\" class=\"dataframe\">\n",
       "  <thead>\n",
       "    <tr style=\"text-align: right;\">\n",
       "      <th></th>\n",
       "      <th>PassengerId</th>\n",
       "      <th>Survived</th>\n",
       "      <th>Pclass</th>\n",
       "      <th>Age</th>\n",
       "      <th>SibSp</th>\n",
       "      <th>Parch</th>\n",
       "      <th>Fare</th>\n",
       "    </tr>\n",
       "  </thead>\n",
       "  <tbody>\n",
       "    <tr>\n",
       "      <th>count</th>\n",
       "      <td>270.000000</td>\n",
       "      <td>270.000000</td>\n",
       "      <td>270.000000</td>\n",
       "      <td>219.000000</td>\n",
       "      <td>270.000000</td>\n",
       "      <td>270.000000</td>\n",
       "      <td>270.000000</td>\n",
       "    </tr>\n",
       "    <tr>\n",
       "      <th>mean</th>\n",
       "      <td>443.785185</td>\n",
       "      <td>0.411111</td>\n",
       "      <td>2.255556</td>\n",
       "      <td>30.654110</td>\n",
       "      <td>0.492593</td>\n",
       "      <td>0.392593</td>\n",
       "      <td>34.109722</td>\n",
       "    </tr>\n",
       "    <tr>\n",
       "      <th>std</th>\n",
       "      <td>251.488029</td>\n",
       "      <td>0.492949</td>\n",
       "      <td>0.843445</td>\n",
       "      <td>14.925977</td>\n",
       "      <td>1.082962</td>\n",
       "      <td>0.827917</td>\n",
       "      <td>56.777782</td>\n",
       "    </tr>\n",
       "    <tr>\n",
       "      <th>min</th>\n",
       "      <td>2.000000</td>\n",
       "      <td>0.000000</td>\n",
       "      <td>1.000000</td>\n",
       "      <td>0.830000</td>\n",
       "      <td>0.000000</td>\n",
       "      <td>0.000000</td>\n",
       "      <td>0.000000</td>\n",
       "    </tr>\n",
       "    <tr>\n",
       "      <th>25%</th>\n",
       "      <td>240.500000</td>\n",
       "      <td>0.000000</td>\n",
       "      <td>1.000000</td>\n",
       "      <td>21.000000</td>\n",
       "      <td>0.000000</td>\n",
       "      <td>0.000000</td>\n",
       "      <td>7.956250</td>\n",
       "    </tr>\n",
       "    <tr>\n",
       "      <th>50%</th>\n",
       "      <td>433.500000</td>\n",
       "      <td>0.000000</td>\n",
       "      <td>3.000000</td>\n",
       "      <td>29.000000</td>\n",
       "      <td>0.000000</td>\n",
       "      <td>0.000000</td>\n",
       "      <td>15.072900</td>\n",
       "    </tr>\n",
       "    <tr>\n",
       "      <th>75%</th>\n",
       "      <td>661.000000</td>\n",
       "      <td>1.000000</td>\n",
       "      <td>3.000000</td>\n",
       "      <td>38.000000</td>\n",
       "      <td>1.000000</td>\n",
       "      <td>0.000000</td>\n",
       "      <td>31.275000</td>\n",
       "    </tr>\n",
       "    <tr>\n",
       "      <th>max</th>\n",
       "      <td>891.000000</td>\n",
       "      <td>1.000000</td>\n",
       "      <td>3.000000</td>\n",
       "      <td>80.000000</td>\n",
       "      <td>8.000000</td>\n",
       "      <td>6.000000</td>\n",
       "      <td>512.329200</td>\n",
       "    </tr>\n",
       "  </tbody>\n",
       "</table>\n",
       "</div>"
      ],
      "text/plain": [
       "       PassengerId    Survived      Pclass         Age       SibSp  \\\n",
       "count   270.000000  270.000000  270.000000  219.000000  270.000000   \n",
       "mean    443.785185    0.411111    2.255556   30.654110    0.492593   \n",
       "std     251.488029    0.492949    0.843445   14.925977    1.082962   \n",
       "min       2.000000    0.000000    1.000000    0.830000    0.000000   \n",
       "25%     240.500000    0.000000    1.000000   21.000000    0.000000   \n",
       "50%     433.500000    0.000000    3.000000   29.000000    0.000000   \n",
       "75%     661.000000    1.000000    3.000000   38.000000    1.000000   \n",
       "max     891.000000    1.000000    3.000000   80.000000    8.000000   \n",
       "\n",
       "            Parch        Fare  \n",
       "count  270.000000  270.000000  \n",
       "mean     0.392593   34.109722  \n",
       "std      0.827917   56.777782  \n",
       "min      0.000000    0.000000  \n",
       "25%      0.000000    7.956250  \n",
       "50%      0.000000   15.072900  \n",
       "75%      0.000000   31.275000  \n",
       "max      6.000000  512.329200  "
      ]
     },
     "execution_count": 59,
     "metadata": {},
     "output_type": "execute_result"
    }
   ],
   "source": [
    "dataval.describe()"
   ]
  },
  {
   "cell_type": "code",
   "execution_count": 60,
   "metadata": {},
   "outputs": [
    {
     "data": {
      "text/html": [
       "<div>\n",
       "<style scoped>\n",
       "    .dataframe tbody tr th:only-of-type {\n",
       "        vertical-align: middle;\n",
       "    }\n",
       "\n",
       "    .dataframe tbody tr th {\n",
       "        vertical-align: top;\n",
       "    }\n",
       "\n",
       "    .dataframe thead th {\n",
       "        text-align: right;\n",
       "    }\n",
       "</style>\n",
       "<table border=\"1\" class=\"dataframe\">\n",
       "  <thead>\n",
       "    <tr style=\"text-align: right;\">\n",
       "      <th></th>\n",
       "      <th>PassengerId</th>\n",
       "      <th>Survived</th>\n",
       "      <th>Pclass</th>\n",
       "      <th>Name</th>\n",
       "      <th>Sex</th>\n",
       "      <th>Age</th>\n",
       "      <th>SibSp</th>\n",
       "      <th>Parch</th>\n",
       "      <th>Ticket</th>\n",
       "      <th>Fare</th>\n",
       "      <th>Cabin</th>\n",
       "      <th>Embarked</th>\n",
       "    </tr>\n",
       "  </thead>\n",
       "  <tbody>\n",
       "    <tr>\n",
       "      <th>0</th>\n",
       "      <td>705</td>\n",
       "      <td>0</td>\n",
       "      <td>3</td>\n",
       "      <td>Hansen, Mr. Henrik Juul</td>\n",
       "      <td>male</td>\n",
       "      <td>26.0</td>\n",
       "      <td>1</td>\n",
       "      <td>0</td>\n",
       "      <td>350025</td>\n",
       "      <td>7.8542</td>\n",
       "      <td>NaN</td>\n",
       "      <td>S</td>\n",
       "    </tr>\n",
       "    <tr>\n",
       "      <th>1</th>\n",
       "      <td>193</td>\n",
       "      <td>1</td>\n",
       "      <td>3</td>\n",
       "      <td>Andersen-Jensen, Miss. Carla Christine Nielsine</td>\n",
       "      <td>female</td>\n",
       "      <td>19.0</td>\n",
       "      <td>1</td>\n",
       "      <td>0</td>\n",
       "      <td>350046</td>\n",
       "      <td>7.8542</td>\n",
       "      <td>NaN</td>\n",
       "      <td>S</td>\n",
       "    </tr>\n",
       "    <tr>\n",
       "      <th>2</th>\n",
       "      <td>509</td>\n",
       "      <td>0</td>\n",
       "      <td>3</td>\n",
       "      <td>Olsen, Mr. Henry Margido</td>\n",
       "      <td>male</td>\n",
       "      <td>28.0</td>\n",
       "      <td>0</td>\n",
       "      <td>0</td>\n",
       "      <td>C 4001</td>\n",
       "      <td>22.5250</td>\n",
       "      <td>NaN</td>\n",
       "      <td>S</td>\n",
       "    </tr>\n",
       "    <tr>\n",
       "      <th>3</th>\n",
       "      <td>325</td>\n",
       "      <td>0</td>\n",
       "      <td>3</td>\n",
       "      <td>Sage, Mr. George John Jr</td>\n",
       "      <td>male</td>\n",
       "      <td>NaN</td>\n",
       "      <td>8</td>\n",
       "      <td>2</td>\n",
       "      <td>CA. 2343</td>\n",
       "      <td>69.5500</td>\n",
       "      <td>NaN</td>\n",
       "      <td>S</td>\n",
       "    </tr>\n",
       "    <tr>\n",
       "      <th>4</th>\n",
       "      <td>490</td>\n",
       "      <td>1</td>\n",
       "      <td>3</td>\n",
       "      <td>Coutts, Master. Eden Leslie \"Neville\"</td>\n",
       "      <td>male</td>\n",
       "      <td>9.0</td>\n",
       "      <td>1</td>\n",
       "      <td>1</td>\n",
       "      <td>C.A. 37671</td>\n",
       "      <td>15.9000</td>\n",
       "      <td>NaN</td>\n",
       "      <td>S</td>\n",
       "    </tr>\n",
       "  </tbody>\n",
       "</table>\n",
       "</div>"
      ],
      "text/plain": [
       "   PassengerId  Survived  Pclass  \\\n",
       "0          705         0       3   \n",
       "1          193         1       3   \n",
       "2          509         0       3   \n",
       "3          325         0       3   \n",
       "4          490         1       3   \n",
       "\n",
       "                                              Name     Sex   Age  SibSp  \\\n",
       "0                          Hansen, Mr. Henrik Juul    male  26.0      1   \n",
       "1  Andersen-Jensen, Miss. Carla Christine Nielsine  female  19.0      1   \n",
       "2                         Olsen, Mr. Henry Margido    male  28.0      0   \n",
       "3                         Sage, Mr. George John Jr    male   NaN      8   \n",
       "4            Coutts, Master. Eden Leslie \"Neville\"    male   9.0      1   \n",
       "\n",
       "   Parch      Ticket     Fare Cabin Embarked  \n",
       "0      0      350025   7.8542   NaN        S  \n",
       "1      0      350046   7.8542   NaN        S  \n",
       "2      0      C 4001  22.5250   NaN        S  \n",
       "3      2    CA. 2343  69.5500   NaN        S  \n",
       "4      1  C.A. 37671  15.9000   NaN        S  "
      ]
     },
     "execution_count": 60,
     "metadata": {},
     "output_type": "execute_result"
    }
   ],
   "source": [
    "dataval.head()"
   ]
  },
  {
   "cell_type": "code",
   "execution_count": 61,
   "metadata": {},
   "outputs": [
    {
     "name": "stdout",
     "output_type": "stream",
     "text": [
      "False\n",
      "0\n"
     ]
    }
   ],
   "source": [
    "#checking for null in dataval Sex and Embarked\n",
    "print(dataval[\"Sex\"].isnull().any())\n",
    "check=dataval[\"Embarked\"].isnull().sum()\n",
    "print(check)\n",
    "if check!=0:\n",
    "    miss=pd.isna(dataval[\"Embarked\"])\n",
    "    hiss=[]\n",
    "    for i in range(0,len(miss)):\n",
    "        if miss[i]==True:\n",
    "            hiss.append(i)\n",
    "    print(hiss)\n",
    "    dataval.drop(hiss,inplace=True)\n",
    "    dataval=dataval.reset_index(drop=True)\n"
   ]
  },
  {
   "cell_type": "code",
   "execution_count": 62,
   "metadata": {},
   "outputs": [],
   "source": [
    "dataval=all_in_one_conv(dataval,yom,yof,yoc,yoq,yos,yo1,yo2)"
   ]
  },
  {
   "cell_type": "code",
   "execution_count": 63,
   "metadata": {},
   "outputs": [
    {
     "data": {
      "text/plain": [
       "PassengerId      int64\n",
       "Survived         int64\n",
       "Pclass           int64\n",
       "Name            object\n",
       "Sex             object\n",
       "Age            float64\n",
       "SibSp            int64\n",
       "Parch            int64\n",
       "Ticket          object\n",
       "Fare           float64\n",
       "Cabin           object\n",
       "Embarked        object\n",
       "dtype: object"
      ]
     },
     "execution_count": 63,
     "metadata": {},
     "output_type": "execute_result"
    }
   ],
   "source": [
    "dataval.dtypes"
   ]
  },
  {
   "cell_type": "markdown",
   "metadata": {},
   "source": [
    "### now changing columns which have type OBJECT to float or int\n",
    "(like we did with datatrain)"
   ]
  },
  {
   "cell_type": "code",
   "execution_count": 64,
   "metadata": {
    "scrolled": true
   },
   "outputs": [
    {
     "data": {
      "text/plain": [
       "PassengerId      int64\n",
       "Survived       float64\n",
       "Pclass         float64\n",
       "Name            object\n",
       "Sex            float64\n",
       "Age            float64\n",
       "SibSp          float64\n",
       "Parch          float64\n",
       "Ticket          object\n",
       "Fare           float64\n",
       "Cabin           object\n",
       "Embarked       float64\n",
       "dtype: object"
      ]
     },
     "execution_count": 64,
     "metadata": {},
     "output_type": "execute_result"
    }
   ],
   "source": [
    "dataval[\"Sex\"]=pd.to_numeric(dataval[\"Sex\"])\n",
    "dataval[\"Embarked\"]=pd.to_numeric(dataval[\"Embarked\"])\n",
    "dataval[\"Survived\"]=(pd.to_numeric(dataval[\"Survived\"])).astype(float)\n",
    "dataval[\"Pclass\"]=(pd.to_numeric(dataval[\"Pclass\"])).astype(float)\n",
    "dataval[\"SibSp\"]=(pd.to_numeric(dataval[\"SibSp\"])).astype(float)\n",
    "dataval[\"Parch\"]=(pd.to_numeric(dataval[\"Parch\"])).astype(float)\n",
    "dataval.dtypes"
   ]
  },
  {
   "cell_type": "code",
   "execution_count": 65,
   "metadata": {},
   "outputs": [
    {
     "data": {
      "text/html": [
       "<div>\n",
       "<style scoped>\n",
       "    .dataframe tbody tr th:only-of-type {\n",
       "        vertical-align: middle;\n",
       "    }\n",
       "\n",
       "    .dataframe tbody tr th {\n",
       "        vertical-align: top;\n",
       "    }\n",
       "\n",
       "    .dataframe thead th {\n",
       "        text-align: right;\n",
       "    }\n",
       "</style>\n",
       "<table border=\"1\" class=\"dataframe\">\n",
       "  <thead>\n",
       "    <tr style=\"text-align: right;\">\n",
       "      <th></th>\n",
       "      <th>PassengerId</th>\n",
       "      <th>Survived</th>\n",
       "      <th>Pclass</th>\n",
       "      <th>Sex</th>\n",
       "      <th>Age</th>\n",
       "      <th>SibSp</th>\n",
       "      <th>Parch</th>\n",
       "      <th>Fare</th>\n",
       "      <th>Embarked</th>\n",
       "    </tr>\n",
       "  </thead>\n",
       "  <tbody>\n",
       "    <tr>\n",
       "      <th>count</th>\n",
       "      <td>270.000000</td>\n",
       "      <td>270.000000</td>\n",
       "      <td>270.000000</td>\n",
       "      <td>270.000000</td>\n",
       "      <td>270.000000</td>\n",
       "      <td>270.000000</td>\n",
       "      <td>270.000000</td>\n",
       "      <td>270.000000</td>\n",
       "      <td>270.000000</td>\n",
       "    </tr>\n",
       "    <tr>\n",
       "      <th>mean</th>\n",
       "      <td>443.785185</td>\n",
       "      <td>0.411111</td>\n",
       "      <td>2.255556</td>\n",
       "      <td>0.363126</td>\n",
       "      <td>29.558258</td>\n",
       "      <td>0.492593</td>\n",
       "      <td>0.392593</td>\n",
       "      <td>34.109722</td>\n",
       "      <td>0.369709</td>\n",
       "    </tr>\n",
       "    <tr>\n",
       "      <th>std</th>\n",
       "      <td>251.488029</td>\n",
       "      <td>0.492949</td>\n",
       "      <td>0.843445</td>\n",
       "      <td>0.251073</td>\n",
       "      <td>13.633238</td>\n",
       "      <td>1.082962</td>\n",
       "      <td>0.827917</td>\n",
       "      <td>56.777782</td>\n",
       "      <td>0.079732</td>\n",
       "    </tr>\n",
       "    <tr>\n",
       "      <th>min</th>\n",
       "      <td>2.000000</td>\n",
       "      <td>0.000000</td>\n",
       "      <td>1.000000</td>\n",
       "      <td>0.182957</td>\n",
       "      <td>0.830000</td>\n",
       "      <td>0.000000</td>\n",
       "      <td>0.000000</td>\n",
       "      <td>0.000000</td>\n",
       "      <td>0.322940</td>\n",
       "    </tr>\n",
       "    <tr>\n",
       "      <th>25%</th>\n",
       "      <td>240.500000</td>\n",
       "      <td>0.000000</td>\n",
       "      <td>1.000000</td>\n",
       "      <td>0.182957</td>\n",
       "      <td>22.000000</td>\n",
       "      <td>0.000000</td>\n",
       "      <td>0.000000</td>\n",
       "      <td>7.956250</td>\n",
       "      <td>0.322940</td>\n",
       "    </tr>\n",
       "    <tr>\n",
       "      <th>50%</th>\n",
       "      <td>433.500000</td>\n",
       "      <td>0.000000</td>\n",
       "      <td>3.000000</td>\n",
       "      <td>0.182957</td>\n",
       "      <td>26.078481</td>\n",
       "      <td>0.000000</td>\n",
       "      <td>0.000000</td>\n",
       "      <td>15.072900</td>\n",
       "      <td>0.322940</td>\n",
       "    </tr>\n",
       "    <tr>\n",
       "      <th>75%</th>\n",
       "      <td>661.000000</td>\n",
       "      <td>1.000000</td>\n",
       "      <td>3.000000</td>\n",
       "      <td>0.711712</td>\n",
       "      <td>36.000000</td>\n",
       "      <td>1.000000</td>\n",
       "      <td>0.000000</td>\n",
       "      <td>31.275000</td>\n",
       "      <td>0.423077</td>\n",
       "    </tr>\n",
       "    <tr>\n",
       "      <th>max</th>\n",
       "      <td>891.000000</td>\n",
       "      <td>1.000000</td>\n",
       "      <td>3.000000</td>\n",
       "      <td>0.711712</td>\n",
       "      <td>80.000000</td>\n",
       "      <td>8.000000</td>\n",
       "      <td>6.000000</td>\n",
       "      <td>512.329200</td>\n",
       "      <td>0.525424</td>\n",
       "    </tr>\n",
       "  </tbody>\n",
       "</table>\n",
       "</div>"
      ],
      "text/plain": [
       "       PassengerId    Survived      Pclass         Sex         Age  \\\n",
       "count   270.000000  270.000000  270.000000  270.000000  270.000000   \n",
       "mean    443.785185    0.411111    2.255556    0.363126   29.558258   \n",
       "std     251.488029    0.492949    0.843445    0.251073   13.633238   \n",
       "min       2.000000    0.000000    1.000000    0.182957    0.830000   \n",
       "25%     240.500000    0.000000    1.000000    0.182957   22.000000   \n",
       "50%     433.500000    0.000000    3.000000    0.182957   26.078481   \n",
       "75%     661.000000    1.000000    3.000000    0.711712   36.000000   \n",
       "max     891.000000    1.000000    3.000000    0.711712   80.000000   \n",
       "\n",
       "            SibSp       Parch        Fare    Embarked  \n",
       "count  270.000000  270.000000  270.000000  270.000000  \n",
       "mean     0.492593    0.392593   34.109722    0.369709  \n",
       "std      1.082962    0.827917   56.777782    0.079732  \n",
       "min      0.000000    0.000000    0.000000    0.322940  \n",
       "25%      0.000000    0.000000    7.956250    0.322940  \n",
       "50%      0.000000    0.000000   15.072900    0.322940  \n",
       "75%      1.000000    0.000000   31.275000    0.423077  \n",
       "max      8.000000    6.000000  512.329200    0.525424  "
      ]
     },
     "execution_count": 65,
     "metadata": {},
     "output_type": "execute_result"
    }
   ],
   "source": [
    "dataval.describe()"
   ]
  },
  {
   "cell_type": "code",
   "execution_count": 66,
   "metadata": {},
   "outputs": [],
   "source": [
    "#now extracting validation input and output examples from dataval "
   ]
  },
  {
   "cell_type": "code",
   "execution_count": 67,
   "metadata": {},
   "outputs": [
    {
     "name": "stdout",
     "output_type": "stream",
     "text": [
      "(270, 7)\n",
      "(270, 1)\n"
     ]
    }
   ],
   "source": [
    "listy=[2,4,5,6,7,9,11]\n",
    "xval=np.array(dataval.iloc[:,listy])\n",
    "yval=np.array(dataval.iloc[:,1]).reshape(-1,1)\n",
    "print(xval.shape)\n",
    "print(yval.shape)"
   ]
  },
  {
   "cell_type": "code",
   "execution_count": 68,
   "metadata": {},
   "outputs": [
    {
     "name": "stdout",
     "output_type": "stream",
     "text": [
      "(270, 8)\n"
     ]
    }
   ],
   "source": [
    "#addind column of ones to xval\n",
    "xval=np.hstack((np.ones(xval.shape[0]).reshape(-1,1),xval))\n",
    "print(xval.shape)"
   ]
  },
  {
   "cell_type": "code",
   "execution_count": 69,
   "metadata": {},
   "outputs": [],
   "source": [
    "#now dealing with datatest"
   ]
  },
  {
   "cell_type": "code",
   "execution_count": 70,
   "metadata": {},
   "outputs": [],
   "source": [
    "dataloc=\"C:/Users/Ritik/Desktop/Projects_Flash/Titanic_/test.csv\""
   ]
  },
  {
   "cell_type": "code",
   "execution_count": 71,
   "metadata": {},
   "outputs": [],
   "source": [
    "datatest=pd.read_csv(dataloc,header=0)"
   ]
  },
  {
   "cell_type": "code",
   "execution_count": 72,
   "metadata": {},
   "outputs": [
    {
     "data": {
      "text/html": [
       "<div>\n",
       "<style scoped>\n",
       "    .dataframe tbody tr th:only-of-type {\n",
       "        vertical-align: middle;\n",
       "    }\n",
       "\n",
       "    .dataframe tbody tr th {\n",
       "        vertical-align: top;\n",
       "    }\n",
       "\n",
       "    .dataframe thead th {\n",
       "        text-align: right;\n",
       "    }\n",
       "</style>\n",
       "<table border=\"1\" class=\"dataframe\">\n",
       "  <thead>\n",
       "    <tr style=\"text-align: right;\">\n",
       "      <th></th>\n",
       "      <th>PassengerId</th>\n",
       "      <th>Pclass</th>\n",
       "      <th>Name</th>\n",
       "      <th>Sex</th>\n",
       "      <th>Age</th>\n",
       "      <th>SibSp</th>\n",
       "      <th>Parch</th>\n",
       "      <th>Ticket</th>\n",
       "      <th>Fare</th>\n",
       "      <th>Cabin</th>\n",
       "      <th>Embarked</th>\n",
       "    </tr>\n",
       "  </thead>\n",
       "  <tbody>\n",
       "    <tr>\n",
       "      <th>0</th>\n",
       "      <td>892</td>\n",
       "      <td>3</td>\n",
       "      <td>Kelly, Mr. James</td>\n",
       "      <td>male</td>\n",
       "      <td>34.5</td>\n",
       "      <td>0</td>\n",
       "      <td>0</td>\n",
       "      <td>330911</td>\n",
       "      <td>7.8292</td>\n",
       "      <td>NaN</td>\n",
       "      <td>Q</td>\n",
       "    </tr>\n",
       "    <tr>\n",
       "      <th>1</th>\n",
       "      <td>893</td>\n",
       "      <td>3</td>\n",
       "      <td>Wilkes, Mrs. James (Ellen Needs)</td>\n",
       "      <td>female</td>\n",
       "      <td>47.0</td>\n",
       "      <td>1</td>\n",
       "      <td>0</td>\n",
       "      <td>363272</td>\n",
       "      <td>7.0000</td>\n",
       "      <td>NaN</td>\n",
       "      <td>S</td>\n",
       "    </tr>\n",
       "    <tr>\n",
       "      <th>2</th>\n",
       "      <td>894</td>\n",
       "      <td>2</td>\n",
       "      <td>Myles, Mr. Thomas Francis</td>\n",
       "      <td>male</td>\n",
       "      <td>62.0</td>\n",
       "      <td>0</td>\n",
       "      <td>0</td>\n",
       "      <td>240276</td>\n",
       "      <td>9.6875</td>\n",
       "      <td>NaN</td>\n",
       "      <td>Q</td>\n",
       "    </tr>\n",
       "    <tr>\n",
       "      <th>3</th>\n",
       "      <td>895</td>\n",
       "      <td>3</td>\n",
       "      <td>Wirz, Mr. Albert</td>\n",
       "      <td>male</td>\n",
       "      <td>27.0</td>\n",
       "      <td>0</td>\n",
       "      <td>0</td>\n",
       "      <td>315154</td>\n",
       "      <td>8.6625</td>\n",
       "      <td>NaN</td>\n",
       "      <td>S</td>\n",
       "    </tr>\n",
       "    <tr>\n",
       "      <th>4</th>\n",
       "      <td>896</td>\n",
       "      <td>3</td>\n",
       "      <td>Hirvonen, Mrs. Alexander (Helga E Lindqvist)</td>\n",
       "      <td>female</td>\n",
       "      <td>22.0</td>\n",
       "      <td>1</td>\n",
       "      <td>1</td>\n",
       "      <td>3101298</td>\n",
       "      <td>12.2875</td>\n",
       "      <td>NaN</td>\n",
       "      <td>S</td>\n",
       "    </tr>\n",
       "  </tbody>\n",
       "</table>\n",
       "</div>"
      ],
      "text/plain": [
       "   PassengerId  Pclass                                          Name     Sex  \\\n",
       "0          892       3                              Kelly, Mr. James    male   \n",
       "1          893       3              Wilkes, Mrs. James (Ellen Needs)  female   \n",
       "2          894       2                     Myles, Mr. Thomas Francis    male   \n",
       "3          895       3                              Wirz, Mr. Albert    male   \n",
       "4          896       3  Hirvonen, Mrs. Alexander (Helga E Lindqvist)  female   \n",
       "\n",
       "    Age  SibSp  Parch   Ticket     Fare Cabin Embarked  \n",
       "0  34.5      0      0   330911   7.8292   NaN        Q  \n",
       "1  47.0      1      0   363272   7.0000   NaN        S  \n",
       "2  62.0      0      0   240276   9.6875   NaN        Q  \n",
       "3  27.0      0      0   315154   8.6625   NaN        S  \n",
       "4  22.0      1      1  3101298  12.2875   NaN        S  "
      ]
     },
     "execution_count": 72,
     "metadata": {},
     "output_type": "execute_result"
    }
   ],
   "source": [
    "datatest.head()"
   ]
  },
  {
   "cell_type": "code",
   "execution_count": 73,
   "metadata": {},
   "outputs": [
    {
     "data": {
      "text/html": [
       "<div>\n",
       "<style scoped>\n",
       "    .dataframe tbody tr th:only-of-type {\n",
       "        vertical-align: middle;\n",
       "    }\n",
       "\n",
       "    .dataframe tbody tr th {\n",
       "        vertical-align: top;\n",
       "    }\n",
       "\n",
       "    .dataframe thead th {\n",
       "        text-align: right;\n",
       "    }\n",
       "</style>\n",
       "<table border=\"1\" class=\"dataframe\">\n",
       "  <thead>\n",
       "    <tr style=\"text-align: right;\">\n",
       "      <th></th>\n",
       "      <th>PassengerId</th>\n",
       "      <th>Pclass</th>\n",
       "      <th>Age</th>\n",
       "      <th>SibSp</th>\n",
       "      <th>Parch</th>\n",
       "      <th>Fare</th>\n",
       "    </tr>\n",
       "  </thead>\n",
       "  <tbody>\n",
       "    <tr>\n",
       "      <th>count</th>\n",
       "      <td>418.000000</td>\n",
       "      <td>418.000000</td>\n",
       "      <td>332.000000</td>\n",
       "      <td>418.000000</td>\n",
       "      <td>418.000000</td>\n",
       "      <td>417.000000</td>\n",
       "    </tr>\n",
       "    <tr>\n",
       "      <th>mean</th>\n",
       "      <td>1100.500000</td>\n",
       "      <td>2.265550</td>\n",
       "      <td>30.272590</td>\n",
       "      <td>0.447368</td>\n",
       "      <td>0.392344</td>\n",
       "      <td>35.627188</td>\n",
       "    </tr>\n",
       "    <tr>\n",
       "      <th>std</th>\n",
       "      <td>120.810458</td>\n",
       "      <td>0.841838</td>\n",
       "      <td>14.181209</td>\n",
       "      <td>0.896760</td>\n",
       "      <td>0.981429</td>\n",
       "      <td>55.907576</td>\n",
       "    </tr>\n",
       "    <tr>\n",
       "      <th>min</th>\n",
       "      <td>892.000000</td>\n",
       "      <td>1.000000</td>\n",
       "      <td>0.170000</td>\n",
       "      <td>0.000000</td>\n",
       "      <td>0.000000</td>\n",
       "      <td>0.000000</td>\n",
       "    </tr>\n",
       "    <tr>\n",
       "      <th>25%</th>\n",
       "      <td>996.250000</td>\n",
       "      <td>1.000000</td>\n",
       "      <td>21.000000</td>\n",
       "      <td>0.000000</td>\n",
       "      <td>0.000000</td>\n",
       "      <td>7.895800</td>\n",
       "    </tr>\n",
       "    <tr>\n",
       "      <th>50%</th>\n",
       "      <td>1100.500000</td>\n",
       "      <td>3.000000</td>\n",
       "      <td>27.000000</td>\n",
       "      <td>0.000000</td>\n",
       "      <td>0.000000</td>\n",
       "      <td>14.454200</td>\n",
       "    </tr>\n",
       "    <tr>\n",
       "      <th>75%</th>\n",
       "      <td>1204.750000</td>\n",
       "      <td>3.000000</td>\n",
       "      <td>39.000000</td>\n",
       "      <td>1.000000</td>\n",
       "      <td>0.000000</td>\n",
       "      <td>31.500000</td>\n",
       "    </tr>\n",
       "    <tr>\n",
       "      <th>max</th>\n",
       "      <td>1309.000000</td>\n",
       "      <td>3.000000</td>\n",
       "      <td>76.000000</td>\n",
       "      <td>8.000000</td>\n",
       "      <td>9.000000</td>\n",
       "      <td>512.329200</td>\n",
       "    </tr>\n",
       "  </tbody>\n",
       "</table>\n",
       "</div>"
      ],
      "text/plain": [
       "       PassengerId      Pclass         Age       SibSp       Parch        Fare\n",
       "count   418.000000  418.000000  332.000000  418.000000  418.000000  417.000000\n",
       "mean   1100.500000    2.265550   30.272590    0.447368    0.392344   35.627188\n",
       "std     120.810458    0.841838   14.181209    0.896760    0.981429   55.907576\n",
       "min     892.000000    1.000000    0.170000    0.000000    0.000000    0.000000\n",
       "25%     996.250000    1.000000   21.000000    0.000000    0.000000    7.895800\n",
       "50%    1100.500000    3.000000   27.000000    0.000000    0.000000   14.454200\n",
       "75%    1204.750000    3.000000   39.000000    1.000000    0.000000   31.500000\n",
       "max    1309.000000    3.000000   76.000000    8.000000    9.000000  512.329200"
      ]
     },
     "execution_count": 73,
     "metadata": {},
     "output_type": "execute_result"
    }
   ],
   "source": [
    "datatest.describe()"
   ]
  },
  {
   "cell_type": "code",
   "execution_count": 74,
   "metadata": {},
   "outputs": [
    {
     "name": "stdout",
     "output_type": "stream",
     "text": [
      "False\n",
      "False\n"
     ]
    }
   ],
   "source": [
    "#checking for missing values in datatest in Sex and Embarked columns\n",
    "print(datatest[\"Sex\"].isnull().any())\n",
    "print(datatest[\"Embarked\"].isnull().any())"
   ]
  },
  {
   "cell_type": "markdown",
   "metadata": {},
   "source": [
    "### now changing columns which have type OBJECT to float or int\n",
    "(like we did with datatrain)"
   ]
  },
  {
   "cell_type": "code",
   "execution_count": 75,
   "metadata": {},
   "outputs": [
    {
     "data": {
      "text/plain": [
       "PassengerId      int64\n",
       "Pclass           int64\n",
       "Name            object\n",
       "Sex             object\n",
       "Age            float64\n",
       "SibSp            int64\n",
       "Parch            int64\n",
       "Ticket          object\n",
       "Fare           float64\n",
       "Cabin           object\n",
       "Embarked        object\n",
       "dtype: object"
      ]
     },
     "execution_count": 75,
     "metadata": {},
     "output_type": "execute_result"
    }
   ],
   "source": [
    "datatest.dtypes"
   ]
  },
  {
   "cell_type": "code",
   "execution_count": 76,
   "metadata": {},
   "outputs": [],
   "source": [
    "datatest=all_in_one_conv(datatest,yom,yof,yoc,yoq,yos,yo1,yo2,True,True)"
   ]
  },
  {
   "cell_type": "code",
   "execution_count": 77,
   "metadata": {},
   "outputs": [
    {
     "data": {
      "text/plain": [
       "PassengerId      int64\n",
       "Pclass         float64\n",
       "Name            object\n",
       "Sex            float64\n",
       "Age            float64\n",
       "SibSp          float64\n",
       "Parch          float64\n",
       "Ticket          object\n",
       "Fare           float64\n",
       "Cabin           object\n",
       "Embarked       float64\n",
       "dtype: object"
      ]
     },
     "execution_count": 77,
     "metadata": {},
     "output_type": "execute_result"
    }
   ],
   "source": [
    "datatest[\"Sex\"]=pd.to_numeric(datatest[\"Sex\"])\n",
    "datatest[\"Embarked\"]=pd.to_numeric(datatest[\"Embarked\"])\n",
    "datatest[\"Pclass\"]=(pd.to_numeric(datatest[\"Pclass\"])).astype(float)\n",
    "datatest[\"SibSp\"]=(pd.to_numeric(datatest[\"SibSp\"])).astype(float)\n",
    "datatest[\"Parch\"]=(pd.to_numeric(datatest[\"Parch\"])).astype(float)\n",
    "datatest.dtypes"
   ]
  },
  {
   "cell_type": "code",
   "execution_count": 78,
   "metadata": {},
   "outputs": [],
   "source": [
    "#now extracting testing input examples from datatest "
   ]
  },
  {
   "cell_type": "code",
   "execution_count": 79,
   "metadata": {},
   "outputs": [
    {
     "name": "stdout",
     "output_type": "stream",
     "text": [
      "(417, 7)\n"
     ]
    }
   ],
   "source": [
    "listy=[1,3,4,5,6,8,10]\n",
    "xtest=np.array(datatest.iloc[:,listy])\n",
    "print(xtest.shape)"
   ]
  },
  {
   "cell_type": "code",
   "execution_count": 80,
   "metadata": {},
   "outputs": [
    {
     "name": "stdout",
     "output_type": "stream",
     "text": [
      "(417, 8)\n"
     ]
    }
   ],
   "source": [
    "#adding column of ones\n",
    "xtest=np.hstack((np.ones(xtest.shape[0]).reshape(-1,1),xtest))\n",
    "print(xtest.shape)"
   ]
  },
  {
   "cell_type": "code",
   "execution_count": 81,
   "metadata": {},
   "outputs": [
    {
     "data": {
      "text/html": [
       "<div>\n",
       "<style scoped>\n",
       "    .dataframe tbody tr th:only-of-type {\n",
       "        vertical-align: middle;\n",
       "    }\n",
       "\n",
       "    .dataframe tbody tr th {\n",
       "        vertical-align: top;\n",
       "    }\n",
       "\n",
       "    .dataframe thead th {\n",
       "        text-align: right;\n",
       "    }\n",
       "</style>\n",
       "<table border=\"1\" class=\"dataframe\">\n",
       "  <thead>\n",
       "    <tr style=\"text-align: right;\">\n",
       "      <th></th>\n",
       "      <th>PassengerId</th>\n",
       "      <th>Pclass</th>\n",
       "      <th>Sex</th>\n",
       "      <th>Age</th>\n",
       "      <th>SibSp</th>\n",
       "      <th>Parch</th>\n",
       "      <th>Fare</th>\n",
       "      <th>Embarked</th>\n",
       "    </tr>\n",
       "  </thead>\n",
       "  <tbody>\n",
       "    <tr>\n",
       "      <th>count</th>\n",
       "      <td>417.000000</td>\n",
       "      <td>417.000000</td>\n",
       "      <td>417.000000</td>\n",
       "      <td>417.000000</td>\n",
       "      <td>417.000000</td>\n",
       "      <td>417.000000</td>\n",
       "      <td>417.000000</td>\n",
       "      <td>417.000000</td>\n",
       "    </tr>\n",
       "    <tr>\n",
       "      <th>mean</th>\n",
       "      <td>1100.635492</td>\n",
       "      <td>2.263789</td>\n",
       "      <td>0.375693</td>\n",
       "      <td>29.145507</td>\n",
       "      <td>0.448441</td>\n",
       "      <td>0.393285</td>\n",
       "      <td>35.627188</td>\n",
       "      <td>0.383515</td>\n",
       "    </tr>\n",
       "    <tr>\n",
       "      <th>std</th>\n",
       "      <td>120.923774</td>\n",
       "      <td>0.842077</td>\n",
       "      <td>0.254791</td>\n",
       "      <td>12.726002</td>\n",
       "      <td>0.897568</td>\n",
       "      <td>0.982419</td>\n",
       "      <td>55.907576</td>\n",
       "      <td>0.086507</td>\n",
       "    </tr>\n",
       "    <tr>\n",
       "      <th>min</th>\n",
       "      <td>892.000000</td>\n",
       "      <td>1.000000</td>\n",
       "      <td>0.182957</td>\n",
       "      <td>0.170000</td>\n",
       "      <td>0.000000</td>\n",
       "      <td>0.000000</td>\n",
       "      <td>0.000000</td>\n",
       "      <td>0.322940</td>\n",
       "    </tr>\n",
       "    <tr>\n",
       "      <th>25%</th>\n",
       "      <td>996.000000</td>\n",
       "      <td>1.000000</td>\n",
       "      <td>0.182957</td>\n",
       "      <td>23.000000</td>\n",
       "      <td>0.000000</td>\n",
       "      <td>0.000000</td>\n",
       "      <td>7.895800</td>\n",
       "      <td>0.322940</td>\n",
       "    </tr>\n",
       "    <tr>\n",
       "      <th>50%</th>\n",
       "      <td>1101.000000</td>\n",
       "      <td>3.000000</td>\n",
       "      <td>0.182957</td>\n",
       "      <td>25.159028</td>\n",
       "      <td>0.000000</td>\n",
       "      <td>0.000000</td>\n",
       "      <td>14.454200</td>\n",
       "      <td>0.322940</td>\n",
       "    </tr>\n",
       "    <tr>\n",
       "      <th>75%</th>\n",
       "      <td>1205.000000</td>\n",
       "      <td>3.000000</td>\n",
       "      <td>0.711712</td>\n",
       "      <td>35.000000</td>\n",
       "      <td>1.000000</td>\n",
       "      <td>0.000000</td>\n",
       "      <td>31.500000</td>\n",
       "      <td>0.423077</td>\n",
       "    </tr>\n",
       "    <tr>\n",
       "      <th>max</th>\n",
       "      <td>1309.000000</td>\n",
       "      <td>3.000000</td>\n",
       "      <td>0.711712</td>\n",
       "      <td>76.000000</td>\n",
       "      <td>8.000000</td>\n",
       "      <td>9.000000</td>\n",
       "      <td>512.329200</td>\n",
       "      <td>0.525424</td>\n",
       "    </tr>\n",
       "  </tbody>\n",
       "</table>\n",
       "</div>"
      ],
      "text/plain": [
       "       PassengerId      Pclass         Sex         Age       SibSp  \\\n",
       "count   417.000000  417.000000  417.000000  417.000000  417.000000   \n",
       "mean   1100.635492    2.263789    0.375693   29.145507    0.448441   \n",
       "std     120.923774    0.842077    0.254791   12.726002    0.897568   \n",
       "min     892.000000    1.000000    0.182957    0.170000    0.000000   \n",
       "25%     996.000000    1.000000    0.182957   23.000000    0.000000   \n",
       "50%    1101.000000    3.000000    0.182957   25.159028    0.000000   \n",
       "75%    1205.000000    3.000000    0.711712   35.000000    1.000000   \n",
       "max    1309.000000    3.000000    0.711712   76.000000    8.000000   \n",
       "\n",
       "            Parch        Fare    Embarked  \n",
       "count  417.000000  417.000000  417.000000  \n",
       "mean     0.393285   35.627188    0.383515  \n",
       "std      0.982419   55.907576    0.086507  \n",
       "min      0.000000    0.000000    0.322940  \n",
       "25%      0.000000    7.895800    0.322940  \n",
       "50%      0.000000   14.454200    0.322940  \n",
       "75%      0.000000   31.500000    0.423077  \n",
       "max      9.000000  512.329200    0.525424  "
      ]
     },
     "execution_count": 81,
     "metadata": {},
     "output_type": "execute_result"
    }
   ],
   "source": [
    "datatest.describe()"
   ]
  },
  {
   "cell_type": "markdown",
   "metadata": {},
   "source": [
    "Now one importatnt thing that we had to change pandas series datatype from object to float,as done above with datatrain , dataval and datatest \n",
    "As in next step, if we would have not changed then , in computing cost there is a function call to \"gz(theta,xtrain)\" which had an operation np.exp()\n",
    "This would have flagged error while computing np.exp() if datatype would have been \"object\" "
   ]
  },
  {
   "cell_type": "markdown",
   "metadata": {},
   "source": [
    "### Now we will perform logistic regression"
   ]
  },
  {
   "cell_type": "code",
   "execution_count": 82,
   "metadata": {},
   "outputs": [
    {
     "name": "stdout",
     "output_type": "stream",
     "text": [
      "(619, 8)\n"
     ]
    }
   ],
   "source": [
    "print(xtrain.shape)"
   ]
  },
  {
   "cell_type": "code",
   "execution_count": 83,
   "metadata": {},
   "outputs": [
    {
     "name": "stdout",
     "output_type": "stream",
     "text": [
      "(8, 1)\n"
     ]
    }
   ],
   "source": [
    "theta=np.zeros(xtrain.shape[1]).reshape(-1,1)\n",
    "print(theta.shape)"
   ]
  },
  {
   "cell_type": "code",
   "execution_count": 84,
   "metadata": {},
   "outputs": [
    {
     "name": "stdout",
     "output_type": "stream",
     "text": [
      "[0.6931471805599454]\n"
     ]
    }
   ],
   "source": [
    "iterations=5000\n",
    "alpha=0.01\n",
    "xtrain_one,mu,sig=feature_scale_own(xtrain)\n",
    "xval_one=feature_scale_other(xval,mu,sig)\n",
    "ite=[i for i in range(0,iterations+1)]\n",
    "J_val_train=[compute_cost(theta,xtrain,ytrain)]\n",
    "print(J_val_train)"
   ]
  },
  {
   "cell_type": "code",
   "execution_count": 85,
   "metadata": {},
   "outputs": [],
   "source": [
    "for i in range(0,iterations):\n",
    "    theta=theta-alpha*(compute_grad(theta,xtrain_one,ytrain))\n",
    "    J_val_train.append(compute_cost(theta,xtrain_one,ytrain))"
   ]
  },
  {
   "cell_type": "code",
   "execution_count": 86,
   "metadata": {},
   "outputs": [
    {
     "data": {
      "text/plain": [
       "Text(0,0.5,'Error (In sample)')"
      ]
     },
     "execution_count": 86,
     "metadata": {},
     "output_type": "execute_result"
    },
    {
     "data": {
      "image/png": "[encoded data removed]",
      "text/plain": [
       "<matplotlib.figure.Figure at 0x1872d377240>"
      ]
     },
     "metadata": {},
     "output_type": "display_data"
    }
   ],
   "source": [
    "plt.plot(ite,J_val_train)\n",
    "plt.xlabel(\"No. of iterations\")\n",
    "plt.ylabel(\"Error (In sample)\")"
   ]
  },
  {
   "cell_type": "code",
   "execution_count": 87,
   "metadata": {},
   "outputs": [
    {
     "data": {
      "text/plain": [
       "Text(0,0.5,'Error (In sample)')"
      ]
     },
     "execution_count": 87,
     "metadata": {},
     "output_type": "execute_result"
    },
    {
     "data": {
      "image/png": "[encoded data removed]",
      "text/plain": [
       "<matplotlib.figure.Figure at 0x1872d4fa828>"
      ]
     },
     "metadata": {},
     "output_type": "display_data"
    }
   ],
   "source": [
    "plt.plot(ite[4000:5000],J_val_train[4000:5000])\n",
    "plt.xlabel(\"No. of iterations\")\n",
    "plt.ylabel(\"Error (In sample)\")"
   ]
  },
  {
   "cell_type": "markdown",
   "metadata": {},
   "source": [
    "### Plot learning curve"
   ]
  },
  {
   "cell_type": "code",
   "execution_count": 88,
   "metadata": {},
   "outputs": [],
   "source": [
    "mset=[i for i in range(1,(xtrain_one.shape[0])+1)]\n",
    "iterations=5000\n",
    "alpha=0.01\n",
    "J_val_train=[]\n",
    "J_val_val=[]"
   ]
  },
  {
   "cell_type": "code",
   "execution_count": 89,
   "metadata": {},
   "outputs": [],
   "source": [
    "for m in mset:\n",
    "    theta=np.zeros(xtrain_one.shape[1]).reshape(-1,1)\n",
    "    for i in range(0,iterations):\n",
    "        theta=theta-alpha*(compute_grad(theta,xtrain_one[0:m,:],ytrain[0:m]))\n",
    "    J_val_train.append(compute_cost(theta,xtrain_one[0:m,:],ytrain[0:m]))\n",
    "    J_val_val.append(compute_cost(theta,xval_one,yval))"
   ]
  },
  {
   "cell_type": "code",
   "execution_count": 90,
   "metadata": {},
   "outputs": [
    {
     "data": {
      "text/plain": [
       "<matplotlib.legend.Legend at 0x1872d5bcf60>"
      ]
     },
     "execution_count": 90,
     "metadata": {},
     "output_type": "execute_result"
    },
    {
     "data": {
      "image/png": "[encoded data removed]",
      "text/plain": [
       "<matplotlib.figure.Figure at 0x1872d583eb8>"
      ]
     },
     "metadata": {},
     "output_type": "display_data"
    }
   ],
   "source": [
    "plt.plot(mset,J_val_train,c='b')\n",
    "plt.plot(mset,J_val_val,c='g')\n",
    "plt.xlabel(\"No. of Training examples\")\n",
    "plt.ylabel(\"Error\")\n",
    "plt.legend([\"Training sample error\",\"Validation sample error\"])"
   ]
  },
  {
   "cell_type": "markdown",
   "metadata": {},
   "source": [
    "## Clearly a case of high bias problem...so either we need more features or increase polynomial terms"
   ]
  },
  {
   "cell_type": "markdown",
   "metadata": {},
   "source": [
    "let us try with different polynomial degrees"
   ]
  },
  {
   "cell_type": "code",
   "execution_count": 91,
   "metadata": {},
   "outputs": [],
   "source": [
    "degset=[1,2,3,4]\n",
    "J_val_val_deg=[]\n",
    "J_val_train_deg=[]\n",
    "iterations=5000\n",
    "alpha=0.01"
   ]
  },
  {
   "cell_type": "code",
   "execution_count": 92,
   "metadata": {},
   "outputs": [],
   "source": [
    "for degri in degset:\n",
    "    poly=PolynomialFeatures(degree=degri,include_bias=True,interaction_only=False)\n",
    "    xtrain_poly=poly.fit_transform(xtrain[:,1:])\n",
    "    xval_poly=poly.fit_transform(xval[:,1:])\n",
    "    xtrain_two,mu,sig=feature_scale_own(xtrain_poly)\n",
    "    xval_two=feature_scale_other(xval_poly,mu,sig)\n",
    "    theta=np.zeros(xtrain_two.shape[1]).reshape(-1,1)\n",
    "    for i in range(0,iterations):\n",
    "        theta=theta-alpha*(compute_grad(theta,xtrain_two,ytrain))\n",
    "    J_val_train_deg.append(compute_cost(theta,xtrain_two,ytrain))\n",
    "    J_val_val_deg.append(compute_cost(theta,xval_two,yval))"
   ]
  },
  {
   "cell_type": "code",
   "execution_count": 93,
   "metadata": {},
   "outputs": [
    {
     "name": "stdout",
     "output_type": "stream",
     "text": [
      "(619, 8) (619, 330)\n"
     ]
    }
   ],
   "source": [
    "print(xtrain.shape,xtrain_two.shape)"
   ]
  },
  {
   "cell_type": "code",
   "execution_count": 94,
   "metadata": {},
   "outputs": [
    {
     "data": {
      "text/plain": [
       "<matplotlib.legend.Legend at 0x1872d637860>"
      ]
     },
     "execution_count": 94,
     "metadata": {},
     "output_type": "execute_result"
    },
    {
     "data": {
      "image/png": "[encoded data removed]",
      "text/plain": [
       "<matplotlib.figure.Figure at 0x1872d5f6860>"
      ]
     },
     "metadata": {},
     "output_type": "display_data"
    }
   ],
   "source": [
    "sns.set()\n",
    "plt.plot(degset,J_val_train_deg,c='b')\n",
    "plt.plot(degset,J_val_val_deg,c='g')\n",
    "plt.xlabel(\"Polynomial degree\")\n",
    "plt.ylabel(\"Error\")\n",
    "plt.legend([\"Training Error\",\"Validation Error\"])\n"
   ]
  },
  {
   "cell_type": "code",
   "execution_count": 95,
   "metadata": {},
   "outputs": [
    {
     "name": "stdout",
     "output_type": "stream",
     "text": [
      "[1, 2, 3, 4]\n",
      "[0.44122306254241495, 0.41236100476272314, 0.3951862051378174, 0.3769447131329321]\n",
      "[0.4542473239362654, 0.440423318898455, 0.4506338631762795, 0.4642429647594299]\n"
     ]
    }
   ],
   "source": [
    "print(degset)\n",
    "print(J_val_train_deg)\n",
    "print(J_val_val_deg)"
   ]
  },
  {
   "cell_type": "markdown",
   "metadata": {},
   "source": [
    "### I think we can settle with degree=2\n",
    "Thus new xtrain and xval we be computed in just the next step"
   ]
  },
  {
   "cell_type": "code",
   "execution_count": 96,
   "metadata": {},
   "outputs": [],
   "source": [
    "poly=PolynomialFeatures(degree=2,include_bias=True,interaction_only=False)\n",
    "xtrain_poly=poly.fit_transform(xtrain[:,1:])\n",
    "xval_poly=poly.fit_transform(xval[:,1:])\n",
    "xtrain_polytwo,mu_two,sig_two=feature_scale_own(xtrain_poly)\n",
    "xval_polytwo=feature_scale_other(xval_poly,mu_two,sig_two)"
   ]
  },
  {
   "cell_type": "markdown",
   "metadata": {},
   "source": [
    "Now lets do tests to find best regularization parameter"
   ]
  },
  {
   "cell_type": "code",
   "execution_count": 97,
   "metadata": {},
   "outputs": [],
   "source": [
    "lambdaset=[]\n",
    "i=0.1\n",
    "while i<30:\n",
    "    lambdaset.append(i)\n",
    "    i+=0.3\n",
    "iterations=5000\n",
    "alpha=0.01\n",
    "J_val_val=[]\n",
    "J_val_train=[]\n",
    "theta_two=np.zeros(xtrain_polytwo.shape[1]).reshape(-1,1)"
   ]
  },
  {
   "cell_type": "code",
   "execution_count": 98,
   "metadata": {},
   "outputs": [],
   "source": [
    "for lambo in lambdaset:\n",
    "    theta=np.zeros(xtrain_polytwo.shape[1]).reshape(-1,1)\n",
    "    for i in range(0,iterations):\n",
    "        theta=theta-alpha*(compute_grad(theta,xtrain_polytwo,ytrain,lambo))\n",
    "    theta_two=np.hstack((theta_two,theta))\n",
    "    J_val_train.append(compute_cost(theta,xtrain_polytwo,ytrain))\n",
    "    J_val_val.append(compute_cost(theta,xval_polytwo,yval))"
   ]
  },
  {
   "cell_type": "code",
   "execution_count": 99,
   "metadata": {},
   "outputs": [
    {
     "data": {
      "text/plain": [
       "<matplotlib.legend.Legend at 0x1872d9719b0>"
      ]
     },
     "execution_count": 99,
     "metadata": {},
     "output_type": "execute_result"
    },
    {
     "data": {
      "image/png": "[encoded data removed]",
      "text/plain": [
       "<matplotlib.figure.Figure at 0x1872d60eef0>"
      ]
     },
     "metadata": {},
     "output_type": "display_data"
    }
   ],
   "source": [
    "plt.plot(lambdaset,J_val_train,c='b')\n",
    "plt.plot(lambdaset,J_val_val,c='g')\n",
    "plt.xlabel(\"Value of Regularization Parameter\")\n",
    "plt.ylabel(\"Error\")\n",
    "plt.legend([\"Training Error\",\"Validation Error\"])"
   ]
  },
  {
   "cell_type": "markdown",
   "metadata": {},
   "source": [
    "clearly regularization parameter is increasing validation error thus lambda=0"
   ]
  },
  {
   "cell_type": "code",
   "execution_count": 100,
   "metadata": {},
   "outputs": [
    {
     "name": "stdout",
     "output_type": "stream",
     "text": [
      "0.4404107906751306\n"
     ]
    }
   ],
   "source": [
    "errormintwo=np.array(J_val_val).min()\n",
    "print(errormintwo)\n",
    "theta_two_final=theta_two[:,(np.argmin(np.array(J_val_val))+1)]"
   ]
  },
  {
   "cell_type": "markdown",
   "metadata": {},
   "source": [
    "### Now let us try the same with degree=3"
   ]
  },
  {
   "cell_type": "code",
   "execution_count": null,
   "metadata": {},
   "outputs": [],
   "source": []
  },
  {
   "cell_type": "code",
   "execution_count": 101,
   "metadata": {},
   "outputs": [],
   "source": [
    "poly=PolynomialFeatures(degree=3,include_bias=True,interaction_only=False)\n",
    "xtrain_poly=poly.fit_transform(xtrain[:,1:])\n",
    "xval_poly=poly.fit_transform(xval[:,1:])\n",
    "xtrain_polythree,mu_three,sig_three=feature_scale_own(xtrain_poly)\n",
    "xval_polythree=feature_scale_other(xval_poly,mu_three,sig_three)"
   ]
  },
  {
   "cell_type": "markdown",
   "metadata": {},
   "source": [
    "Now lets do tests to find best regularization parameter"
   ]
  },
  {
   "cell_type": "code",
   "execution_count": 102,
   "metadata": {},
   "outputs": [],
   "source": [
    "lambdaset=[]\n",
    "i=0.1\n",
    "while i<80:\n",
    "    lambdaset.append(i)\n",
    "    i+=0.3\n",
    "iterations=5000\n",
    "alpha=0.01\n",
    "J_val_val=[]\n",
    "J_val_train=[]\n",
    "theta_three=np.zeros(xtrain_polythree.shape[1]).reshape(-1,1)"
   ]
  },
  {
   "cell_type": "code",
   "execution_count": 103,
   "metadata": {},
   "outputs": [],
   "source": [
    "for lambo in lambdaset:\n",
    "    theta=np.zeros(xtrain_polythree.shape[1]).reshape(-1,1)\n",
    "    for i in range(0,iterations):\n",
    "        theta=theta-alpha*(compute_grad(theta,xtrain_polythree,ytrain,lambo))\n",
    "    theta_three=np.hstack((theta_three,theta))\n",
    "    J_val_train.append(compute_cost(theta,xtrain_polythree,ytrain))\n",
    "    J_val_val.append(compute_cost(theta,xval_polythree,yval))"
   ]
  },
  {
   "cell_type": "code",
   "execution_count": 104,
   "metadata": {},
   "outputs": [
    {
     "data": {
      "text/plain": [
       "<matplotlib.legend.Legend at 0x1872d809780>"
      ]
     },
     "execution_count": 104,
     "metadata": {},
     "output_type": "execute_result"
    },
    {
     "data": {
      "image/png": "[encoded data removed]",
      "text/plain": [
       "<matplotlib.figure.Figure at 0x1872d7c7828>"
      ]
     },
     "metadata": {},
     "output_type": "display_data"
    }
   ],
   "source": [
    "plt.plot(lambdaset,J_val_train,c='b')\n",
    "plt.plot(lambdaset,J_val_val,c='g')\n",
    "plt.xlabel(\"Value of Regularization Parameter\")\n",
    "plt.ylabel(\"Error\")\n",
    "plt.legend([\"Training Error\",\"Validation Error\"])"
   ]
  },
  {
   "cell_type": "markdown",
   "metadata": {},
   "source": [
    "clearly regularization parameter is between 0 and 10"
   ]
  },
  {
   "cell_type": "code",
   "execution_count": 105,
   "metadata": {},
   "outputs": [
    {
     "data": {
      "text/plain": [
       "<matplotlib.legend.Legend at 0x1872d87bb70>"
      ]
     },
     "execution_count": 105,
     "metadata": {},
     "output_type": "execute_result"
    },
    {
     "data": {
      "image/png": "[encoded data removed]",
      "text/plain": [
       "<matplotlib.figure.Figure at 0x1872d7c7630>"
      ]
     },
     "metadata": {},
     "output_type": "display_data"
    }
   ],
   "source": [
    "plt.figure(figsize=(15,10))\n",
    "plt.plot(lambdaset,J_val_train,c='b')\n",
    "plt.plot(lambdaset,J_val_val,c='g')\n",
    "plt.xlabel(\"Value of Regularization Parameter\")\n",
    "plt.ylabel(\"Error\")\n",
    "plt.legend([\"Training Error\",\"Validation Error\"])"
   ]
  },
  {
   "cell_type": "code",
   "execution_count": 106,
   "metadata": {},
   "outputs": [
    {
     "name": "stdout",
     "output_type": "stream",
     "text": [
      "0.4441636137717145 23.20000000000003\n"
     ]
    }
   ],
   "source": [
    "errorminthree=np.array(J_val_val).min()\n",
    "reg_opt_three=lambdaset[np.argmin(J_val_val)]\n",
    "theta_three_final=theta_three[:,(np.argmin(J_val_val)+1)]\n",
    "print(errorminthree,reg_opt_three)"
   ]
  },
  {
   "cell_type": "code",
   "execution_count": null,
   "metadata": {},
   "outputs": [],
   "source": []
  },
  {
   "cell_type": "markdown",
   "metadata": {},
   "source": [
    "#### So we can use errortwo (error associated with degree 2 model with lambda=0) or we can use errorthree (error associated with degree 2 model with lambda=re_opt_three)\n",
    "i.e.\n",
    "if errortwo<=errorthree\n",
    "\n",
    "    theta_two\n",
    "    \n",
    "else\n",
    "\n",
    "    theta_three"
   ]
  },
  {
   "cell_type": "markdown",
   "metadata": {},
   "source": [
    "### Choosing final theta"
   ]
  },
  {
   "cell_type": "code",
   "execution_count": 107,
   "metadata": {},
   "outputs": [],
   "source": [
    "theta_final=-1\n",
    "mu_final=-1\n",
    "sig_final=-1\n",
    "degree_final=-1\n",
    "if errormintwo<=errorminthree:\n",
    "    theta_final=theta_two_final\n",
    "    mu_final=mu_two\n",
    "    sig_final=sig_two\n",
    "    degree_final=2\n",
    "elif errormintwo>errorminthree:\n",
    "    theta_final=theta_three_final\n",
    "    mu_final=mu_three\n",
    "    sig_final=sig_three\n",
    "    degree_final=3"
   ]
  },
  {
   "cell_type": "code",
   "execution_count": 108,
   "metadata": {},
   "outputs": [],
   "source": [
    "#preparing xtrain_final , xval_final and xtest_final\n",
    "poly=PolynomialFeatures(degree=degree_final,include_bias=True,interaction_only=False)\n",
    "\n",
    "xtrain_final=poly.fit_transform(xtrain[:,1:])\n",
    "xval_final=poly.fit_transform(xval[:,1:])\n",
    "xtest_final=poly.fit_transform(xtest[:,1:])\n",
    "\n",
    "xtrain_final=feature_scale_other(xtrain_final,mu_final,sig_final)\n",
    "xval_final=feature_scale_other(xval_final,mu_final,sig_final)\n",
    "xtest_final=feature_scale_other(xtest_final,mu_final,sig_final)"
   ]
  },
  {
   "cell_type": "markdown",
   "metadata": {},
   "source": [
    "### Now we have to select threshold for classification i.e. whether to cut gz(theta,x) at 0.5 or some other value"
   ]
  },
  {
   "cell_type": "code",
   "execution_count": 109,
   "metadata": {},
   "outputs": [],
   "source": [
    "epsilonset=np.arange(0.2,0.99,0.01)\n",
    "accuracy=[]"
   ]
  },
  {
   "cell_type": "code",
   "execution_count": 110,
   "metadata": {},
   "outputs": [],
   "source": [
    "for ep in epsilonset:\n",
    "    hey=compute_acc(theta_final,xval_final,yval,ep)\n",
    "    accuracy.append(hey)"
   ]
  },
  {
   "cell_type": "code",
   "execution_count": 111,
   "metadata": {},
   "outputs": [
    {
     "data": {
      "text/plain": [
       "Text(0,0.5,'Prediction accuracy')"
      ]
     },
     "execution_count": 111,
     "metadata": {},
     "output_type": "execute_result"
    },
    {
     "data": {
      "image/png": "[encoded data removed]",
      "text/plain": [
       "<matplotlib.figure.Figure at 0x1872d820ba8>"
      ]
     },
     "metadata": {},
     "output_type": "display_data"
    }
   ],
   "source": [
    "plt.plot(epsilonset,accuracy)\n",
    "plt.xlabel(\"Threshold / Cut-Off Value for sigmoid\")\n",
    "plt.ylabel(\"Prediction accuracy\")"
   ]
  },
  {
   "cell_type": "code",
   "execution_count": 112,
   "metadata": {},
   "outputs": [
    {
     "name": "stdout",
     "output_type": "stream",
     "text": [
      "0.48000000000000026 0.8185185185185185\n"
     ]
    }
   ],
   "source": [
    "epsilon_opt=epsilonset[np.argmax(accuracy)]\n",
    "accuracy_opt=np.array(accuracy).max()\n",
    "print(epsilon_opt,accuracy_opt)"
   ]
  },
  {
   "cell_type": "markdown",
   "metadata": {},
   "source": [
    "## Thus maximum accuracy when we use threshold value as epsilon_opt"
   ]
  },
  {
   "cell_type": "code",
   "execution_count": 113,
   "metadata": {},
   "outputs": [
    {
     "name": "stdout",
     "output_type": "stream",
     "text": [
      "[0 0 0 0 1 0 1 0 1 0 0 0 1 0 1 1 0 0 0 1 0 0 1 1 1 0 1 0 0 0 0 0 0 0 1 0 1\n",
      " 1 0 0 0 0 0 1 1 0 0 0 1 0 0 0 1 1 0 0 0 0 0 1 0 0 0 1 0 1 1 0 0 0 1 0 1 0\n",
      " 1 1 0 1 0 1 0 1 0 0 0 0 1 1 1 1 1 0 1 0 1 0 1 0 1 0 1 0 0 0 1 0 0 0 0 0 0\n",
      " 1 1 1 1 0 0 1 0 1 1 0 1 0 0 1 0 1 0 0 0 0 0 0 0 0 0 0 1 0 0 1 0 0 0 0 0 0\n",
      " 0 0 1 0 0 0 0 1 1 0 1 1 0 1 0 0 0 0 0 1 1 0 0 0 0 0 1 1 0 1 1 0 0 1 0 1 0\n",
      " 1 0 0 0 0 0 0 0 1 0 1 1 0 1 1 1 1 1 0 1 1 0 1 0 0 0 0 1 0 0 1 0 1 0 1 0 1\n",
      " 0 1 1 0 1 0 0 0 1 0 0 0 0 0 0 1 1 1 1 0 0 0 0 1 0 1 1 1 0 1 0 0 0 0 0 1 0\n",
      " 0 0 1 1 0 0 0 0 1 0 0 0 1 1 0 1 0 0 0 0 1 0 1 1 1 0 0 0 0 0 0 1 0 0 0 0 1\n",
      " 0 0 0 0 0 0 0 1 1 0 0 0 0 0 0 0 1 1 1 0 0 0 0 0 0 0 0 1 0 1 0 0 0 1 0 0 1\n",
      " 0 0 0 0 0 0 0 0 0 1 0 1 0 1 0 1 1 0 0 0 1 0 1 0 0 0 0 1 1 0 1 0 0 1 1 0 0\n",
      " 1 0 0 1 1 0 0 0 0 0 0 1 1 0 1 0 0 0 0 0 1 0 0 0 1 0 1 0 0 1 0 1 1 0 0 0 0\n",
      " 1 1 1 1 1 0 1 0 0 0]\n"
     ]
    }
   ],
   "source": [
    "#making predictions on Test set\n",
    "my_result=test_output(theta_final,xtest_final,epsilon_opt)\n",
    "print(my_result)"
   ]
  },
  {
   "cell_type": "code",
   "execution_count": 114,
   "metadata": {},
   "outputs": [],
   "source": [
    "#solution format demanded in problem\n",
    "solution_to_submit=np.hstack((np.array(datatest[\"PassengerId\"]).reshape(-1,1),my_result.reshape(-1,1)))"
   ]
  },
  {
   "cell_type": "code",
   "execution_count": 115,
   "metadata": {},
   "outputs": [
    {
     "name": "stdout",
     "output_type": "stream",
     "text": [
      "[[ 892    0]\n",
      " [ 893    0]\n",
      " [ 894    0]\n",
      " [ 895    0]\n",
      " [ 896    1]\n",
      " [ 897    0]\n",
      " [ 898    1]\n",
      " [ 899    0]\n",
      " [ 900    1]\n",
      " [ 901    0]\n",
      " [ 902    0]\n",
      " [ 903    0]\n",
      " [ 904    1]\n",
      " [ 905    0]\n",
      " [ 906    1]\n",
      " [ 907    1]\n",
      " [ 908    0]\n",
      " [ 909    0]\n",
      " [ 910    0]\n",
      " [ 911    1]\n",
      " [ 912    0]\n",
      " [ 913    0]\n",
      " [ 914    1]\n",
      " [ 915    1]\n",
      " [ 916    1]\n",
      " [ 917    0]\n",
      " [ 918    1]\n",
      " [ 919    0]\n",
      " [ 920    0]\n",
      " [ 921    0]\n",
      " [ 922    0]\n",
      " [ 923    0]\n",
      " [ 924    0]\n",
      " [ 925    0]\n",
      " [ 926    1]\n",
      " [ 927    0]\n",
      " [ 928    1]\n",
      " [ 929    1]\n",
      " [ 930    0]\n",
      " [ 931    0]\n",
      " [ 932    0]\n",
      " [ 933    0]\n",
      " [ 934    0]\n",
      " [ 935    1]\n",
      " [ 936    1]\n",
      " [ 937    0]\n",
      " [ 938    0]\n",
      " [ 939    0]\n",
      " [ 940    1]\n",
      " [ 941    0]\n",
      " [ 942    0]\n",
      " [ 943    0]\n",
      " [ 944    1]\n",
      " [ 945    1]\n",
      " [ 946    0]\n",
      " [ 947    0]\n",
      " [ 948    0]\n",
      " [ 949    0]\n",
      " [ 950    0]\n",
      " [ 951    1]\n",
      " [ 952    0]\n",
      " [ 953    0]\n",
      " [ 954    0]\n",
      " [ 955    1]\n",
      " [ 956    0]\n",
      " [ 957    1]\n",
      " [ 958    1]\n",
      " [ 959    0]\n",
      " [ 960    0]\n",
      " [ 961    0]\n",
      " [ 962    1]\n",
      " [ 963    0]\n",
      " [ 964    1]\n",
      " [ 965    0]\n",
      " [ 966    1]\n",
      " [ 967    1]\n",
      " [ 968    0]\n",
      " [ 969    1]\n",
      " [ 970    0]\n",
      " [ 971    1]\n",
      " [ 972    0]\n",
      " [ 973    1]\n",
      " [ 974    0]\n",
      " [ 975    0]\n",
      " [ 976    0]\n",
      " [ 977    0]\n",
      " [ 978    1]\n",
      " [ 979    1]\n",
      " [ 980    1]\n",
      " [ 981    1]\n",
      " [ 982    1]\n",
      " [ 983    0]\n",
      " [ 984    1]\n",
      " [ 985    0]\n",
      " [ 986    1]\n",
      " [ 987    0]\n",
      " [ 988    1]\n",
      " [ 989    0]\n",
      " [ 990    1]\n",
      " [ 991    0]\n",
      " [ 992    1]\n",
      " [ 993    0]\n",
      " [ 994    0]\n",
      " [ 995    0]\n",
      " [ 996    1]\n",
      " [ 997    0]\n",
      " [ 998    0]\n",
      " [ 999    0]\n",
      " [1000    0]\n",
      " [1001    0]\n",
      " [1002    0]\n",
      " [1003    1]\n",
      " [1004    1]\n",
      " [1005    1]\n",
      " [1006    1]\n",
      " [1007    0]\n",
      " [1008    0]\n",
      " [1009    1]\n",
      " [1010    0]\n",
      " [1011    1]\n",
      " [1012    1]\n",
      " [1013    0]\n",
      " [1014    1]\n",
      " [1015    0]\n",
      " [1016    0]\n",
      " [1017    1]\n",
      " [1018    0]\n",
      " [1019    1]\n",
      " [1020    0]\n",
      " [1021    0]\n",
      " [1022    0]\n",
      " [1023    0]\n",
      " [1024    0]\n",
      " [1025    0]\n",
      " [1026    0]\n",
      " [1027    0]\n",
      " [1028    0]\n",
      " [1029    0]\n",
      " [1030    1]\n",
      " [1031    0]\n",
      " [1032    0]\n",
      " [1033    1]\n",
      " [1034    0]\n",
      " [1035    0]\n",
      " [1036    0]\n",
      " [1037    0]\n",
      " [1038    0]\n",
      " [1039    0]\n",
      " [1040    0]\n",
      " [1041    0]\n",
      " [1042    1]\n",
      " [1043    0]\n",
      " [1045    0]\n",
      " [1046    0]\n",
      " [1047    0]\n",
      " [1048    1]\n",
      " [1049    1]\n",
      " [1050    0]\n",
      " [1051    1]\n",
      " [1052    1]\n",
      " [1053    0]\n",
      " [1054    1]\n",
      " [1055    0]\n",
      " [1056    0]\n",
      " [1057    0]\n",
      " [1058    0]\n",
      " [1059    0]\n",
      " [1060    1]\n",
      " [1061    1]\n",
      " [1062    0]\n",
      " [1063    0]\n",
      " [1064    0]\n",
      " [1065    0]\n",
      " [1066    0]\n",
      " [1067    1]\n",
      " [1068    1]\n",
      " [1069    0]\n",
      " [1070    1]\n",
      " [1071    1]\n",
      " [1072    0]\n",
      " [1073    0]\n",
      " [1074    1]\n",
      " [1075    0]\n",
      " [1076    1]\n",
      " [1077    0]\n",
      " [1078    1]\n",
      " [1079    0]\n",
      " [1080    0]\n",
      " [1081    0]\n",
      " [1082    0]\n",
      " [1083    0]\n",
      " [1084    0]\n",
      " [1085    0]\n",
      " [1086    1]\n",
      " [1087    0]\n",
      " [1088    1]\n",
      " [1089    1]\n",
      " [1090    0]\n",
      " [1091    1]\n",
      " [1092    1]\n",
      " [1093    1]\n",
      " [1094    1]\n",
      " [1095    1]\n",
      " [1096    0]\n",
      " [1097    1]\n",
      " [1098    1]\n",
      " [1099    0]\n",
      " [1100    1]\n",
      " [1101    0]\n",
      " [1102    0]\n",
      " [1103    0]\n",
      " [1104    0]\n",
      " [1105    1]\n",
      " [1106    0]\n",
      " [1107    0]\n",
      " [1108    1]\n",
      " [1109    0]\n",
      " [1110    1]\n",
      " [1111    0]\n",
      " [1112    1]\n",
      " [1113    0]\n",
      " [1114    1]\n",
      " [1115    0]\n",
      " [1116    1]\n",
      " [1117    1]\n",
      " [1118    0]\n",
      " [1119    1]\n",
      " [1120    0]\n",
      " [1121    0]\n",
      " [1122    0]\n",
      " [1123    1]\n",
      " [1124    0]\n",
      " [1125    0]\n",
      " [1126    0]\n",
      " [1127    0]\n",
      " [1128    0]\n",
      " [1129    0]\n",
      " [1130    1]\n",
      " [1131    1]\n",
      " [1132    1]\n",
      " [1133    1]\n",
      " [1134    0]\n",
      " [1135    0]\n",
      " [1136    0]\n",
      " [1137    0]\n",
      " [1138    1]\n",
      " [1139    0]\n",
      " [1140    1]\n",
      " [1141    1]\n",
      " [1142    1]\n",
      " [1143    0]\n",
      " [1144    1]\n",
      " [1145    0]\n",
      " [1146    0]\n",
      " [1147    0]\n",
      " [1148    0]\n",
      " [1149    0]\n",
      " [1150    1]\n",
      " [1151    0]\n",
      " [1152    0]\n",
      " [1153    0]\n",
      " [1154    1]\n",
      " [1155    1]\n",
      " [1156    0]\n",
      " [1157    0]\n",
      " [1158    0]\n",
      " [1159    0]\n",
      " [1160    1]\n",
      " [1161    0]\n",
      " [1162    0]\n",
      " [1163    0]\n",
      " [1164    1]\n",
      " [1165    1]\n",
      " [1166    0]\n",
      " [1167    1]\n",
      " [1168    0]\n",
      " [1169    0]\n",
      " [1170    0]\n",
      " [1171    0]\n",
      " [1172    1]\n",
      " [1173    0]\n",
      " [1174    1]\n",
      " [1175    1]\n",
      " [1176    1]\n",
      " [1177    0]\n",
      " [1178    0]\n",
      " [1179    0]\n",
      " [1180    0]\n",
      " [1181    0]\n",
      " [1182    0]\n",
      " [1183    1]\n",
      " [1184    0]\n",
      " [1185    0]\n",
      " [1186    0]\n",
      " [1187    0]\n",
      " [1188    1]\n",
      " [1189    0]\n",
      " [1190    0]\n",
      " [1191    0]\n",
      " [1192    0]\n",
      " [1193    0]\n",
      " [1194    0]\n",
      " [1195    0]\n",
      " [1196    1]\n",
      " [1197    1]\n",
      " [1198    0]\n",
      " [1199    0]\n",
      " [1200    0]\n",
      " [1201    0]\n",
      " [1202    0]\n",
      " [1203    0]\n",
      " [1204    0]\n",
      " [1205    1]\n",
      " [1206    1]\n",
      " [1207    1]\n",
      " [1208    0]\n",
      " [1209    0]\n",
      " [1210    0]\n",
      " [1211    0]\n",
      " [1212    0]\n",
      " [1213    0]\n",
      " [1214    0]\n",
      " [1215    0]\n",
      " [1216    1]\n",
      " [1217    0]\n",
      " [1218    1]\n",
      " [1219    0]\n",
      " [1220    0]\n",
      " [1221    0]\n",
      " [1222    1]\n",
      " [1223    0]\n",
      " [1224    0]\n",
      " [1225    1]\n",
      " [1226    0]\n",
      " [1227    0]\n",
      " [1228    0]\n",
      " [1229    0]\n",
      " [1230    0]\n",
      " [1231    0]\n",
      " [1232    0]\n",
      " [1233    0]\n",
      " [1234    0]\n",
      " [1235    1]\n",
      " [1236    0]\n",
      " [1237    1]\n",
      " [1238    0]\n",
      " [1239    1]\n",
      " [1240    0]\n",
      " [1241    1]\n",
      " [1242    1]\n",
      " [1243    0]\n",
      " [1244    0]\n",
      " [1245    0]\n",
      " [1246    1]\n",
      " [1247    0]\n",
      " [1248    1]\n",
      " [1249    0]\n",
      " [1250    0]\n",
      " [1251    0]\n",
      " [1252    0]\n",
      " [1253    1]\n",
      " [1254    1]\n",
      " [1255    0]\n",
      " [1256    1]\n",
      " [1257    0]\n",
      " [1258    0]\n",
      " [1259    1]\n",
      " [1260    1]\n",
      " [1261    0]\n",
      " [1262    0]\n",
      " [1263    1]\n",
      " [1264    0]\n",
      " [1265    0]\n",
      " [1266    1]\n",
      " [1267    1]\n",
      " [1268    0]\n",
      " [1269    0]\n",
      " [1270    0]\n",
      " [1271    0]\n",
      " [1272    0]\n",
      " [1273    0]\n",
      " [1274    1]\n",
      " [1275    1]\n",
      " [1276    0]\n",
      " [1277    1]\n",
      " [1278    0]\n",
      " [1279    0]\n",
      " [1280    0]\n",
      " [1281    0]\n",
      " [1282    0]\n",
      " [1283    1]\n",
      " [1284    0]\n",
      " [1285    0]\n",
      " [1286    0]\n",
      " [1287    1]\n",
      " [1288    0]\n",
      " [1289    1]\n",
      " [1290    0]\n",
      " [1291    0]\n",
      " [1292    1]\n",
      " [1293    0]\n",
      " [1294    1]\n",
      " [1295    1]\n",
      " [1296    0]\n",
      " [1297    0]\n",
      " [1298    0]\n",
      " [1299    0]\n",
      " [1300    1]\n",
      " [1301    1]\n",
      " [1302    1]\n",
      " [1303    1]\n",
      " [1304    1]\n",
      " [1305    0]\n",
      " [1306    1]\n",
      " [1307    0]\n",
      " [1308    0]\n",
      " [1309    0]]\n"
     ]
    }
   ],
   "source": [
    "print(solution_to_submit)"
   ]
  },
  {
   "cell_type": "code",
   "execution_count": 116,
   "metadata": {},
   "outputs": [],
   "source": [
    "np.savetxt(\"Submission_one.csv\",solution_to_submit, delimiter=\",\")"
   ]
  }
 ],
 "metadata": {
  "kernelspec": {
   "display_name": "Python 3",
   "language": "python",
   "name": "python3"
  },
  "language_info": {
   "codemirror_mode": {
    "name": "ipython",
    "version": 3
   },
   "file_extension": ".py",
   "mimetype": "text/x-python",
   "name": "python",
   "nbconvert_exporter": "python",
   "pygments_lexer": "ipython3",
   "version": "3.6.4"
  }
 },
 "nbformat": 4,
 "nbformat_minor": 2
}
