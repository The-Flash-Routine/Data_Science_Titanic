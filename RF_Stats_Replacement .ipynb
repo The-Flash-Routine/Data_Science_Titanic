{
 "cells": [
  {
   "cell_type": "code",
   "execution_count": 33,
   "metadata": {},
   "outputs": [],
   "source": [
    "#for pandas\n",
    "import pandas as pd"
   ]
  },
  {
   "cell_type": "code",
   "execution_count": 34,
   "metadata": {},
   "outputs": [],
   "source": [
    "#for numpy\n",
    "import numpy as np"
   ]
  },
  {
   "cell_type": "code",
   "execution_count": 35,
   "metadata": {},
   "outputs": [],
   "source": [
    "#for visualization purpose\n",
    "import matplotlib.pyplot as plt\n",
    "import seaborn as sns"
   ]
  },
  {
   "cell_type": "code",
   "execution_count": 36,
   "metadata": {},
   "outputs": [],
   "source": [
    "import missingno as msno"
   ]
  },
  {
   "cell_type": "code",
   "execution_count": 37,
   "metadata": {},
   "outputs": [],
   "source": [
    "#for random forest from scikit learn\n",
    "from sklearn.ensemble import RandomForestClassifier\n",
    "from sklearn.model_selection import RandomizedSearchCV,GridSearchCV\n",
    "from sklearn.preprocessing import LabelEncoder"
   ]
  },
  {
   "cell_type": "code",
   "execution_count": 38,
   "metadata": {},
   "outputs": [],
   "source": [
    "def impute_other(data,yo1,yo2,survstats,deadstats,yos,yoc,yoq,fare_avg,istest=False):\n",
    "    if istest==True:\n",
    "        minus=1\n",
    "    else:\n",
    "        minus=0\n",
    "    #first processing Age column\n",
    "    nullind=data[\"Age\"].index[data[\"Age\"].apply(np.isnan)]\n",
    "    for i in nullind:\n",
    "      if data.iloc[i,1]==1:\n",
    "        data.iloc[i,5-minus]=float(yo1)\n",
    "      else:\n",
    "        data.iloc[i,5-minus]=float(yo2)\n",
    "    \n",
    "    #now dealing with sex column\n",
    "    #as it has no null values so we just replace male by 0 and female by 1\n",
    "    data.iloc[(data[\"Sex\"]==\"male\").ravel(),4-minus]=0\n",
    "    data.iloc[(data[\"Sex\"]==\"female\").ravel(),4-minus]=1\n",
    "    \n",
    "    #now dealing with Embarked column\n",
    "    #now we deal with null values and then we just replace by 0,1,-1\n",
    "    #checking for null values\n",
    "    if istest==False:\n",
    "      captain=['S','C','Q']\n",
    "      check=data[\"Embarked\"].isnull().sum()\n",
    "      if check!=0:\n",
    "        miss=pd.isna(data[\"Embarked\"])\n",
    "        for i in range(0,len(miss)):\n",
    "          if ((miss[i]==True)&(data.iloc[i,1]==1)):\n",
    "             data.iloc[i,11]=captain[np.argmax(survstats)]\n",
    "          elif ((miss[i]==True)&(data.iloc[i,1]==0)):\n",
    "             data.iloc[i,11]=captain[np.argmax(deadstats)]\n",
    "      \n",
    "    data.iloc[(data[\"Embarked\"]==\"C\").ravel(),11-minus]=float(yoc)\n",
    "    data.iloc[(data[\"Embarked\"]==\"Q\").ravel(),11-minus]=float(yoq)\n",
    "    data.iloc[(data[\"Embarked\"]==\"S\").ravel(),11-minus]=float(yos)\n",
    "    \n",
    "    #dealing with missing fare in test set\n",
    "    check=data[\"Fare\"].isnull().sum()\n",
    "    if check!=0:\n",
    "        miss=data[\"Fare\"].index[data[\"Fare\"].apply(np.isnan)]\n",
    "        for i in miss:\n",
    "            data.iloc[i,9-minus]=fare_avg\n",
    "    \n",
    "    #converting columns to float\n",
    "    if istest==False:\n",
    "      data[\"Survived\"]=data[\"Survived\"].astype(float)\n",
    "    \n",
    "    data[\"Pclass\"]=data[\"Pclass\"].astype(float)\n",
    "    data[\"Sex\"]=data[\"Sex\"].astype(float)\n",
    "    data[\"Age\"]=data[\"Age\"].astype(float)\n",
    "    data[\"SibSp\"]=data[\"SibSp\"].astype(float)\n",
    "    data[\"Parch\"]=data[\"Parch\"].astype(float)\n",
    "    data[\"Fare\"]=data[\"Fare\"].astype(float)\n",
    "    data[\"Embarked\"]=data[\"Embarked\"].astype(float)\n",
    "\n",
    "    \n",
    "    return data"
   ]
  },
  {
   "cell_type": "code",
   "execution_count": 39,
   "metadata": {},
   "outputs": [],
   "source": [
    "def impute_own(data):\n",
    "    #first processing Age column\n",
    "    surv=((data[\"Survived\"]==1)&(data[\"Age\"].notnull())).ravel()\n",
    "    dead=((data[\"Survived\"]==0)&(data[\"Age\"].notnull())).ravel()\n",
    "    hey=np.array(data.iloc[surv,5])\n",
    "    heyo=np.array(data.iloc[dead,5])\n",
    "    plt.subplot(1,2,1)\n",
    "    ax1=sns.distplot(hey,bins=25)\n",
    "    plt.subplot(1,2,2)\n",
    "    ax2=sns.distplot(heyo,bins=25)\n",
    "    x1,y1=ax1.lines[0].get_data()\n",
    "    x2,y2=ax2.lines[0].get_data()\n",
    "    yo1=x1[np.argmax(y1)]\n",
    "    yo2=x2[np.argmax(y2)]\n",
    "    if data[\"Age\"].isnull().sum()!=0:\n",
    "      nullind=data[\"Age\"].index[data[\"Age\"].apply(np.isnan)]\n",
    "      for i in nullind:\n",
    "        if data.iloc[i,1]==1:\n",
    "          data.iloc[i,5]=float(yo1)\n",
    "        else:\n",
    "          data.iloc[i,5]=float(yo2)\n",
    "    \n",
    "    #now dealing with sex column\n",
    "    #as it has no null values so we just replace male by 0 and female by 1\n",
    "    data.iloc[(data[\"Sex\"]==\"male\").ravel(),4]=0\n",
    "    data.iloc[(data[\"Sex\"]==\"female\").ravel(),4]=1\n",
    "    \n",
    "    #now dealing with Embarked column\n",
    "    #now we deal with null values and then we just replace by 0,1,-1\n",
    "    #checking for null values\n",
    "    surv=data.iloc[((data[\"Survived\"]==1)&(data[\"Embarked\"].notnull())).ravel(),11]\n",
    "    heys=surv.value_counts()\n",
    "    dead=data.iloc[((data[\"Survived\"]==0)&(data[\"Embarked\"].notnull())).ravel(),11]\n",
    "    heyd=dead.value_counts()\n",
    "    ss=heys[\"S\"]\n",
    "    cs=heys[\"C\"]\n",
    "    qs=heys[\"Q\"]\n",
    "    sd=heyd[\"S\"]\n",
    "    cd=heyd[\"C\"]\n",
    "    qd=heyd[\"Q\"]\n",
    "    survstats=[ss,cs,qs]\n",
    "    deadstats=[sd,cd,qd]\n",
    "    captain=['S','C','Q']\n",
    "    yos=ss/(ss+sd)\n",
    "    yoc=cs/(cs+cd)\n",
    "    yoq=qs/(qs+qd)\n",
    "    check=data[\"Embarked\"].isnull().sum()\n",
    "    if check!=0:\n",
    "      miss=pd.isna(data[\"Embarked\"])\n",
    "      for i in range(0,len(miss)):\n",
    "        if ((miss[i]==True)&(data.iloc[i,1]==1)):\n",
    "           data.iloc[i,11]=captain[np.argmax(survstats)]\n",
    "        elif ((miss[i]==True)&(data.iloc[i,1]==0)):\n",
    "           data.iloc[i,11]=captain[np.argmax(deadstats)]\n",
    "      \n",
    "    data.iloc[(data[\"Embarked\"]==\"C\").ravel(),11]=float(yoc)\n",
    "    data.iloc[(data[\"Embarked\"]==\"Q\").ravel(),11]=float(yoq)\n",
    "    data.iloc[(data[\"Embarked\"]==\"S\").ravel(),11]=float(yos)\n",
    "    \n",
    "    #dealing with missing fare in test set\n",
    "    fare_avg=(1/data.shape[0])*(data[\"Fare\"].sum())\n",
    "    \n",
    "    #converting columns to float\n",
    "    data[\"Survived\"]=data[\"Survived\"].astype(float)\n",
    "    data[\"Pclass\"]=data[\"Pclass\"].astype(float)\n",
    "    data[\"Sex\"]=data[\"Sex\"].astype(float)\n",
    "    data[\"Age\"]=data[\"Age\"].astype(float)\n",
    "    data[\"SibSp\"]=data[\"SibSp\"].astype(float)\n",
    "    data[\"Parch\"]=data[\"Parch\"].astype(float)\n",
    "    data[\"Fare\"]=data[\"Fare\"].astype(float)\n",
    "    data[\"Embarked\"]=data[\"Embarked\"].astype(float)\n",
    "\n",
    "    \n",
    "    return data,yo1,yo2,survstats,deadstats,yos,yoc,yoq,fare_avg"
   ]
  },
  {
   "cell_type": "code",
   "execution_count": 40,
   "metadata": {},
   "outputs": [],
   "source": [
    "def output_test(rf,x,filename):\n",
    "    y=np.array(rf.predict(x)).reshape(-1,1)\n",
    "    hey=np.arange(892,1310,1).reshape(-1,1)\n",
    "    filename=filename+\".csv\"\n",
    "    hey=np.hstack((hey,y))\n",
    "    np.savetxt(filename,hey,header=\"PassengerId,Survived\",delimiter=',')"
   ]
  },
  {
   "cell_type": "code",
   "execution_count": 41,
   "metadata": {},
   "outputs": [],
   "source": [
    "dfl=\"C:/Users/Ritik/Desktop/Projects_Flash/Titanic_/train.csv\""
   ]
  },
  {
   "cell_type": "code",
   "execution_count": 42,
   "metadata": {},
   "outputs": [],
   "source": [
    "datatrain=pd.read_csv(dfl,header=0)"
   ]
  },
  {
   "cell_type": "code",
   "execution_count": 43,
   "metadata": {},
   "outputs": [],
   "source": [
    "dfl=\"C:/Users/Ritik/Desktop/Projects_Flash/Titanic_/test.csv\""
   ]
  },
  {
   "cell_type": "code",
   "execution_count": 44,
   "metadata": {},
   "outputs": [],
   "source": [
    "datatest=pd.read_csv(dfl,header=0)"
   ]
  },
  {
   "cell_type": "code",
   "execution_count": 45,
   "metadata": {},
   "outputs": [
    {
     "name": "stdout",
     "output_type": "stream",
     "text": [
      "['Age', 'Cabin', 'Embarked']\n"
     ]
    },
    {
     "data": {
      "text/plain": [
       "<matplotlib.axes._subplots.AxesSubplot at 0x281ee1a0748>"
      ]
     },
     "execution_count": 45,
     "metadata": {},
     "output_type": "execute_result"
    },
    {
     "data": {
      "image/png": "[encoded data removed]",
      "text/plain": [
       "<matplotlib.figure.Figure at 0x281ee16d400>"
      ]
     },
     "metadata": {},
     "output_type": "display_data"
    }
   ],
   "source": [
    "col_with_miss=datatrain.columns[datatrain.isnull().any()].tolist()\n",
    "print(col_with_miss)\n",
    "msno.matrix(datatrain[col_with_miss])"
   ]
  },
  {
   "cell_type": "code",
   "execution_count": 46,
   "metadata": {},
   "outputs": [
    {
     "name": "stdout",
     "output_type": "stream",
     "text": [
      "['Age', 'Fare', 'Cabin']\n"
     ]
    },
    {
     "data": {
      "text/plain": [
       "<matplotlib.axes._subplots.AxesSubplot at 0x281ee21fa90>"
      ]
     },
     "execution_count": 46,
     "metadata": {},
     "output_type": "execute_result"
    },
    {
     "data": {
      "image/png": "[encoded data removed]",
      "text/plain": [
       "<matplotlib.figure.Figure at 0x281ee1eddd8>"
      ]
     },
     "metadata": {},
     "output_type": "display_data"
    }
   ],
   "source": [
    "col_with_miss=datatest.columns[datatest.isnull().any()].tolist()\n",
    "print(col_with_miss)\n",
    "msno.matrix(datatest[col_with_miss])"
   ]
  },
  {
   "cell_type": "code",
   "execution_count": 47,
   "metadata": {},
   "outputs": [
    {
     "data": {
      "text/plain": [
       "<matplotlib.axes._subplots.AxesSubplot at 0x281ee1ac780>"
      ]
     },
     "execution_count": 47,
     "metadata": {},
     "output_type": "execute_result"
    },
    {
     "data": {
      "image/png": "[encoded data removed]",
      "text/plain": [
       "<matplotlib.figure.Figure at 0x281ee22ad68>"
      ]
     },
     "metadata": {},
     "output_type": "display_data"
    }
   ],
   "source": [
    "colnames=datatrain.columns.values\n",
    "misscount=[datatrain[x].isnull().sum() for x in colnames]\n",
    "sns.set()\n",
    "plt.figure(figsize=(15,5))\n",
    "sns.barplot(colnames,misscount)"
   ]
  },
  {
   "cell_type": "code",
   "execution_count": 48,
   "metadata": {},
   "outputs": [
    {
     "data": {
      "text/plain": [
       "PassengerId      0\n",
       "Survived         0\n",
       "Pclass           0\n",
       "Name             0\n",
       "Sex              0\n",
       "Age            177\n",
       "SibSp            0\n",
       "Parch            0\n",
       "Ticket           0\n",
       "Fare             0\n",
       "Cabin          687\n",
       "Embarked         2\n",
       "dtype: int64"
      ]
     },
     "execution_count": 48,
     "metadata": {},
     "output_type": "execute_result"
    }
   ],
   "source": [
    "datatrain.isnull().sum(axis=0)"
   ]
  },
  {
   "cell_type": "code",
   "execution_count": 49,
   "metadata": {},
   "outputs": [
    {
     "data": {
      "text/plain": [
       "<Container object of 11 artists>"
      ]
     },
     "execution_count": 49,
     "metadata": {},
     "output_type": "execute_result"
    },
    {
     "data": {
      "image/png": "[encoded data removed]",
      "text/plain": [
       "<matplotlib.figure.Figure at 0x281ee67ca20>"
      ]
     },
     "metadata": {},
     "output_type": "display_data"
    }
   ],
   "source": [
    "plt.figure(figsize=(15,5))\n",
    "plt.barh(datatest.columns.values,datatest.isnull().sum())"
   ]
  },
  {
   "cell_type": "code",
   "execution_count": 50,
   "metadata": {},
   "outputs": [
    {
     "data": {
      "text/plain": [
       "PassengerId      0\n",
       "Pclass           0\n",
       "Name             0\n",
       "Sex              0\n",
       "Age             86\n",
       "SibSp            0\n",
       "Parch            0\n",
       "Ticket           0\n",
       "Fare             1\n",
       "Cabin          327\n",
       "Embarked         0\n",
       "dtype: int64"
      ]
     },
     "execution_count": 50,
     "metadata": {},
     "output_type": "execute_result"
    }
   ],
   "source": [
    "datatest.isnull().sum(axis=0)"
   ]
  },
  {
   "cell_type": "code",
   "execution_count": 51,
   "metadata": {},
   "outputs": [
    {
     "name": "stdout",
     "output_type": "stream",
     "text": [
      "0   PassengerId\n",
      "1   Survived\n",
      "2   Pclass\n",
      "3   Name\n",
      "4   Sex\n",
      "5   Age\n",
      "6   SibSp\n",
      "7   Parch\n",
      "8   Ticket\n",
      "9   Fare\n",
      "10   Cabin\n",
      "11   Embarked\n"
     ]
    }
   ],
   "source": [
    "colnames=datatrain.columns.values\n",
    "for i in range(0,len(colnames)):\n",
    "    print(\"%d   %s\"%(i,colnames[i]))"
   ]
  },
  {
   "cell_type": "code",
   "execution_count": 52,
   "metadata": {},
   "outputs": [
    {
     "name": "stdout",
     "output_type": "stream",
     "text": [
      "0   PassengerId\n",
      "1   Pclass\n",
      "2   Name\n",
      "3   Sex\n",
      "4   Age\n",
      "5   SibSp\n",
      "6   Parch\n",
      "7   Ticket\n",
      "8   Fare\n",
      "9   Cabin\n",
      "10   Embarked\n"
     ]
    }
   ],
   "source": [
    "colnames=datatest.columns.values\n",
    "for i in range(0,len(colnames)):\n",
    "    print(\"%d   %s\"%(i,colnames[i]))"
   ]
  },
  {
   "cell_type": "markdown",
   "metadata": {},
   "source": [
    "So,\n",
    "\n",
    "- Age column has 177 null values\n",
    "- Cabin has 687 null values\n",
    "- Embarked has 2 null values\n",
    "- Convert Embarked column to some numeric type\n",
    "- Convert Sex column to some numeric type\n",
    "- Convert every nueric column in use to float type"
   ]
  },
  {
   "cell_type": "code",
   "execution_count": 53,
   "metadata": {},
   "outputs": [],
   "source": [
    "listy=[2,4,5,6,7,9,11]\n",
    "listu=np.array(listy)-1"
   ]
  },
  {
   "cell_type": "markdown",
   "metadata": {},
   "source": [
    "Here we will use Random Forest Model"
   ]
  },
  {
   "cell_type": "code",
   "execution_count": 54,
   "metadata": {},
   "outputs": [
    {
     "data": {
      "image/png": "[encoded data removed]",
      "text/plain": [
       "<matplotlib.figure.Figure at 0x281ee6ee2b0>"
      ]
     },
     "metadata": {},
     "output_type": "display_data"
    }
   ],
   "source": [
    "datatrain_new,yo1,yo2,survstats,deadstats,yos,yoc,yoq,fare_avg=impute_own(datatrain)"
   ]
  },
  {
   "cell_type": "code",
   "execution_count": 55,
   "metadata": {},
   "outputs": [],
   "source": [
    "datatest_new=impute_other(datatest,yo1,yo2,survstats,deadstats,yos,yoc,yoq,fare_avg,True)"
   ]
  },
  {
   "cell_type": "code",
   "execution_count": 57,
   "metadata": {},
   "outputs": [
    {
     "data": {
      "text/plain": [
       "PassengerId      int64\n",
       "Survived       float64\n",
       "Pclass         float64\n",
       "Name            object\n",
       "Sex            float64\n",
       "Age            float64\n",
       "SibSp          float64\n",
       "Parch          float64\n",
       "Ticket          object\n",
       "Fare           float64\n",
       "Cabin           object\n",
       "Embarked       float64\n",
       "dtype: object"
      ]
     },
     "execution_count": 57,
     "metadata": {},
     "output_type": "execute_result"
    }
   ],
   "source": [
    "datatrain_new.dtypes"
   ]
  },
  {
   "cell_type": "code",
   "execution_count": 58,
   "metadata": {},
   "outputs": [
    {
     "data": {
      "text/plain": [
       "PassengerId      int64\n",
       "Pclass         float64\n",
       "Name            object\n",
       "Sex            float64\n",
       "Age            float64\n",
       "SibSp          float64\n",
       "Parch          float64\n",
       "Ticket          object\n",
       "Fare           float64\n",
       "Cabin           object\n",
       "Embarked       float64\n",
       "dtype: object"
      ]
     },
     "execution_count": 58,
     "metadata": {},
     "output_type": "execute_result"
    }
   ],
   "source": [
    "datatest_new.dtypes"
   ]
  },
  {
   "cell_type": "code",
   "execution_count": 24,
   "metadata": {},
   "outputs": [],
   "source": [
    "xtrain=np.array(datatrain_new.iloc[:,listy])\n",
    "ytrain=np.array(datatrain_new.iloc[:,1]).reshape(-1,1)\n",
    "xtest=np.array(datatest_new.iloc[:,listu])"
   ]
  },
  {
   "cell_type": "markdown",
   "metadata": {},
   "source": [
    "Now implementing Random Forest model\n",
    "\n",
    "First we will use RandomizedSearchCV"
   ]
  },
  {
   "cell_type": "code",
   "execution_count": 25,
   "metadata": {},
   "outputs": [
    {
     "data": {
      "text/plain": [
       "<bound method BaseEstimator.get_params of RandomForestClassifier(bootstrap=True, class_weight=None, criterion='gini',\n",
       "            max_depth=None, max_features='auto', max_leaf_nodes=None,\n",
       "            min_impurity_decrease=0.0, min_impurity_split=None,\n",
       "            min_samples_leaf=1, min_samples_split=2,\n",
       "            min_weight_fraction_leaf=0.0, n_estimators=10, n_jobs=1,\n",
       "            oob_score=False, random_state=None, verbose=0,\n",
       "            warm_start=False)>"
      ]
     },
     "execution_count": 25,
     "metadata": {},
     "output_type": "execute_result"
    }
   ],
   "source": [
    "rf=RandomForestClassifier()\n",
    "rf.get_params"
   ]
  },
  {
   "cell_type": "code",
   "execution_count": 26,
   "metadata": {},
   "outputs": [],
   "source": [
    "params_try={\"n_estimators\":[int(i) for i in np.linspace(10,200,30)],  \n",
    "            \"max_depth\":[int(i) for i in np.linspace(10, 110,30)], \n",
    "            \"min_samples_split\":[2,5,10,15,20,25,30], \n",
    "            \"min_samples_leaf\":[int(i) for i in np.linspace(1,50,30)], \n",
    "            \"max_features\":['auto','sqrt'],  \n",
    "            \"bootstrap\":[True,False],   \n",
    "            }"
   ]
  },
  {
   "cell_type": "code",
   "execution_count": 27,
   "metadata": {},
   "outputs": [
    {
     "name": "stdout",
     "output_type": "stream",
     "text": [
      "Fitting 5 folds for each of 700 candidates, totalling 3500 fits\n"
     ]
    },
    {
     "name": "stderr",
     "output_type": "stream",
     "text": [
      "[Parallel(n_jobs=-1)]: Done  33 tasks      | elapsed:    4.9s\n",
      "[Parallel(n_jobs=-1)]: Done 154 tasks      | elapsed:   17.1s\n",
      "[Parallel(n_jobs=-1)]: Done 357 tasks      | elapsed:   38.9s\n",
      "[Parallel(n_jobs=-1)]: Done 658 tasks      | elapsed:  1.4min\n",
      "[Parallel(n_jobs=-1)]: Done 1023 tasks      | elapsed:  3.4min\n",
      "[Parallel(n_jobs=-1)]: Done 1468 tasks      | elapsed:  5.2min\n",
      "[Parallel(n_jobs=-1)]: Done 1995 tasks      | elapsed:  7.8min\n",
      "[Parallel(n_jobs=-1)]: Done 2602 tasks      | elapsed: 10.2min\n",
      "[Parallel(n_jobs=-1)]: Done 3291 tasks      | elapsed: 12.9min\n",
      "[Parallel(n_jobs=-1)]: Done 3500 out of 3500 | elapsed: 13.9min finished\n"
     ]
    }
   ],
   "source": [
    "random_search=RandomizedSearchCV(rf,param_distributions=params_try,n_iter=700,cv=5,verbose=2,random_state=91,n_jobs=-1)\n",
    "random_search=random_search.fit(xtrain,ytrain.ravel())"
   ]
  },
  {
   "cell_type": "code",
   "execution_count": 59,
   "metadata": {},
   "outputs": [
    {
     "name": "stdout",
     "output_type": "stream",
     "text": [
      "{'n_estimators': 16, 'min_samples_split': 2, 'min_samples_leaf': 2, 'max_features': 'sqrt', 'max_depth': 27, 'bootstrap': True}\n"
     ]
    }
   ],
   "source": [
    "best_random_params=random_search.best_params_\n",
    "print(best_random_params)"
   ]
  },
  {
   "cell_type": "code",
   "execution_count": 29,
   "metadata": {},
   "outputs": [],
   "source": [
    "#features selected by random estimation\n",
    "ran_n_estimators=best_random_params[\"n_estimators\"]\n",
    "ran_min_samples_split=best_random_params[\"min_samples_split\"]\n",
    "ran_min_samples_leaf=best_random_params[\"min_samples_leaf\"]\n",
    "ran_max_features=best_random_params[\"max_features\"]\n",
    "ran_max_depth=best_random_params[\"max_depth\"]\n",
    "ran_bootstrap=best_random_params[\"bootstrap\"]"
   ]
  },
  {
   "cell_type": "code",
   "execution_count": 30,
   "metadata": {},
   "outputs": [
    {
     "name": "stdout",
     "output_type": "stream",
     "text": [
      "RandomForestClassifier(bootstrap=True, class_weight=None, criterion='gini',\n",
      "            max_depth=None, max_features='auto', max_leaf_nodes=None,\n",
      "            min_impurity_decrease=0.0, min_impurity_split=None,\n",
      "            min_samples_leaf=1, min_samples_split=2,\n",
      "            min_weight_fraction_leaf=0.0, n_estimators=10, n_jobs=1,\n",
      "            oob_score=False, random_state=None, verbose=0,\n",
      "            warm_start=False)\n"
     ]
    }
   ],
   "source": [
    "rf=RandomForestClassifier()\n",
    "print(rf)"
   ]
  },
  {
   "cell_type": "code",
   "execution_count": 66,
   "metadata": {},
   "outputs": [],
   "source": [
    "params_try={\"n_estimators\":[int(i) for i in np.linspace(ran_n_estimators-10,ran_n_estimators+20,30)],  \n",
    "            \"max_depth\":[int(i) for i in np.linspace(ran_max_depth-10,ran_max_depth+10,20)], \n",
    "            \"min_samples_split\":[int(i) for i in np.linspace(ran_min_samples_split,ran_min_samples_split+10,5)], \n",
    "            \"min_samples_leaf\":[int(i) for i in np.linspace(ran_min_samples_leaf,ran_min_samples_leaf+20,10)], \n",
    "            \"max_features\":[ran_max_features],\n",
    "            \"bootstrap\":[ran_bootstrap]   \n",
    "            }"
   ]
  },
  {
   "cell_type": "code",
   "execution_count": 67,
   "metadata": {},
   "outputs": [
    {
     "name": "stdout",
     "output_type": "stream",
     "text": [
      "Fitting 3 folds for each of 30000 candidates, totalling 90000 fits\n"
     ]
    },
    {
     "name": "stderr",
     "output_type": "stream",
     "text": [
      "[Parallel(n_jobs=-1)]: Done  36 tasks      | elapsed:    2.6s\n",
      "[Parallel(n_jobs=-1)]: Done 278 tasks      | elapsed:    7.8s\n",
      "[Parallel(n_jobs=-1)]: Done 698 tasks      | elapsed:   16.0s\n",
      "[Parallel(n_jobs=-1)]: Done 1830 tasks      | elapsed:   38.0s\n",
      "[Parallel(n_jobs=-1)]: Done 3290 tasks      | elapsed:  1.1min\n",
      "[Parallel(n_jobs=-1)]: Done 5070 tasks      | elapsed:  1.7min\n",
      "[Parallel(n_jobs=-1)]: Done 7178 tasks      | elapsed:  2.6min\n",
      "[Parallel(n_jobs=-1)]: Done 8592 tasks      | elapsed:  3.7min\n",
      "[Parallel(n_jobs=-1)]: Done 9970 tasks      | elapsed:  5.0min\n",
      "[Parallel(n_jobs=-1)]: Done 11508 tasks      | elapsed:  6.5min\n",
      "[Parallel(n_jobs=-1)]: Done 13210 tasks      | elapsed:  8.2min\n",
      "[Parallel(n_jobs=-1)]: Done 15072 tasks      | elapsed: 10.0min\n",
      "[Parallel(n_jobs=-1)]: Done 17098 tasks      | elapsed: 11.5min\n",
      "[Parallel(n_jobs=-1)]: Done 19284 tasks      | elapsed: 13.5min\n",
      "[Parallel(n_jobs=-1)]: Done 21634 tasks      | elapsed: 15.6min\n",
      "[Parallel(n_jobs=-1)]: Done 24144 tasks      | elapsed: 17.8min\n",
      "[Parallel(n_jobs=-1)]: Done 26233 tasks      | elapsed: 20.1min\n",
      "[Parallel(n_jobs=-1)]: Done 27650 tasks      | elapsed: 21.5min\n",
      "[Parallel(n_jobs=-1)]: Done 29149 tasks      | elapsed: 23.1min\n",
      "[Parallel(n_jobs=-1)]: Done 32001 tasks      | elapsed: 25.7min\n",
      "[Parallel(n_jobs=-1)]: Done 35323 tasks      | elapsed: 28.1min\n",
      "[Parallel(n_jobs=-1)]: Done 38434 tasks      | elapsed: 30.8min\n",
      "[Parallel(n_jobs=-1)]: Done 42080 tasks      | elapsed: 34.2min\n",
      "[Parallel(n_jobs=-1)]: Done 45886 tasks      | elapsed: 37.0min\n",
      "[Parallel(n_jobs=-1)]: Done 49663 tasks      | elapsed: 40.3min\n",
      "[Parallel(n_jobs=-1)]: Done 52786 tasks      | elapsed: 43.3min\n",
      "[Parallel(n_jobs=-1)]: Done 57688 tasks      | elapsed: 47.0min\n",
      "[Parallel(n_jobs=-1)]: Done 62242 tasks      | elapsed: 51.1min\n",
      "[Parallel(n_jobs=-1)]: Done 66860 tasks      | elapsed: 55.6min\n",
      "[Parallel(n_jobs=-1)]: Done 70024 tasks      | elapsed: 59.0min\n",
      "[Parallel(n_jobs=-1)]: Done 74954 tasks      | elapsed: 63.7min\n",
      "[Parallel(n_jobs=-1)]: Done 78602 tasks      | elapsed: 67.6min\n",
      "[Parallel(n_jobs=-1)]: Done 83047 tasks      | elapsed: 71.8min\n",
      "[Parallel(n_jobs=-1)]: Done 88473 tasks      | elapsed: 76.1min\n",
      "[Parallel(n_jobs=-1)]: Done 89993 out of 90000 | elapsed: 77.8min remaining:    0.3s\n",
      "[Parallel(n_jobs=-1)]: Done 90000 out of 90000 | elapsed: 77.8min finished\n"
     ]
    },
    {
     "data": {
      "text/plain": [
       "GridSearchCV(cv=3, error_score='raise',\n",
       "       estimator=RandomForestClassifier(bootstrap=True, class_weight=None, criterion='gini',\n",
       "            max_depth=None, max_features='auto', max_leaf_nodes=None,\n",
       "            min_impurity_decrease=0.0, min_impurity_split=None,\n",
       "            min_samples_leaf=1, min_samples_split=2,\n",
       "            min_weight_fraction_leaf=0.0, n_estimators=10, n_jobs=1,\n",
       "            oob_score=False, random_state=None, verbose=0,\n",
       "            warm_start=False),\n",
       "       fit_params=None, iid=True, n_jobs=-1,\n",
       "       param_grid={'n_estimators': [6, 7, 8, 9, 10, 11, 12, 13, 14, 15, 16, 17, 18, 19, 20, 21, 22, 23, 24, 25, 26, 27, 28, 29, 30, 31, 32, 33, 34, 36], 'max_depth': [17, 18, 19, 20, 21, 22, 23, 24, 25, 26, 27, 28, 29, 30, 31, 32, 33, 34, 35, 37], 'min_samples_split': [2, 4, 7, 9, 12], 'min_samples_leaf': [2, 4, 6, 8, 10, 13, 15, 17, 19, 22], 'max_features': ['sqrt'], 'bootstrap': [True]},\n",
       "       pre_dispatch='2*n_jobs', refit=True, return_train_score='warn',\n",
       "       scoring=None, verbose=2)"
      ]
     },
     "execution_count": 67,
     "metadata": {},
     "output_type": "execute_result"
    }
   ],
   "source": [
    "grid_search=GridSearchCV(rf,param_grid=params_try,cv=3,n_jobs=-1,verbose = 2)\n",
    "grid_search.fit(xtrain,ytrain.ravel())"
   ]
  },
  {
   "cell_type": "code",
   "execution_count": 68,
   "metadata": {},
   "outputs": [
    {
     "name": "stdout",
     "output_type": "stream",
     "text": [
      "{'bootstrap': True, 'max_depth': 31, 'max_features': 'sqrt', 'min_samples_leaf': 2, 'min_samples_split': 7, 'n_estimators': 16}\n"
     ]
    }
   ],
   "source": [
    "grid_best_params=grid_search.best_params_\n",
    "print(grid_best_params)\n",
    "best_rf_grid=grid_search.best_estimator_"
   ]
  },
  {
   "cell_type": "code",
   "execution_count": 69,
   "metadata": {},
   "outputs": [],
   "source": [
    "output_test(best_rf_grid,xtest,\"RF_stats_submission_two\")"
   ]
  },
  {
   "cell_type": "code",
   "execution_count": null,
   "metadata": {},
   "outputs": [],
   "source": []
  }
 ],
 "metadata": {
  "kernelspec": {
   "display_name": "Python 3",
   "language": "python",
   "name": "python3"
  },
  "language_info": {
   "codemirror_mode": {
    "name": "ipython",
    "version": 3
   },
   "file_extension": ".py",
   "mimetype": "text/x-python",
   "name": "python",
   "nbconvert_exporter": "python",
   "pygments_lexer": "ipython3",
   "version": "3.6.4"
  }
 },
 "nbformat": 4,
 "nbformat_minor": 2
}
